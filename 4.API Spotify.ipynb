{
 "cells": [
  {
   "cell_type": "code",
   "execution_count": 0,
   "metadata": {
    "application/vnd.databricks.v1+cell": {
     "cellMetadata": {
      "byteLimit": 2048000,
      "rowLimit": 10000
     },
     "inputWidgets": {},
     "nuid": "58423171-97c6-4677-99c2-79d26f7f4ffa",
     "showTitle": false,
     "title": ""
    }
   },
   "outputs": [
    {
     "output_type": "stream",
     "name": "stdout",
     "output_type": "stream",
     "text": [
      "Collecting spotipy\r\n  Downloading spotipy-2.23.0-py3-none-any.whl (29 kB)\r\nRequirement already satisfied: urllib3>=1.26.0 in /databricks/python3/lib/python3.9/site-packages (from spotipy) (1.26.9)\r\nRequirement already satisfied: six>=1.15.0 in /databricks/python3/lib/python3.9/site-packages (from spotipy) (1.16.0)\r\nCollecting redis>=3.5.3\r\n  Downloading redis-5.0.3-py3-none-any.whl (251 kB)\r\n\u001B[?25l\r\u001B[K     |█▎                              | 10 kB 29.3 MB/s eta 0:00:01\r\u001B[K     |██▋                             | 20 kB 21.7 MB/s eta 0:00:01\r\u001B[K     |████                            | 30 kB 26.6 MB/s eta 0:00:01\r\u001B[K     |█████▏                          | 40 kB 15.6 MB/s eta 0:00:01\r\u001B[K     |██████▌                         | 51 kB 6.5 MB/s eta 0:00:01\r\u001B[K     |███████▉                        | 61 kB 7.6 MB/s eta 0:00:01\r\u001B[K     |█████████                       | 71 kB 8.6 MB/s eta 0:00:01\r\u001B[K     |██████████▍                     | 81 kB 9.6 MB/s eta 0:00:01\r\u001B[K     |███████████▊                    | 92 kB 9.8 MB/s eta 0:00:01\r\u001B[K     |█████████████                   | 102 kB 10.6 MB/s eta 0:00:01\r\u001B[K     |██████████████▎                 | 112 kB 10.6 MB/s eta 0:00:01\r\u001B[K     |███████████████▋                | 122 kB 10.6 MB/s eta 0:00:01\r\u001B[K     |█████████████████               | 133 kB 10.6 MB/s eta 0:00:01\r\u001B[K     |██████████████████▏             | 143 kB 10.6 MB/s eta 0:00:01\r\u001B[K     |███████████████████▌            | 153 kB 10.6 MB/s eta 0:00:01\r\u001B[K     |████████████████████▉           | 163 kB 10.6 MB/s eta 0:00:01\r\u001B[K     |██████████████████████▏         | 174 kB 10.6 MB/s eta 0:00:01\r\u001B[K     |███████████████████████▍        | 184 kB 10.6 MB/s eta 0:00:01\r\u001B[K     |████████████████████████▊       | 194 kB 10.6 MB/s eta 0:00:01\r\u001B[K     |██████████████████████████      | 204 kB 10.6 MB/s eta 0:00:01\r\u001B[K     |███████████████████████████▎    | 215 kB 10.6 MB/s eta 0:00:01\r\u001B[K     |████████████████████████████▋   | 225 kB 10.6 MB/s eta 0:00:01\r\u001B[K     |██████████████████████████████  | 235 kB 10.6 MB/s eta 0:00:01\r\u001B[K     |███████████████████████████████▎| 245 kB 10.6 MB/s eta 0:00:01\r\u001B[K     |████████████████████████████████| 251 kB 10.6 MB/s \r\n\u001B[?25hRequirement already satisfied: requests>=2.25.0 in /databricks/python3/lib/python3.9/site-packages (from spotipy) (2.27.1)\r\nCollecting async-timeout>=4.0.3\r\n  Downloading async_timeout-4.0.3-py3-none-any.whl (5.7 kB)\r\nRequirement already satisfied: idna<4,>=2.5 in /databricks/python3/lib/python3.9/site-packages (from requests>=2.25.0->spotipy) (3.3)\r\nRequirement already satisfied: charset-normalizer~=2.0.0 in /databricks/python3/lib/python3.9/site-packages (from requests>=2.25.0->spotipy) (2.0.4)\r\nRequirement already satisfied: certifi>=2017.4.17 in /databricks/python3/lib/python3.9/site-packages (from requests>=2.25.0->spotipy) (2021.10.8)\r\nInstalling collected packages: async-timeout, redis, spotipy\r\nSuccessfully installed async-timeout-4.0.3 redis-5.0.3 spotipy-2.23.0\r\n\u001B[33mWARNING: You are using pip version 21.2.4; however, version 24.0 is available.\r\nYou should consider upgrading via the '/local_disk0/.ephemeral_nfs/envs/pythonEnv-98591cc9-b880-42aa-88a3-7ea0ccd9a8bd/bin/python -m pip install --upgrade pip' command.\u001B[0m\r\n"
     ]
    }
   ],
   "source": [
    "!pip install spotipy"
   ]
  },
  {
   "cell_type": "code",
   "execution_count": 0,
   "metadata": {
    "application/vnd.databricks.v1+cell": {
     "cellMetadata": {
      "byteLimit": 2048000,
      "rowLimit": 10000
     },
     "inputWidgets": {},
     "nuid": "2197131f-b358-426b-aac2-0a141a5320f4",
     "showTitle": false,
     "title": ""
    }
   },
   "outputs": [
    {
     "output_type": "display_data",
     "data": {
      "application/vnd.databricks.v1+bamboolib_hint": "{\"pd.DataFrames\": [], \"version\": \"0.0.1\"}",
      "text/plain": []
     },
     "metadata": {},
     "output_type": "display_data"
    }
   ],
   "source": [
    "import spotipy\n",
    "from spotipy.oauth2 import SpotifyClientCredentials\n",
    "import urllib.request\n",
    "import json\n",
    "import pandas as pd"
   ]
  },
  {
   "cell_type": "code",
   "execution_count": 0,
   "metadata": {
    "application/vnd.databricks.v1+cell": {
     "cellMetadata": {
      "byteLimit": 2048000,
      "rowLimit": 10000
     },
     "inputWidgets": {},
     "nuid": "d2625f17-7932-44f5-ab29-de17facf94e0",
     "showTitle": false,
     "title": ""
    }
   },
   "outputs": [],
   "source": [
    "client_credentials_manager = SpotifyClientCredentials(client_id=\"\",\n",
    "client_secret=\"\")"
   ]
  },
  {
   "cell_type": "code",
   "execution_count": 0,
   "metadata": {
    "application/vnd.databricks.v1+cell": {
     "cellMetadata": {
      "byteLimit": 2048000,
      "rowLimit": 10000
     },
     "inputWidgets": {},
     "nuid": "b90d4238-8433-4ba6-94ec-b5c73da5d376",
     "showTitle": false,
     "title": ""
    }
   },
   "outputs": [],
   "source": [
    "sp = spotipy.Spotify(client_credentials_manager = client_credentials_manager)"
   ]
  },
  {
   "cell_type": "code",
   "execution_count": 0,
   "metadata": {
    "application/vnd.databricks.v1+cell": {
     "cellMetadata": {
      "byteLimit": 2048000,
      "rowLimit": 10000
     },
     "inputWidgets": {},
     "nuid": "9f6cfab4-6916-4960-b641-19b73bb08a12",
     "showTitle": false,
     "title": ""
    }
   },
   "outputs": [],
   "source": [
    "playlist = \"https://open.spotify.com/playlist/37i9dQZEVXbNG2KDcFcKOF?si=1333723a6ff4b7f&nd=1&dlsi=cbd67086b40342a7\"\n",
    "##need 2003enumber"
   ]
  },
  {
   "cell_type": "code",
   "execution_count": 0,
   "metadata": {
    "application/vnd.databricks.v1+cell": {
     "cellMetadata": {
      "byteLimit": 2048000,
      "rowLimit": 10000
     },
     "inputWidgets": {},
     "nuid": "6c30be6d-c46f-4825-849a-9a96fac3061b",
     "showTitle": false,
     "title": ""
    }
   },
   "outputs": [
    {
     "output_type": "stream",
     "name": "stdout",
     "output_type": "stream",
     "text": [
      "Out[6]: [{'added_at': '2024-03-15T09:53:10Z',\n  'added_by': {'external_urls': {'spotify': 'https://open.spotify.com/user/'},\n   'href': 'https://api.spotify.com/v1/users/',\n   'id': '',\n   'type': 'user',\n   'uri': 'spotify:user:'},\n  'is_local': False,\n  'primary_color': None,\n  'track': {'album': {'album_type': 'album',\n    'artists': [{'external_urls': {'spotify': 'https://open.spotify.com/artist/66CXWjxzNUsdJxJ2JdwvnR'},\n      'href': 'https://api.spotify.com/v1/artists/66CXWjxzNUsdJxJ2JdwvnR',\n      'id': '66CXWjxzNUsdJxJ2JdwvnR',\n      'name': 'Ariana Grande',\n      'type': 'artist',\n      'uri': 'spotify:artist:66CXWjxzNUsdJxJ2JdwvnR'}],\n    'available_markets': ['AR',\n     'AU',\n     'AT',\n     'BE',\n     'BO',\n     'BR',\n     'BG',\n     'CA',\n     'CL',\n     'CO',\n     'CR',\n     'CY',\n     'CZ',\n     'DK',\n     'DO',\n     'DE',\n     'EC',\n     'EE',\n     'SV',\n     'FI',\n     'FR',\n     'GR',\n     'GT',\n     'HN',\n     'HK',\n     'HU',\n     'IS',\n     'IE',\n     'IT',\n     'LV',\n     'LT',\n     'LU',\n     'MY',\n     'MT',\n     'MX',\n     'NL',\n     'NZ',\n     'NI',\n     'NO',\n     'PA',\n     'PY',\n     'PE',\n     'PH',\n     'PL',\n     'PT',\n     'SG',\n     'SK',\n     'ES',\n     'SE',\n     'CH',\n     'TW',\n     'TR',\n     'UY',\n     'US',\n     'GB',\n     'AD',\n     'LI',\n     'MC',\n     'ID',\n     'JP',\n     'TH',\n     'VN',\n     'RO',\n     'IL',\n     'ZA',\n     'SA',\n     'AE',\n     'BH',\n     'QA',\n     'OM',\n     'KW',\n     'EG',\n     'MA',\n     'DZ',\n     'TN',\n     'LB',\n     'JO',\n     'PS',\n     'IN',\n     'KZ',\n     'MD',\n     'UA',\n     'AL',\n     'BA',\n     'HR',\n     'ME',\n     'MK',\n     'RS',\n     'SI',\n     'KR',\n     'BD',\n     'PK',\n     'LK',\n     'GH',\n     'KE',\n     'NG',\n     'TZ',\n     'UG',\n     'AG',\n     'AM',\n     'BS',\n     'BB',\n     'BZ',\n     'BT',\n     'BW',\n     'BF',\n     'CV',\n     'CW',\n     'DM',\n     'FJ',\n     'GM',\n     'GE',\n     'GD',\n     'GW',\n     'GY',\n     'HT',\n     'JM',\n     'KI',\n     'LS',\n     'LR',\n     'MW',\n     'MV',\n     'ML',\n     'MH',\n     'FM',\n     'NA',\n     'NR',\n     'NE',\n     'PW',\n     'PG',\n     'WS',\n     'SM',\n     'ST',\n     'SN',\n     'SC',\n     'SL',\n     'SB',\n     'KN',\n     'LC',\n     'VC',\n     'SR',\n     'TL',\n     'TO',\n     'TT',\n     'TV',\n     'VU',\n     'AZ',\n     'BN',\n     'BI',\n     'KH',\n     'CM',\n     'TD',\n     'KM',\n     'GQ',\n     'SZ',\n     'GA',\n     'GN',\n     'KG',\n     'LA',\n     'MO',\n     'MR',\n     'MN',\n     'NP',\n     'RW',\n     'TG',\n     'UZ',\n     'ZW',\n     'BJ',\n     'MG',\n     'MU',\n     'MZ',\n     'AO',\n     'CI',\n     'DJ',\n     'ZM',\n     'CD',\n     'CG',\n     'IQ',\n     'LY',\n     'TJ',\n     'VE',\n     'ET',\n     'XK'],\n    'external_urls': {'spotify': 'https://open.spotify.com/album/5EYKrEDnKhhcNxGedaRQeK'},\n    'href': 'https://api.spotify.com/v1/albums/5EYKrEDnKhhcNxGedaRQeK',\n    'id': '5EYKrEDnKhhcNxGedaRQeK',\n    'images': [{'height': 640,\n      'url': 'https://i.scdn.co/image/ab67616d0000b2738b58d20f1b77295730db15b4',\n      'width': 640},\n     {'height': 300,\n      'url': 'https://i.scdn.co/image/ab67616d00001e028b58d20f1b77295730db15b4',\n      'width': 300},\n     {'height': 64,\n      'url': 'https://i.scdn.co/image/ab67616d000048518b58d20f1b77295730db15b4',\n      'width': 64}],\n    'name': 'eternal sunshine',\n    'release_date': '2024-03-08',\n    'release_date_precision': 'day',\n    'total_tracks': 13,\n    'type': 'album',\n    'uri': 'spotify:album:5EYKrEDnKhhcNxGedaRQeK'},\n   'artists': [{'external_urls': {'spotify': 'https://open.spotify.com/artist/66CXWjxzNUsdJxJ2JdwvnR'},\n     'href': 'https://api.spotify.com/v1/artists/66CXWjxzNUsdJxJ2JdwvnR',\n     'id': '66CXWjxzNUsdJxJ2JdwvnR',\n     'name': 'Ariana Grande',\n     'type': 'artist',\n     'uri': 'spotify:artist:66CXWjxzNUsdJxJ2JdwvnR'}],\n   'available_markets': ['AR',\n    'AU',\n    'AT',\n    'BE',\n    'BO',\n    'BR',\n    'BG',\n    'CA',\n    'CL',\n    'CO',\n    'CR',\n    'CY',\n    'CZ',\n    'DK',\n    'DO',\n    'DE',\n    'EC',\n    'EE',\n    'SV',\n    'FI',\n    'FR',\n    'GR',\n    'GT',\n    'HN',\n    'HK',\n    'HU',\n    'IS',\n    'IE',\n    'IT',\n    'LV',\n    'LT',\n    'LU',\n    'MY',\n    'MT',\n    'MX',\n    'NL',\n    'NZ',\n    'NI',\n    'NO',\n    'PA',\n    'PY',\n    'PE',\n    'PH',\n    'PL',\n    'PT',\n    'SG',\n    'SK',\n    'ES',\n    'SE',\n    'CH',\n    'TW',\n    'TR',\n    'UY',\n    'US',\n    'GB',\n    'AD',\n    'LI',\n    'MC',\n    'ID',\n    'JP',\n    'TH',\n    'VN',\n    'RO',\n    'IL',\n    'ZA',\n    'SA',\n    'AE',\n    'BH',\n    'QA',\n    'OM',\n    'KW',\n    'EG',\n    'MA',\n    'DZ',\n    'TN',\n    'LB',\n    'JO',\n    'PS',\n    'IN',\n    'KZ',\n    'MD',\n    'UA',\n    'AL',\n    'BA',\n    'HR',\n    'ME',\n    'MK',\n    'RS',\n    'SI',\n    'KR',\n    'BD',\n    'PK',\n    'LK',\n    'GH',\n    'KE',\n    'NG',\n    'TZ',\n    'UG',\n    'AG',\n    'AM',\n    'BS',\n    'BB',\n    'BZ',\n    'BT',\n    'BW',\n    'BF',\n    'CV',\n    'CW',\n    'DM',\n    'FJ',\n    'GM',\n    'GE',\n    'GD',\n    'GW',\n    'GY',\n    'HT',\n    'JM',\n    'KI',\n    'LS',\n    'LR',\n    'MW',\n    'MV',\n    'ML',\n    'MH',\n    'FM',\n    'NA',\n    'NR',\n    'NE',\n    'PW',\n    'PG',\n    'WS',\n    'SM',\n    'ST',\n    'SN',\n    'SC',\n    'SL',\n    'SB',\n    'KN',\n    'LC',\n    'VC',\n    'SR',\n    'TL',\n    'TO',\n    'TT',\n    'TV',\n    'VU',\n    'AZ',\n    'BN',\n    'BI',\n    'KH',\n    'CM',\n    'TD',\n    'KM',\n    'GQ',\n    'SZ',\n    'GA',\n    'GN',\n    'KG',\n    'LA',\n    'MO',\n    'MR',\n    'MN',\n    'NP',\n    'RW',\n    'TG',\n    'UZ',\n    'ZW',\n    'BJ',\n    'MG',\n    'MU',\n    'MZ',\n    'AO',\n    'CI',\n    'DJ',\n    'ZM',\n    'CD',\n    'CG',\n    'IQ',\n    'LY',\n    'TJ',\n    'VE',\n    'ET',\n    'XK'],\n   'disc_number': 1,\n   'duration_ms': 228639,\n   'episode': False,\n   'explicit': False,\n   'external_ids': {'isrc': 'USUM72317276'},\n   'external_urls': {'spotify': 'https://open.spotify.com/track/51ZQ1vr10ffzbwIjDCwqm4'},\n   'href': 'https://api.spotify.com/v1/tracks/51ZQ1vr10ffzbwIjDCwqm4',\n   'id': '51ZQ1vr10ffzbwIjDCwqm4',\n   'is_local': False,\n   'name': \"we can't be friends (wait for your love)\",\n   'popularity': 92,\n   'preview_url': None,\n   'track': True,\n   'track_number': 10,\n   'type': 'track',\n   'uri': 'spotify:track:51ZQ1vr10ffzbwIjDCwqm4'},\n  'video_thumbnail': {'url': None}},\n {'added_at': '2024-03-15T09:53:10Z',\n  'added_by': {'external_urls': {'spotify': 'https://open.spotify.com/user/'},\n   'href': 'https://api.spotify.com/v1/users/',\n   'id': '',\n   'type': 'user',\n   'uri': 'spotify:user:'},\n  'is_local': False,\n  'primary_color': None,\n  'track': {'album': {'album_type': 'single',\n    'artists': [{'external_urls': {'spotify': 'https://open.spotify.com/artist/22wbnEMDvgVIAGdFeek6ET'},\n      'href': 'https://api.spotify.com/v1/artists/22wbnEMDvgVIAGdFeek6ET',\n      'id': '22wbnEMDvgVIAGdFeek6ET',\n      'name': 'Benson Boone',\n      'type': 'artist',\n      'uri': 'spotify:artist:22wbnEMDvgVIAGdFeek6ET'}],\n    'available_markets': ['AR',\n     'AU',\n     'AT',\n     'BE',\n     'BO',\n     'BR',\n     'BG',\n     'CA',\n     'CL',\n     'CO',\n     'CR',\n     'CY',\n     'CZ',\n     'DK',\n     'DO',\n     'DE',\n     'EC',\n     'EE',\n     'SV',\n     'FI',\n     'FR',\n     'GR',\n     'GT',\n     'HN',\n     'HK',\n     'HU',\n     'IS',\n     'IE',\n     'IT',\n     'LV',\n     'LT',\n     'LU',\n     'MY',\n     'MT',\n     'MX',\n     'NL',\n     'NZ',\n     'NI',\n     'NO',\n     'PA',\n     'PY',\n     'PE',\n     'PH',\n     'PL',\n     'PT',\n     'SG',\n     'SK',\n     'ES',\n     'SE',\n     'CH',\n     'TW',\n     'TR',\n     'UY',\n     'US',\n     'GB',\n     'AD',\n     'LI',\n     'MC',\n     'ID',\n     'JP',\n     'TH',\n     'VN',\n     'RO',\n     'IL',\n     'ZA',\n     'SA',\n     'AE',\n     'BH',\n     'QA',\n     'OM',\n     'KW',\n     'EG',\n     'MA',\n     'DZ',\n     'TN',\n     'LB',\n     'JO',\n     'PS',\n     'IN',\n     'KZ',\n     'MD',\n     'UA',\n     'AL',\n     'BA',\n     'HR',\n     'ME',\n     'MK',\n     'RS',\n     'SI',\n     'KR',\n     'BD',\n     'PK',\n     'LK',\n     'GH',\n     'KE',\n     'NG',\n     'TZ',\n     'UG',\n     'AG',\n     'AM',\n     'BS',\n     'BB',\n     'BZ',\n     'BT',\n     'BW',\n     'BF',\n     'CV',\n     'CW',\n     'DM',\n     'FJ',\n     'GM',\n     'GE',\n     'GD',\n     'GW',\n     'GY',\n     'HT',\n     'JM',\n     'KI',\n     'LS',\n     'LR',\n     'MW',\n     'MV',\n     'ML',\n     'MH',\n     'FM',\n     'NA',\n     'NR',\n     'NE',\n     'PW',\n     'PG',\n     'WS',\n     'SM',\n     'ST',\n     'SN',\n     'SC',\n     'SL',\n     'SB',\n     'KN',\n     'LC',\n     'VC',\n     'SR',\n     'TL',\n     'TO',\n     'TT',\n     'TV',\n     'VU',\n     'AZ',\n     'BN',\n     'BI',\n     'KH',\n     'CM',\n     'TD',\n     'KM',\n     'GQ',\n     'SZ',\n     'GA',\n     'GN',\n     'KG',\n     'LA',\n     'MO',\n     'MR',\n     'MN',\n     'NP',\n     'RW',\n     'TG',\n     'UZ',\n     'ZW',\n     'BJ',\n     'MG',\n     'MU',\n     'MZ',\n     'AO',\n     'CI',\n     'DJ',\n     'ZM',\n     'CD',\n     'CG',\n     'IQ',\n     'LY',\n     'TJ',\n     'VE',\n     'ET',\n     'XK'],\n    'external_urls': {'spotify': 'https://open.spotify.com/album/29aSKB1qPEbN0Qf9OPSQpw'},\n    'href': 'https://api.spotify.com/v1/albums/29aSKB1qPEbN0Qf9OPSQpw',\n    'id': '29aSKB1qPEbN0Qf9OPSQpw',\n    'images': [{'height': 640,\n      'url': 'https://i.scdn.co/image/ab67616d0000b273f2a919d3fa0f2b2593c92d19',\n      'width': 640},\n     {'height': 300,\n      'url': 'https://i.scdn.co/image/ab67616d00001e02f2a919d3fa0f2b2593c92d19',\n      'width': 300},\n     {'height': 64,\n      'url': 'https://i.scdn.co/image/ab67616d00004851f2a919d3fa0f2b2593c92d19',\n      'width': 64}],\n    'name': 'Beautiful Things',\n    'release_date': '2024-01-18',\n    'release_date_precision': 'day',\n    'total_tracks': 1,\n    'type': 'album',\n    'uri': 'spotify:album:29aSKB1qPEbN0Qf9OPSQpw'},\n   'artists': [{'external_urls': {'spotify': 'https://open.spotify.com/artist/22wbnEMDvgVIAGdFeek6ET'},\n     'href': 'https://api.spotify.com/v1/artists/22wbnEMDvgVIAGdFeek6ET',\n     'id': '22wbnEMDvgVIAGdFeek6ET',\n     'name': 'Benson Boone',\n     'type': 'artist',\n     'uri': 'spotify:artist:22wbnEMDvgVIAGdFeek6ET'}],\n   'available_markets': ['AR',\n    'AU',\n    'AT',\n    'BE',\n    'BO',\n    'BR',\n    'BG',\n    'CA',\n    'CL',\n    'CO',\n    'CR',\n    'CY',\n    'CZ',\n    'DK',\n    'DO',\n    'DE',\n    'EC',\n    'EE',\n    'SV',\n    'FI',\n    'FR',\n    'GR',\n    'GT',\n    'HN',\n    'HK',\n    'HU',\n    'IS',\n    'IE',\n    'IT',\n    'LV',\n    'LT',\n    'LU',\n    'MY',\n    'MT',\n    'MX',\n    'NL',\n    'NZ',\n    'NI',\n    'NO',\n    'PA',\n    'PY',\n    'PE',\n    'PH',\n    'PL',\n    'PT',\n    'SG',\n    'SK',\n    'ES',\n    'SE',\n    'CH',\n    'TW',\n    'TR',\n    'UY',\n    'US',\n    'GB',\n    'AD',\n    'LI',\n    'MC',\n    'ID',\n    'JP',\n    'TH',\n    'VN',\n    'RO',\n    'IL',\n    'ZA',\n    'SA',\n    'AE',\n    'BH',\n    'QA',\n    'OM',\n    'KW',\n    'EG',\n    'MA',\n    'DZ',\n    'TN',\n    'LB',\n    'JO',\n    'PS',\n    'IN',\n    'KZ',\n    'MD',\n    'UA',\n    'AL',\n    'BA',\n    'HR',\n    'ME',\n    'MK',\n    'RS',\n    'SI',\n    'KR',\n    'BD',\n    'PK',\n    'LK',\n    'GH',\n    'KE',\n    'NG',\n    'TZ',\n    'UG',\n    'AG',\n    'AM',\n    'BS',\n    'BB',\n    'BZ',\n    'BT',\n    'BW',\n    'BF',\n    'CV',\n    'CW',\n    'DM',\n    'FJ',\n    'GM',\n    'GE',\n    'GD',\n    'GW',\n    'GY',\n    'HT',\n    'JM',\n    'KI',\n    'LS',\n    'LR',\n    'MW',\n    'MV',\n    'ML',\n    'MH',\n    'FM',\n    'NA',\n    'NR',\n    'NE',\n    'PW',\n    'PG',\n    'WS',\n    'SM',\n    'ST',\n    'SN',\n    'SC',\n    'SL',\n    'SB',\n    'KN',\n    'LC',\n    'VC',\n    'SR',\n    'TL',\n    'TO',\n    'TT',\n    'TV',\n    'VU',\n    'AZ',\n    'BN',\n    'BI',\n    'KH',\n    'CM',\n    'TD',\n    'KM',\n    'GQ',\n    'SZ',\n    'GA',\n    'GN',\n    'KG',\n    'LA',\n    'MO',\n    'MR',\n    'MN',\n    'NP',\n    'RW',\n    'TG',\n    'UZ',\n    'ZW',\n    'BJ',\n    'MG',\n    'MU',\n    'MZ',\n    'AO',\n    'CI',\n    'DJ',\n    'ZM',\n    'CD',\n    'CG',\n    'IQ',\n    'LY',\n    'TJ',\n    'VE',\n    'ET',\n    'XK'],\n   'disc_number': 1,\n   'duration_ms': 180304,\n   'episode': False,\n   'explicit': False,\n   'external_ids': {'isrc': 'USWB12307016'},\n   'external_urls': {'spotify': 'https://open.spotify.com/track/6tNQ70jh4OwmPGpYy6R2o9'},\n   'href': 'https://api.spotify.com/v1/tracks/6tNQ70jh4OwmPGpYy6R2o9',\n   'id': '6tNQ70jh4OwmPGpYy6R2o9',\n   'is_local': False,\n   'name': 'Beautiful Things',\n   'popularity': 100,\n   'preview_url': 'https://p.scdn.co/mp3-preview/e213f23e6fe5938299eebbe364d06c1682a6619f?cid=ab6c5a1380894eebb469d7321d53bd56',\n   'track': True,\n   'track_number': 1,\n   'type': 'track',\n   'uri': 'spotify:track:6tNQ70jh4OwmPGpYy6R2o9'},\n  'video_thumbnail': {'url': None}},\n {'added_at': '2024-03-15T09:53:10Z',\n  'added_by': {'external_urls': {'spotify': 'https://open.spotify.com/user/'},\n   'href': 'https://api.spotify.com/v1/users/',\n   'id': '',\n   'type': 'user',\n   'uri': 'spotify:user:'},\n  'is_local': False,\n  'primary_color': None,\n  'track': {'album': {'album_type': 'album',\n    'artists': [{'external_urls': {'spotify': 'https://open.spotify.com/artist/5p9HO3XC5P3BLxJs5Mtrhm'},\n      'href': 'https://api.spotify.com/v1/artists/5p9HO3XC5P3BLxJs5Mtrhm',\n      'id': '5p9HO3XC5P3BLxJs5Mtrhm',\n      'name': 'Djo',\n      'type': 'artist',\n      'uri': 'spotify:artist:5p9HO3XC5P3BLxJs5Mtrhm'}],\n    'available_markets': ['AR',\n     'AU',\n     'AT',\n     'BE',\n     'BO',\n     'BR',\n     'BG',\n     'CA',\n     'CL',\n     'CO',\n     'CR',\n     'CY',\n     'CZ',\n     'DK',\n     'DO',\n     'DE',\n     'EC',\n     'EE',\n     'SV',\n     'FI',\n     'FR',\n     'GR',\n     'GT',\n     'HN',\n     'HK',\n     'HU',\n     'IS',\n     'IE',\n     'IT',\n     'LV',\n     'LT',\n     'LU',\n     'MY',\n     'MT',\n     'MX',\n     'NL',\n     'NZ',\n     'NI',\n     'NO',\n     'PA',\n     'PY',\n     'PE',\n     'PH',\n     'PL',\n     'PT',\n     'SG',\n     'SK',\n     'ES',\n     'SE',\n     'CH',\n     'TW',\n     'TR',\n     'UY',\n     'US',\n     'GB',\n     'AD',\n     'LI',\n     'MC',\n     'ID',\n     'JP',\n     'TH',\n     'VN',\n     'RO',\n     'IL',\n     'ZA',\n     'SA',\n     'AE',\n     'BH',\n     'QA',\n     'OM',\n     'KW',\n     'EG',\n     'MA',\n     'DZ',\n     'TN',\n     'LB',\n     'JO',\n     'PS',\n     'IN',\n     'BY',\n     'KZ',\n     'MD',\n     'UA',\n     'AL',\n     'BA',\n     'HR',\n     'ME',\n     'MK',\n     'RS',\n     'SI',\n     'KR',\n     'BD',\n     'PK',\n     'LK',\n     'GH',\n     'KE',\n     'NG',\n     'TZ',\n     'UG',\n     'AG',\n     'AM',\n     'BS',\n     'BB',\n     'BZ',\n     'BT',\n     'BW',\n     'BF',\n     'CV',\n     'CW',\n     'DM',\n     'FJ',\n     'GM',\n     'GE',\n     'GD',\n     'GW',\n     'GY',\n     'HT',\n     'JM',\n     'KI',\n     'LS',\n     'LR',\n     'MW',\n     'MV',\n     'ML',\n     'MH',\n     'FM',\n     'NA',\n     'NR',\n     'NE',\n     'PW',\n     'PG',\n     'WS',\n     'SM',\n     'ST',\n     'SN',\n     'SC',\n     'SL',\n     'SB',\n     'KN',\n     'LC',\n     'VC',\n     'SR',\n     'TL',\n     'TO',\n     'TT',\n     'TV',\n     'VU',\n     'AZ',\n     'BN',\n     'BI',\n     'KH',\n     'CM',\n     'TD',\n     'KM',\n     'GQ',\n     'SZ',\n     'GA',\n     'GN',\n     'KG',\n     'LA',\n     'MO',\n     'MR',\n     'MN',\n     'NP',\n     'RW',\n     'TG',\n     'UZ',\n     'ZW',\n     'BJ',\n     'MG',\n     'MU',\n     'MZ',\n     'AO',\n     'CI',\n     'DJ',\n     'ZM',\n     'CD',\n     'CG',\n     'IQ',\n     'LY',\n     'TJ',\n     'VE',\n     'ET',\n     'XK'],\n    'external_urls': {'spotify': 'https://open.spotify.com/album/4JDXBZdRPId4devseaAOKH'},\n    'href': 'https://api.spotify.com/v1/albums/4JDXBZdRPId4devseaAOKH',\n    'id': '4JDXBZdRPId4devseaAOKH',\n    'images': [{'height': 640,\n      'url': 'https://i.scdn.co/image/ab67616d0000b273fddfffec51b4580acae727c1',\n      'width': 640},\n     {'height': 300,\n      'url': 'https://i.scdn.co/image/ab67616d00001e02fddfffec51b4580acae727c1',\n      'width': 300},\n     {'height': 64,\n      'url': 'https://i.scdn.co/image/ab67616d00004851fddfffec51b4580acae727c1',\n      'width': 64}],\n    'name': 'DECIDE',\n    'release_date': '2022-09-16',\n    'release_date_precision': 'day',\n    'total_tracks': 13,\n    'type': 'album',\n    'uri': 'spotify:album:4JDXBZdRPId4devseaAOKH'},\n   'artists': [{'external_urls': {'spotify': 'https://open.spotify.com/artist/5p9HO3XC5P3BLxJs5Mtrhm'},\n     'href': 'https://api.spotify.com/v1/artists/5p9HO3XC5P3BLxJs5Mtrhm',\n     'id': '5p9HO3XC5P3BLxJs5Mtrhm',\n     'name': 'Djo',\n     'type': 'artist',\n     'uri': 'spotify:artist:5p9HO3XC5P3BLxJs5Mtrhm'}],\n   'available_markets': ['AR',\n    'AU',\n    'AT',\n    'BE',\n    'BO',\n    'BR',\n    'BG',\n    'CA',\n    'CL',\n    'CO',\n    'CR',\n    'CY',\n    'CZ',\n    'DK',\n    'DO',\n    'DE',\n    'EC',\n    'EE',\n    'SV',\n    'FI',\n    'FR',\n    'GR',\n    'GT',\n    'HN',\n    'HK',\n    'HU',\n    'IS',\n    'IE',\n    'IT',\n    'LV',\n    'LT',\n    'LU',\n    'MY',\n    'MT',\n    'MX',\n    'NL',\n    'NZ',\n    'NI',\n    'NO',\n    'PA',\n    'PY',\n    'PE',\n    'PH',\n    'PL',\n    'PT',\n    'SG',\n    'SK',\n    'ES',\n    'SE',\n    'CH',\n    'TW',\n    'TR',\n    'UY',\n    'US',\n    'GB',\n    'AD',\n    'LI',\n    'MC',\n    'ID',\n    'JP',\n    'TH',\n    'VN',\n    'RO',\n    'IL',\n    'ZA',\n    'SA',\n    'AE',\n    'BH',\n    'QA',\n    'OM',\n    'KW',\n    'EG',\n    'MA',\n    'DZ',\n    'TN',\n    'LB',\n    'JO',\n    'PS',\n    'IN',\n    'BY',\n    'KZ',\n    'MD',\n    'UA',\n    'AL',\n    'BA',\n    'HR',\n    'ME',\n    'MK',\n    'RS',\n    'SI',\n    'KR',\n    'BD',\n    'PK',\n    'LK',\n    'GH',\n    'KE',\n    'NG',\n    'TZ',\n    'UG',\n    'AG',\n    'AM',\n    'BS',\n    'BB',\n    'BZ',\n    'BT',\n    'BW',\n    'BF',\n    'CV',\n    'CW',\n    'DM',\n    'FJ',\n    'GM',\n    'GE',\n    'GD',\n    'GW',\n    'GY',\n    'HT',\n    'JM',\n    'KI',\n    'LS',\n    'LR',\n    'MW',\n    'MV',\n    'ML',\n    'MH',\n    'FM',\n    'NA',\n    'NR',\n    'NE',\n    'PW',\n    'PG',\n    'WS',\n    'SM',\n    'ST',\n    'SN',\n    'SC',\n    'SL',\n    'SB',\n    'KN',\n    'LC',\n    'VC',\n    'SR',\n    'TL',\n    'TO',\n    'TT',\n    'TV',\n    'VU',\n    'AZ',\n    'BN',\n    'BI',\n    'KH',\n    'CM',\n    'TD',\n    'KM',\n    'GQ',\n    'SZ',\n    'GA',\n    'GN',\n    'KG',\n    'LA',\n    'MO',\n    'MR',\n    'MN',\n    'NP',\n    'RW',\n    'TG',\n    'UZ',\n    'ZW',\n    'BJ',\n    'MG',\n    'MU',\n    'MZ',\n    'AO',\n    'CI',\n    'DJ',\n    'ZM',\n    'CD',\n    'CG',\n    'IQ',\n    'LY',\n    'TJ',\n    'VE',\n    'ET',\n    'XK'],\n   'disc_number': 1,\n   'duration_ms': 159245,\n   'episode': False,\n   'explicit': False,\n   'external_ids': {'isrc': 'GBKPL2205058'},\n   'external_urls': {'spotify': 'https://open.spotify.com/track/3qhlB30KknSejmIvZZLjOD'},\n   'href': 'https://api.spotify.com/v1/tracks/3qhlB30KknSejmIvZZLjOD',\n   'id': '3qhlB30KknSejmIvZZLjOD',\n   'is_local': False,\n   'name': 'End of Beginning',\n   'popularity': 97,\n   'preview_url': 'https://p.scdn.co/mp3-preview/2f6f0965be46144eca9212258c7a2988376727a1?cid=ab6c5a1380894eebb469d7321d53bd56',\n   'track': True,\n   'track_number': 6,\n   'type': 'track',\n   'uri': 'spotify:track:3qhlB30KknSejmIvZZLjOD'},\n  'video_thumbnail': {'url': None}},\n {'added_at': '2024-03-15T09:53:10Z',\n  'added_by': {'external_urls': {'spotify': 'https://open.spotify.com/user/'},\n   'href': 'https://api.spotify.com/v1/users/',\n   'id': '',\n   'type': 'user',\n   'uri': 'spotify:user:'},\n  'is_local': False,\n  'primary_color': None,\n  'track': {'album': {'album_type': 'album',\n    'artists': [{'external_urls': {'spotify': 'https://open.spotify.com/artist/4xPQFgDA5M2xa0ZGo5iIsv'},\n      'href': 'https://api.spotify.com/v1/artists/4xPQFgDA5M2xa0ZGo5iIsv',\n      'id': '4xPQFgDA5M2xa0ZGo5iIsv',\n      'name': '¥$',\n      'type': 'artist',\n      'uri': 'spotify:artist:4xPQFgDA5M2xa0ZGo5iIsv'},\n     {'external_urls': {'spotify': 'https://open.spotify.com/artist/5K4W6rqBFWDnAN6FQUkS6x'},\n      'href': 'https://api.spotify.com/v1/artists/5K4W6rqBFWDnAN6FQUkS6x',\n      'id': '5K4W6rqBFWDnAN6FQUkS6x',\n      'name': 'Kanye West',\n      'type': 'artist',\n      'uri': 'spotify:artist:5K4W6rqBFWDnAN6FQUkS6x'},\n     {'external_urls': {'spotify': 'https://open.spotify.com/artist/7c0XG5cIJTrrAgEC3ULPiq'},\n      'href': 'https://api.spotify.com/v1/artists/7c0XG5cIJTrrAgEC3ULPiq',\n      'id': '7c0XG5cIJTrrAgEC3ULPiq',\n      'name': 'Ty Dolla $ign',\n      'type': 'artist',\n      'uri': 'spotify:artist:7c0XG5cIJTrrAgEC3ULPiq'}],\n    'available_markets': ['AR',\n     'AU',\n     'AT',\n     'BE',\n     'BO',\n     'BR',\n     'BG',\n     'CA',\n     'CL',\n     'CO',\n     'CR',\n     'CY',\n     'CZ',\n     'DK',\n     'DO',\n     'DE',\n     'EC',\n     'EE',\n     'SV',\n     'FI',\n     'FR',\n     'GR',\n     'GT',\n     'HN',\n     'HK',\n     'HU',\n     'IS',\n     'IE',\n     'IT',\n     'LV',\n     'LT',\n     'LU',\n     'MY',\n     'MT',\n     'MX',\n     'NL',\n     'NZ',\n     'NI',\n     'NO',\n     'PA',\n     'PY',\n     'PE',\n     'PH',\n     'PL',\n     'PT',\n     'SG',\n     'SK',\n     'ES',\n     'SE',\n     'CH',\n     'TW',\n     'TR',\n     'UY',\n     'US',\n     'GB',\n     'AD',\n     'LI',\n     'MC',\n     'ID',\n     'JP',\n     'TH',\n     'VN',\n     'RO',\n     'IL',\n     'ZA',\n     'SA',\n     'AE',\n     'BH',\n     'QA',\n     'OM',\n     'KW',\n     'EG',\n     'MA',\n     'DZ',\n     'TN',\n     'LB',\n     'JO',\n     'PS',\n     'IN',\n     'BY',\n     'KZ',\n     'MD',\n     'UA',\n     'AL',\n     'BA',\n     'HR',\n     'ME',\n     'MK',\n     'RS',\n     'SI',\n     'KR',\n     'BD',\n     'PK',\n     'LK',\n     'GH',\n     'KE',\n     'NG',\n     'TZ',\n     'UG',\n     'AG',\n     'AM',\n     'BS',\n     'BB',\n     'BZ',\n     'BT',\n     'BW',\n     'BF',\n     'CV',\n     'CW',\n     'DM',\n     'FJ',\n     'GM',\n     'GE',\n     'GD',\n     'GW',\n     'GY',\n     'HT',\n     'JM',\n     'KI',\n     'LS',\n     'LR',\n     'MW',\n     'MV',\n     'ML',\n     'MH',\n     'FM',\n     'NA',\n     'NR',\n     'NE',\n     'PW',\n     'PG',\n     'WS',\n     'SM',\n     'ST',\n     'SN',\n     'SC',\n     'SL',\n     'SB',\n     'KN',\n     'LC',\n     'VC',\n     'SR',\n     'TL',\n     'TO',\n     'TT',\n     'TV',\n     'VU',\n     'AZ',\n     'BN',\n     'BI',\n     'KH',\n     'CM',\n     'TD',\n     'KM',\n     'GQ',\n     'SZ',\n     'GA',\n     'GN',\n     'KG',\n     'LA',\n     'MO',\n     'MR',\n     'MN',\n     'NP',\n     'RW',\n     'TG',\n     'UZ',\n     'ZW',\n     'BJ',\n     'MG',\n     'MU',\n     'MZ',\n     'AO',\n     'CI',\n     'DJ',\n     'ZM',\n     'CD',\n     'CG',\n     'IQ',\n     'LY',\n     'TJ',\n     'VE',\n     'ET',\n     'XK'],\n    'external_urls': {'spotify': 'https://open.spotify.com/album/30zwjSQEodaUXCn11nmiVF'},\n    'href': 'https://api.spotify.com/v1/albums/30zwjSQEodaUXCn11nmiVF',\n    'id': '30zwjSQEodaUXCn11nmiVF',\n    'images': [{'height': 640,\n      'url': 'https://i.scdn.co/image/ab67616d0000b2730a31b4026a452ae8c3f97a76',\n      'width': 640},\n     {'height': 300,\n      'url': 'https://i.scdn.co/image/ab67616d00001e020a31b4026a452ae8c3f97a76',\n      'width': 300},\n     {'height': 64,\n      'url': 'https://i.scdn.co/image/ab67616d000048510a31b4026a452ae8c3f97a76',\n      'width': 64}],\n    'name': 'VULTURES 1',\n    'release_date': '2024-02-09',\n    'release_date_precision': 'day',\n    'total_tracks': 16,\n    'type': 'album',\n    'uri': 'spotify:album:30zwjSQEodaUXCn11nmiVF'},\n   'artists': [{'external_urls': {'spotify': 'https://open.spotify.com/artist/4xPQFgDA5M2xa0ZGo5iIsv'},\n     'href': 'https://api.spotify.com/v1/artists/4xPQFgDA5M2xa0ZGo5iIsv',\n     'id': '4xPQFgDA5M2xa0ZGo5iIsv',\n     'name': '¥$',\n     'type': 'artist',\n     'uri': 'spotify:artist:4xPQFgDA5M2xa0ZGo5iIsv'},\n    {'external_urls': {'spotify': 'https://open.spotify.com/artist/5K4W6rqBFWDnAN6FQUkS6x'},\n     'href': 'https://api.spotify.com/v1/artists/5K4W6rqBFWDnAN6FQUkS6x',\n     'id': '5K4W6rqBFWDnAN6FQUkS6x',\n     'name': 'Kanye West',\n     'type': 'artist',\n     'uri': 'spotify:artist:5K4W6rqBFWDnAN6FQUkS6x'},\n    {'external_urls': {'spotify': 'https://open.spotify.com/artist/7c0XG5cIJTrrAgEC3ULPiq'},\n     'href': 'https://api.spotify.com/v1/artists/7c0XG5cIJTrrAgEC3ULPiq',\n     'id': '7c0XG5cIJTrrAgEC3ULPiq',\n     'name': 'Ty Dolla $ign',\n     'type': 'artist',\n     'uri': 'spotify:artist:7c0XG5cIJTrrAgEC3ULPiq'},\n    {'external_urls': {'spotify': 'https://open.spotify.com/artist/1pPmIToKXyGdsCF6LmqLmI'},\n     'href': 'https://api.spotify.com/v1/artists/1pPmIToKXyGdsCF6LmqLmI',\n     'id': '1pPmIToKXyGdsCF6LmqLmI',\n     'name': 'Rich The Kid',\n     'type': 'artist',\n     'uri': 'spotify:artist:1pPmIToKXyGdsCF6LmqLmI'},\n    {'external_urls': {'spotify': 'https://open.spotify.com/artist/699OTQXzgjhIYAHMy9RyPD'},\n     'href': 'https://api.spotify.com/v1/artists/699OTQXzgjhIYAHMy9RyPD',\n     'id': '699OTQXzgjhIYAHMy9RyPD',\n     'name': 'Playboi Carti',\n     'type': 'artist',\n     'uri': 'spotify:artist:699OTQXzgjhIYAHMy9RyPD'}],\n   'available_markets': ['AR',\n    'AU',\n    'AT',\n    'BE',\n    'BO',\n    'BR',\n    'BG',\n    'CA',\n    'CL',\n    'CO',\n    'CR',\n    'CY',\n    'CZ',\n    'DK',\n    'DO',\n    'DE',\n    'EC',\n    'EE',\n    'SV',\n    'FI',\n    'FR',\n    'GR',\n    'GT',\n    'HN',\n    'HK',\n    'HU',\n    'IS',\n    'IE',\n    'IT',\n    'LV',\n    'LT',\n    'LU',\n    'MY',\n    'MT',\n    'MX',\n    'NL',\n    'NZ',\n    'NI',\n    'NO',\n    'PA',\n    'PY',\n    'PE',\n    'PH',\n    'PL',\n    'PT',\n    'SG',\n    'SK',\n    'ES',\n    '\n\n*** WARNING: max output size exceeded, skipping output. ***\n\n//api.spotify.com/v1/artists/1Xyo4u8uXC1ZmMpatF05PJ',\n      'id': '1Xyo4u8uXC1ZmMpatF05PJ',\n      'name': 'The Weeknd',\n      'type': 'artist',\n      'uri': 'spotify:artist:1Xyo4u8uXC1ZmMpatF05PJ'}],\n    'available_markets': ['AR',\n     'AU',\n     'AT',\n     'BE',\n     'BO',\n     'BR',\n     'BG',\n     'CA',\n     'CL',\n     'CO',\n     'CR',\n     'CY',\n     'CZ',\n     'DK',\n     'DO',\n     'DE',\n     'EC',\n     'EE',\n     'SV',\n     'FI',\n     'FR',\n     'GR',\n     'GT',\n     'HN',\n     'HK',\n     'HU',\n     'IS',\n     'IE',\n     'IT',\n     'LV',\n     'LT',\n     'LU',\n     'MY',\n     'MT',\n     'MX',\n     'NL',\n     'NZ',\n     'NI',\n     'NO',\n     'PA',\n     'PY',\n     'PE',\n     'PH',\n     'PL',\n     'PT',\n     'SG',\n     'SK',\n     'ES',\n     'SE',\n     'CH',\n     'TW',\n     'TR',\n     'UY',\n     'US',\n     'GB',\n     'AD',\n     'LI',\n     'MC',\n     'ID',\n     'JP',\n     'TH',\n     'VN',\n     'RO',\n     'IL',\n     'ZA',\n     'SA',\n     'AE',\n     'BH',\n     'QA',\n     'OM',\n     'KW',\n     'EG',\n     'MA',\n     'DZ',\n     'TN',\n     'LB',\n     'JO',\n     'PS',\n     'IN',\n     'BY',\n     'KZ',\n     'MD',\n     'UA',\n     'AL',\n     'BA',\n     'HR',\n     'ME',\n     'MK',\n     'RS',\n     'SI',\n     'KR',\n     'BD',\n     'PK',\n     'LK',\n     'GH',\n     'KE',\n     'NG',\n     'TZ',\n     'UG',\n     'AG',\n     'AM',\n     'BS',\n     'BB',\n     'BZ',\n     'BT',\n     'BW',\n     'BF',\n     'CV',\n     'CW',\n     'DM',\n     'FJ',\n     'GM',\n     'GE',\n     'GD',\n     'GW',\n     'GY',\n     'HT',\n     'JM',\n     'KI',\n     'LS',\n     'LR',\n     'MW',\n     'MV',\n     'ML',\n     'MH',\n     'FM',\n     'NA',\n     'NR',\n     'NE',\n     'PW',\n     'PG',\n     'WS',\n     'SM',\n     'ST',\n     'SN',\n     'SC',\n     'SL',\n     'SB',\n     'KN',\n     'LC',\n     'VC',\n     'SR',\n     'TL',\n     'TO',\n     'TT',\n     'TV',\n     'VU',\n     'AZ',\n     'BN',\n     'BI',\n     'KH',\n     'CM',\n     'TD',\n     'KM',\n     'GQ',\n     'SZ',\n     'GA',\n     'GN',\n     'KG',\n     'LA',\n     'MO',\n     'MR',\n     'MN',\n     'NP',\n     'RW',\n     'TG',\n     'UZ',\n     'ZW',\n     'BJ',\n     'MG',\n     'MU',\n     'MZ',\n     'AO',\n     'CI',\n     'DJ',\n     'ZM',\n     'CD',\n     'CG',\n     'IQ',\n     'LY',\n     'TJ',\n     'VE',\n     'ET',\n     'XK'],\n    'external_urls': {'spotify': 'https://open.spotify.com/album/2ODvWsOgouMbaA5xf0RkJe'},\n    'href': 'https://api.spotify.com/v1/albums/2ODvWsOgouMbaA5xf0RkJe',\n    'id': '2ODvWsOgouMbaA5xf0RkJe',\n    'images': [{'height': 640,\n      'url': 'https://i.scdn.co/image/ab67616d0000b2734718e2b124f79258be7bc452',\n      'width': 640},\n     {'height': 300,\n      'url': 'https://i.scdn.co/image/ab67616d00001e024718e2b124f79258be7bc452',\n      'width': 300},\n     {'height': 64,\n      'url': 'https://i.scdn.co/image/ab67616d000048514718e2b124f79258be7bc452',\n      'width': 64}],\n    'name': 'Starboy',\n    'release_date': '2016-11-25',\n    'release_date_precision': 'day',\n    'total_tracks': 18,\n    'type': 'album',\n    'uri': 'spotify:album:2ODvWsOgouMbaA5xf0RkJe'},\n   'artists': [{'external_urls': {'spotify': 'https://open.spotify.com/artist/1Xyo4u8uXC1ZmMpatF05PJ'},\n     'href': 'https://api.spotify.com/v1/artists/1Xyo4u8uXC1ZmMpatF05PJ',\n     'id': '1Xyo4u8uXC1ZmMpatF05PJ',\n     'name': 'The Weeknd',\n     'type': 'artist',\n     'uri': 'spotify:artist:1Xyo4u8uXC1ZmMpatF05PJ'},\n    {'external_urls': {'spotify': 'https://open.spotify.com/artist/4tZwfgrHOc3mvqYlEYSvVi'},\n     'href': 'https://api.spotify.com/v1/artists/4tZwfgrHOc3mvqYlEYSvVi',\n     'id': '4tZwfgrHOc3mvqYlEYSvVi',\n     'name': 'Daft Punk',\n     'type': 'artist',\n     'uri': 'spotify:artist:4tZwfgrHOc3mvqYlEYSvVi'}],\n   'available_markets': ['AR',\n    'AU',\n    'AT',\n    'BE',\n    'BO',\n    'BR',\n    'BG',\n    'CA',\n    'CL',\n    'CO',\n    'CR',\n    'CY',\n    'CZ',\n    'DK',\n    'DO',\n    'DE',\n    'EC',\n    'EE',\n    'SV',\n    'FI',\n    'FR',\n    'GR',\n    'GT',\n    'HN',\n    'HK',\n    'HU',\n    'IS',\n    'IE',\n    'IT',\n    'LV',\n    'LT',\n    'LU',\n    'MY',\n    'MT',\n    'MX',\n    'NL',\n    'NZ',\n    'NI',\n    'NO',\n    'PA',\n    'PY',\n    'PE',\n    'PH',\n    'PL',\n    'PT',\n    'SG',\n    'SK',\n    'ES',\n    'SE',\n    'CH',\n    'TW',\n    'TR',\n    'UY',\n    'US',\n    'GB',\n    'AD',\n    'LI',\n    'MC',\n    'ID',\n    'JP',\n    'TH',\n    'VN',\n    'RO',\n    'IL',\n    'ZA',\n    'SA',\n    'AE',\n    'BH',\n    'QA',\n    'OM',\n    'KW',\n    'EG',\n    'MA',\n    'DZ',\n    'TN',\n    'LB',\n    'JO',\n    'PS',\n    'IN',\n    'BY',\n    'KZ',\n    'MD',\n    'UA',\n    'AL',\n    'BA',\n    'HR',\n    'ME',\n    'MK',\n    'RS',\n    'SI',\n    'KR',\n    'BD',\n    'PK',\n    'LK',\n    'GH',\n    'KE',\n    'NG',\n    'TZ',\n    'UG',\n    'AG',\n    'AM',\n    'BS',\n    'BB',\n    'BZ',\n    'BT',\n    'BW',\n    'BF',\n    'CV',\n    'CW',\n    'DM',\n    'FJ',\n    'GM',\n    'GE',\n    'GD',\n    'GW',\n    'GY',\n    'HT',\n    'JM',\n    'KI',\n    'LS',\n    'LR',\n    'MW',\n    'MV',\n    'ML',\n    'MH',\n    'FM',\n    'NA',\n    'NR',\n    'NE',\n    'PW',\n    'PG',\n    'WS',\n    'SM',\n    'ST',\n    'SN',\n    'SC',\n    'SL',\n    'SB',\n    'KN',\n    'LC',\n    'VC',\n    'SR',\n    'TL',\n    'TO',\n    'TT',\n    'TV',\n    'VU',\n    'AZ',\n    'BN',\n    'BI',\n    'KH',\n    'CM',\n    'TD',\n    'KM',\n    'GQ',\n    'SZ',\n    'GA',\n    'GN',\n    'KG',\n    'LA',\n    'MO',\n    'MR',\n    'MN',\n    'NP',\n    'RW',\n    'TG',\n    'UZ',\n    'ZW',\n    'BJ',\n    'MG',\n    'MU',\n    'MZ',\n    'AO',\n    'CI',\n    'DJ',\n    'ZM',\n    'CD',\n    'CG',\n    'IQ',\n    'LY',\n    'TJ',\n    'VE',\n    'ET',\n    'XK'],\n   'disc_number': 1,\n   'duration_ms': 230453,\n   'episode': False,\n   'explicit': True,\n   'external_ids': {'isrc': 'USUG11600976'},\n   'external_urls': {'spotify': 'https://open.spotify.com/track/7MXVkk9YMctZqd1Srtv4MB'},\n   'href': 'https://api.spotify.com/v1/tracks/7MXVkk9YMctZqd1Srtv4MB',\n   'id': '7MXVkk9YMctZqd1Srtv4MB',\n   'is_local': False,\n   'name': 'Starboy',\n   'popularity': 92,\n   'preview_url': None,\n   'track': True,\n   'track_number': 1,\n   'type': 'track',\n   'uri': 'spotify:track:7MXVkk9YMctZqd1Srtv4MB'},\n  'video_thumbnail': {'url': None}},\n {'added_at': '2024-03-15T09:53:10Z',\n  'added_by': {'external_urls': {'spotify': 'https://open.spotify.com/user/'},\n   'href': 'https://api.spotify.com/v1/users/',\n   'id': '',\n   'type': 'user',\n   'uri': 'spotify:user:'},\n  'is_local': False,\n  'primary_color': None,\n  'track': {'album': {'album_type': 'album',\n    'artists': [{'external_urls': {'spotify': 'https://open.spotify.com/artist/66CXWjxzNUsdJxJ2JdwvnR'},\n      'href': 'https://api.spotify.com/v1/artists/66CXWjxzNUsdJxJ2JdwvnR',\n      'id': '66CXWjxzNUsdJxJ2JdwvnR',\n      'name': 'Ariana Grande',\n      'type': 'artist',\n      'uri': 'spotify:artist:66CXWjxzNUsdJxJ2JdwvnR'}],\n    'available_markets': ['AR',\n     'AU',\n     'AT',\n     'BE',\n     'BO',\n     'BR',\n     'BG',\n     'CA',\n     'CL',\n     'CO',\n     'CR',\n     'CY',\n     'CZ',\n     'DK',\n     'DO',\n     'DE',\n     'EC',\n     'EE',\n     'SV',\n     'FI',\n     'FR',\n     'GR',\n     'GT',\n     'HN',\n     'HK',\n     'HU',\n     'IS',\n     'IE',\n     'IT',\n     'LV',\n     'LT',\n     'LU',\n     'MY',\n     'MT',\n     'MX',\n     'NL',\n     'NZ',\n     'NI',\n     'NO',\n     'PA',\n     'PY',\n     'PE',\n     'PH',\n     'PL',\n     'PT',\n     'SG',\n     'SK',\n     'ES',\n     'SE',\n     'CH',\n     'TW',\n     'TR',\n     'UY',\n     'US',\n     'GB',\n     'AD',\n     'LI',\n     'MC',\n     'ID',\n     'JP',\n     'TH',\n     'VN',\n     'RO',\n     'IL',\n     'ZA',\n     'SA',\n     'AE',\n     'BH',\n     'QA',\n     'OM',\n     'KW',\n     'EG',\n     'MA',\n     'DZ',\n     'TN',\n     'LB',\n     'JO',\n     'PS',\n     'IN',\n     'KZ',\n     'MD',\n     'UA',\n     'AL',\n     'BA',\n     'HR',\n     'ME',\n     'MK',\n     'RS',\n     'SI',\n     'KR',\n     'BD',\n     'PK',\n     'LK',\n     'GH',\n     'KE',\n     'NG',\n     'TZ',\n     'UG',\n     'AG',\n     'AM',\n     'BS',\n     'BB',\n     'BZ',\n     'BT',\n     'BW',\n     'BF',\n     'CV',\n     'CW',\n     'DM',\n     'FJ',\n     'GM',\n     'GE',\n     'GD',\n     'GW',\n     'GY',\n     'HT',\n     'JM',\n     'KI',\n     'LS',\n     'LR',\n     'MW',\n     'MV',\n     'ML',\n     'MH',\n     'FM',\n     'NA',\n     'NR',\n     'NE',\n     'PW',\n     'PG',\n     'WS',\n     'SM',\n     'ST',\n     'SN',\n     'SC',\n     'SL',\n     'SB',\n     'KN',\n     'LC',\n     'VC',\n     'SR',\n     'TL',\n     'TO',\n     'TT',\n     'TV',\n     'VU',\n     'AZ',\n     'BN',\n     'BI',\n     'KH',\n     'CM',\n     'TD',\n     'KM',\n     'GQ',\n     'SZ',\n     'GA',\n     'GN',\n     'KG',\n     'LA',\n     'MO',\n     'MR',\n     'MN',\n     'NP',\n     'RW',\n     'TG',\n     'UZ',\n     'ZW',\n     'BJ',\n     'MG',\n     'MU',\n     'MZ',\n     'AO',\n     'CI',\n     'DJ',\n     'ZM',\n     'CD',\n     'CG',\n     'IQ',\n     'LY',\n     'TJ',\n     'VE',\n     'ET',\n     'XK'],\n    'external_urls': {'spotify': 'https://open.spotify.com/album/5EYKrEDnKhhcNxGedaRQeK'},\n    'href': 'https://api.spotify.com/v1/albums/5EYKrEDnKhhcNxGedaRQeK',\n    'id': '5EYKrEDnKhhcNxGedaRQeK',\n    'images': [{'height': 640,\n      'url': 'https://i.scdn.co/image/ab67616d0000b2738b58d20f1b77295730db15b4',\n      'width': 640},\n     {'height': 300,\n      'url': 'https://i.scdn.co/image/ab67616d00001e028b58d20f1b77295730db15b4',\n      'width': 300},\n     {'height': 64,\n      'url': 'https://i.scdn.co/image/ab67616d000048518b58d20f1b77295730db15b4',\n      'width': 64}],\n    'name': 'eternal sunshine',\n    'release_date': '2024-03-08',\n    'release_date_precision': 'day',\n    'total_tracks': 13,\n    'type': 'album',\n    'uri': 'spotify:album:5EYKrEDnKhhcNxGedaRQeK'},\n   'artists': [{'external_urls': {'spotify': 'https://open.spotify.com/artist/66CXWjxzNUsdJxJ2JdwvnR'},\n     'href': 'https://api.spotify.com/v1/artists/66CXWjxzNUsdJxJ2JdwvnR',\n     'id': '66CXWjxzNUsdJxJ2JdwvnR',\n     'name': 'Ariana Grande',\n     'type': 'artist',\n     'uri': 'spotify:artist:66CXWjxzNUsdJxJ2JdwvnR'}],\n   'available_markets': ['AR',\n    'AU',\n    'AT',\n    'BE',\n    'BO',\n    'BR',\n    'BG',\n    'CA',\n    'CL',\n    'CO',\n    'CR',\n    'CY',\n    'CZ',\n    'DK',\n    'DO',\n    'DE',\n    'EC',\n    'EE',\n    'SV',\n    'FI',\n    'FR',\n    'GR',\n    'GT',\n    'HN',\n    'HK',\n    'HU',\n    'IS',\n    'IE',\n    'IT',\n    'LV',\n    'LT',\n    'LU',\n    'MY',\n    'MT',\n    'MX',\n    'NL',\n    'NZ',\n    'NI',\n    'NO',\n    'PA',\n    'PY',\n    'PE',\n    'PH',\n    'PL',\n    'PT',\n    'SG',\n    'SK',\n    'ES',\n    'SE',\n    'CH',\n    'TW',\n    'TR',\n    'UY',\n    'US',\n    'GB',\n    'AD',\n    'LI',\n    'MC',\n    'ID',\n    'JP',\n    'TH',\n    'VN',\n    'RO',\n    'IL',\n    'ZA',\n    'SA',\n    'AE',\n    'BH',\n    'QA',\n    'OM',\n    'KW',\n    'EG',\n    'MA',\n    'DZ',\n    'TN',\n    'LB',\n    'JO',\n    'PS',\n    'IN',\n    'KZ',\n    'MD',\n    'UA',\n    'AL',\n    'BA',\n    'HR',\n    'ME',\n    'MK',\n    'RS',\n    'SI',\n    'KR',\n    'BD',\n    'PK',\n    'LK',\n    'GH',\n    'KE',\n    'NG',\n    'TZ',\n    'UG',\n    'AG',\n    'AM',\n    'BS',\n    'BB',\n    'BZ',\n    'BT',\n    'BW',\n    'BF',\n    'CV',\n    'CW',\n    'DM',\n    'FJ',\n    'GM',\n    'GE',\n    'GD',\n    'GW',\n    'GY',\n    'HT',\n    'JM',\n    'KI',\n    'LS',\n    'LR',\n    'MW',\n    'MV',\n    'ML',\n    'MH',\n    'FM',\n    'NA',\n    'NR',\n    'NE',\n    'PW',\n    'PG',\n    'WS',\n    'SM',\n    'ST',\n    'SN',\n    'SC',\n    'SL',\n    'SB',\n    'KN',\n    'LC',\n    'VC',\n    'SR',\n    'TL',\n    'TO',\n    'TT',\n    'TV',\n    'VU',\n    'AZ',\n    'BN',\n    'BI',\n    'KH',\n    'CM',\n    'TD',\n    'KM',\n    'GQ',\n    'SZ',\n    'GA',\n    'GN',\n    'KG',\n    'LA',\n    'MO',\n    'MR',\n    'MN',\n    'NP',\n    'RW',\n    'TG',\n    'UZ',\n    'ZW',\n    'BJ',\n    'MG',\n    'MU',\n    'MZ',\n    'AO',\n    'CI',\n    'DJ',\n    'ZM',\n    'CD',\n    'CG',\n    'IQ',\n    'LY',\n    'TJ',\n    'VE',\n    'ET',\n    'XK'],\n   'disc_number': 1,\n   'duration_ms': 42166,\n   'episode': False,\n   'explicit': False,\n   'external_ids': {'isrc': 'USUM72317962'},\n   'external_urls': {'spotify': 'https://open.spotify.com/track/13jRSCLoWbCoU1XEdJRbgn'},\n   'href': 'https://api.spotify.com/v1/tracks/13jRSCLoWbCoU1XEdJRbgn',\n   'id': '13jRSCLoWbCoU1XEdJRbgn',\n   'is_local': False,\n   'name': 'Saturn Returns Interlude',\n   'popularity': 83,\n   'preview_url': None,\n   'track': True,\n   'track_number': 4,\n   'type': 'track',\n   'uri': 'spotify:track:13jRSCLoWbCoU1XEdJRbgn'},\n  'video_thumbnail': {'url': None}},\n {'added_at': '2024-03-15T09:53:10Z',\n  'added_by': {'external_urls': {'spotify': 'https://open.spotify.com/user/'},\n   'href': 'https://api.spotify.com/v1/users/',\n   'id': '',\n   'type': 'user',\n   'uri': 'spotify:user:'},\n  'is_local': False,\n  'primary_color': None,\n  'track': {'album': {'album_type': 'album',\n    'artists': [{'external_urls': {'spotify': 'https://open.spotify.com/artist/1McMsnEElThX1knmY4oliG'},\n      'href': 'https://api.spotify.com/v1/artists/1McMsnEElThX1knmY4oliG',\n      'id': '1McMsnEElThX1knmY4oliG',\n      'name': 'Olivia Rodrigo',\n      'type': 'artist',\n      'uri': 'spotify:artist:1McMsnEElThX1knmY4oliG'}],\n    'available_markets': ['AR',\n     'AU',\n     'AT',\n     'BE',\n     'BO',\n     'BR',\n     'BG',\n     'CA',\n     'CL',\n     'CO',\n     'CR',\n     'CY',\n     'CZ',\n     'DK',\n     'DO',\n     'DE',\n     'EC',\n     'EE',\n     'SV',\n     'FI',\n     'FR',\n     'GR',\n     'GT',\n     'HN',\n     'HK',\n     'HU',\n     'IS',\n     'IE',\n     'IT',\n     'LV',\n     'LT',\n     'LU',\n     'MY',\n     'MT',\n     'MX',\n     'NL',\n     'NZ',\n     'NI',\n     'NO',\n     'PA',\n     'PY',\n     'PE',\n     'PH',\n     'PL',\n     'PT',\n     'SG',\n     'SK',\n     'ES',\n     'SE',\n     'CH',\n     'TW',\n     'TR',\n     'UY',\n     'US',\n     'GB',\n     'AD',\n     'LI',\n     'MC',\n     'ID',\n     'JP',\n     'TH',\n     'VN',\n     'RO',\n     'IL',\n     'ZA',\n     'SA',\n     'AE',\n     'BH',\n     'QA',\n     'OM',\n     'KW',\n     'EG',\n     'MA',\n     'DZ',\n     'TN',\n     'LB',\n     'JO',\n     'PS',\n     'IN',\n     'KZ',\n     'MD',\n     'UA',\n     'AL',\n     'BA',\n     'HR',\n     'ME',\n     'MK',\n     'RS',\n     'SI',\n     'KR',\n     'BD',\n     'PK',\n     'LK',\n     'GH',\n     'KE',\n     'NG',\n     'TZ',\n     'UG',\n     'AG',\n     'AM',\n     'BS',\n     'BB',\n     'BZ',\n     'BT',\n     'BW',\n     'BF',\n     'CV',\n     'CW',\n     'DM',\n     'FJ',\n     'GM',\n     'GE',\n     'GD',\n     'GW',\n     'GY',\n     'HT',\n     'JM',\n     'KI',\n     'LS',\n     'LR',\n     'MW',\n     'MV',\n     'ML',\n     'MH',\n     'FM',\n     'NA',\n     'NR',\n     'NE',\n     'PW',\n     'PG',\n     'WS',\n     'SM',\n     'ST',\n     'SN',\n     'SC',\n     'SL',\n     'SB',\n     'KN',\n     'LC',\n     'VC',\n     'SR',\n     'TL',\n     'TO',\n     'TT',\n     'TV',\n     'VU',\n     'AZ',\n     'BN',\n     'BI',\n     'KH',\n     'CM',\n     'TD',\n     'KM',\n     'GQ',\n     'SZ',\n     'GA',\n     'GN',\n     'KG',\n     'LA',\n     'MO',\n     'MR',\n     'MN',\n     'NP',\n     'RW',\n     'TG',\n     'UZ',\n     'ZW',\n     'BJ',\n     'MG',\n     'MU',\n     'MZ',\n     'AO',\n     'CI',\n     'DJ',\n     'ZM',\n     'CD',\n     'CG',\n     'IQ',\n     'LY',\n     'TJ',\n     'VE',\n     'ET',\n     'XK'],\n    'external_urls': {'spotify': 'https://open.spotify.com/album/1xJHno7SmdVtZAtXbdbDZp'},\n    'href': 'https://api.spotify.com/v1/albums/1xJHno7SmdVtZAtXbdbDZp',\n    'id': '1xJHno7SmdVtZAtXbdbDZp',\n    'images': [{'height': 640,\n      'url': 'https://i.scdn.co/image/ab67616d0000b273e85259a1cae29a8d91f2093d',\n      'width': 640},\n     {'height': 300,\n      'url': 'https://i.scdn.co/image/ab67616d00001e02e85259a1cae29a8d91f2093d',\n      'width': 300},\n     {'height': 64,\n      'url': 'https://i.scdn.co/image/ab67616d00004851e85259a1cae29a8d91f2093d',\n      'width': 64}],\n    'name': 'GUTS',\n    'release_date': '2023-09-08',\n    'release_date_precision': 'day',\n    'total_tracks': 12,\n    'type': 'album',\n    'uri': 'spotify:album:1xJHno7SmdVtZAtXbdbDZp'},\n   'artists': [{'external_urls': {'spotify': 'https://open.spotify.com/artist/1McMsnEElThX1knmY4oliG'},\n     'href': 'https://api.spotify.com/v1/artists/1McMsnEElThX1knmY4oliG',\n     'id': '1McMsnEElThX1knmY4oliG',\n     'name': 'Olivia Rodrigo',\n     'type': 'artist',\n     'uri': 'spotify:artist:1McMsnEElThX1knmY4oliG'}],\n   'available_markets': ['AR',\n    'AU',\n    'AT',\n    'BE',\n    'BO',\n    'BR',\n    'BG',\n    'CA',\n    'CL',\n    'CO',\n    'CR',\n    'CY',\n    'CZ',\n    'DK',\n    'DO',\n    'DE',\n    'EC',\n    'EE',\n    'SV',\n    'FI',\n    'FR',\n    'GR',\n    'GT',\n    'HN',\n    'HK',\n    'HU',\n    'IS',\n    'IE',\n    'IT',\n    'LV',\n    'LT',\n    'LU',\n    'MY',\n    'MT',\n    'MX',\n    'NL',\n    'NZ',\n    'NI',\n    'NO',\n    'PA',\n    'PY',\n    'PE',\n    'PH',\n    'PL',\n    'PT',\n    'SG',\n    'SK',\n    'ES',\n    'SE',\n    'CH',\n    'TW',\n    'TR',\n    'UY',\n    'US',\n    'GB',\n    'AD',\n    'LI',\n    'MC',\n    'ID',\n    'JP',\n    'TH',\n    'VN',\n    'RO',\n    'IL',\n    'ZA',\n    'SA',\n    'AE',\n    'BH',\n    'QA',\n    'OM',\n    'KW',\n    'EG',\n    'MA',\n    'DZ',\n    'TN',\n    'LB',\n    'JO',\n    'PS',\n    'IN',\n    'KZ',\n    'MD',\n    'UA',\n    'AL',\n    'BA',\n    'HR',\n    'ME',\n    'MK',\n    'RS',\n    'SI',\n    'KR',\n    'BD',\n    'PK',\n    'LK',\n    'GH',\n    'KE',\n    'NG',\n    'TZ',\n    'UG',\n    'AG',\n    'AM',\n    'BS',\n    'BB',\n    'BZ',\n    'BT',\n    'BW',\n    'BF',\n    'CV',\n    'CW',\n    'DM',\n    'FJ',\n    'GM',\n    'GE',\n    'GD',\n    'GW',\n    'GY',\n    'HT',\n    'JM',\n    'KI',\n    'LS',\n    'LR',\n    'MW',\n    'MV',\n    'ML',\n    'MH',\n    'FM',\n    'NA',\n    'NR',\n    'NE',\n    'PW',\n    'PG',\n    'WS',\n    'SM',\n    'ST',\n    'SN',\n    'SC',\n    'SL',\n    'SB',\n    'KN',\n    'LC',\n    'VC',\n    'SR',\n    'TL',\n    'TO',\n    'TT',\n    'TV',\n    'VU',\n    'AZ',\n    'BN',\n    'BI',\n    'KH',\n    'CM',\n    'TD',\n    'KM',\n    'GQ',\n    'SZ',\n    'GA',\n    'GN',\n    'KG',\n    'LA',\n    'MO',\n    'MR',\n    'MN',\n    'NP',\n    'RW',\n    'TG',\n    'UZ',\n    'ZW',\n    'BJ',\n    'MG',\n    'MU',\n    'MZ',\n    'AO',\n    'CI',\n    'DJ',\n    'ZM',\n    'CD',\n    'CG',\n    'IQ',\n    'LY',\n    'TJ',\n    'VE',\n    'ET',\n    'XK'],\n   'disc_number': 1,\n   'duration_ms': 219724,\n   'episode': False,\n   'explicit': True,\n   'external_ids': {'isrc': 'USUG12304091'},\n   'external_urls': {'spotify': 'https://open.spotify.com/track/1kuGVB7EU95pJObxwvfwKS'},\n   'href': 'https://api.spotify.com/v1/tracks/1kuGVB7EU95pJObxwvfwKS',\n   'id': '1kuGVB7EU95pJObxwvfwKS',\n   'is_local': False,\n   'name': 'vampire',\n   'popularity': 92,\n   'preview_url': None,\n   'track': True,\n   'track_number': 3,\n   'type': 'track',\n   'uri': 'spotify:track:1kuGVB7EU95pJObxwvfwKS'},\n  'video_thumbnail': {'url': None}},\n {'added_at': '2024-03-15T09:53:10Z',\n  'added_by': {'external_urls': {'spotify': 'https://open.spotify.com/user/'},\n   'href': 'https://api.spotify.com/v1/users/',\n   'id': '',\n   'type': 'user',\n   'uri': 'spotify:user:'},\n  'is_local': False,\n  'primary_color': None,\n  'track': {'album': {'album_type': 'album',\n    'artists': [{'external_urls': {'spotify': 'https://open.spotify.com/artist/66CXWjxzNUsdJxJ2JdwvnR'},\n      'href': 'https://api.spotify.com/v1/artists/66CXWjxzNUsdJxJ2JdwvnR',\n      'id': '66CXWjxzNUsdJxJ2JdwvnR',\n      'name': 'Ariana Grande',\n      'type': 'artist',\n      'uri': 'spotify:artist:66CXWjxzNUsdJxJ2JdwvnR'}],\n    'available_markets': ['AR',\n     'AU',\n     'AT',\n     'BE',\n     'BO',\n     'BR',\n     'BG',\n     'CA',\n     'CL',\n     'CO',\n     'CR',\n     'CY',\n     'CZ',\n     'DK',\n     'DO',\n     'DE',\n     'EC',\n     'EE',\n     'SV',\n     'FI',\n     'FR',\n     'GR',\n     'GT',\n     'HN',\n     'HK',\n     'HU',\n     'IS',\n     'IE',\n     'IT',\n     'LV',\n     'LT',\n     'LU',\n     'MY',\n     'MT',\n     'MX',\n     'NL',\n     'NZ',\n     'NI',\n     'NO',\n     'PA',\n     'PY',\n     'PE',\n     'PH',\n     'PL',\n     'PT',\n     'SG',\n     'SK',\n     'ES',\n     'SE',\n     'CH',\n     'TW',\n     'TR',\n     'UY',\n     'US',\n     'GB',\n     'AD',\n     'LI',\n     'MC',\n     'ID',\n     'JP',\n     'TH',\n     'VN',\n     'RO',\n     'IL',\n     'ZA',\n     'SA',\n     'AE',\n     'BH',\n     'QA',\n     'OM',\n     'KW',\n     'EG',\n     'MA',\n     'DZ',\n     'TN',\n     'LB',\n     'JO',\n     'PS',\n     'IN',\n     'KZ',\n     'MD',\n     'UA',\n     'AL',\n     'BA',\n     'HR',\n     'ME',\n     'MK',\n     'RS',\n     'SI',\n     'KR',\n     'BD',\n     'PK',\n     'LK',\n     'GH',\n     'KE',\n     'NG',\n     'TZ',\n     'UG',\n     'AG',\n     'AM',\n     'BS',\n     'BB',\n     'BZ',\n     'BT',\n     'BW',\n     'BF',\n     'CV',\n     'CW',\n     'DM',\n     'FJ',\n     'GM',\n     'GE',\n     'GD',\n     'GW',\n     'GY',\n     'HT',\n     'JM',\n     'KI',\n     'LS',\n     'LR',\n     'MW',\n     'MV',\n     'ML',\n     'MH',\n     'FM',\n     'NA',\n     'NR',\n     'NE',\n     'PW',\n     'PG',\n     'WS',\n     'SM',\n     'ST',\n     'SN',\n     'SC',\n     'SL',\n     'SB',\n     'KN',\n     'LC',\n     'VC',\n     'SR',\n     'TL',\n     'TO',\n     'TT',\n     'TV',\n     'VU',\n     'AZ',\n     'BN',\n     'BI',\n     'KH',\n     'CM',\n     'TD',\n     'KM',\n     'GQ',\n     'SZ',\n     'GA',\n     'GN',\n     'KG',\n     'LA',\n     'MO',\n     'MR',\n     'MN',\n     'NP',\n     'RW',\n     'TG',\n     'UZ',\n     'ZW',\n     'BJ',\n     'MG',\n     'MU',\n     'MZ',\n     'AO',\n     'CI',\n     'DJ',\n     'ZM',\n     'CD',\n     'CG',\n     'IQ',\n     'LY',\n     'TJ',\n     'VE',\n     'ET',\n     'XK'],\n    'external_urls': {'spotify': 'https://open.spotify.com/album/5EYKrEDnKhhcNxGedaRQeK'},\n    'href': 'https://api.spotify.com/v1/albums/5EYKrEDnKhhcNxGedaRQeK',\n    'id': '5EYKrEDnKhhcNxGedaRQeK',\n    'images': [{'height': 640,\n      'url': 'https://i.scdn.co/image/ab67616d0000b2738b58d20f1b77295730db15b4',\n      'width': 640},\n     {'height': 300,\n      'url': 'https://i.scdn.co/image/ab67616d00001e028b58d20f1b77295730db15b4',\n      'width': 300},\n     {'height': 64,\n      'url': 'https://i.scdn.co/image/ab67616d000048518b58d20f1b77295730db15b4',\n      'width': 64}],\n    'name': 'eternal sunshine',\n    'release_date': '2024-03-08',\n    'release_date_precision': 'day',\n    'total_tracks': 13,\n    'type': 'album',\n    'uri': 'spotify:album:5EYKrEDnKhhcNxGedaRQeK'},\n   'artists': [{'external_urls': {'spotify': 'https://open.spotify.com/artist/66CXWjxzNUsdJxJ2JdwvnR'},\n     'href': 'https://api.spotify.com/v1/artists/66CXWjxzNUsdJxJ2JdwvnR',\n     'id': '66CXWjxzNUsdJxJ2JdwvnR',\n     'name': 'Ariana Grande',\n     'type': 'artist',\n     'uri': 'spotify:artist:66CXWjxzNUsdJxJ2JdwvnR'},\n    {'external_urls': {'spotify': 'https://open.spotify.com/artist/3ZlizIQAjUYfvDpcK4CYK3'},\n     'href': 'https://api.spotify.com/v1/artists/3ZlizIQAjUYfvDpcK4CYK3',\n     'id': '3ZlizIQAjUYfvDpcK4CYK3',\n     'name': 'Nonna',\n     'type': 'artist',\n     'uri': 'spotify:artist:3ZlizIQAjUYfvDpcK4CYK3'}],\n   'available_markets': ['AR',\n    'AU',\n    'AT',\n    'BE',\n    'BO',\n    'BR',\n    'BG',\n    'CA',\n    'CL',\n    'CO',\n    'CR',\n    'CY',\n    'CZ',\n    'DK',\n    'DO',\n    'DE',\n    'EC',\n    'EE',\n    'SV',\n    'FI',\n    'FR',\n    'GR',\n    'GT',\n    'HN',\n    'HK',\n    'HU',\n    'IS',\n    'IE',\n    'IT',\n    'LV',\n    'LT',\n    'LU',\n    'MY',\n    'MT',\n    'MX',\n    'NL',\n    'NZ',\n    'NI',\n    'NO',\n    'PA',\n    'PY',\n    'PE',\n    'PH',\n    'PL',\n    'PT',\n    'SG',\n    'SK',\n    'ES',\n    'SE',\n    'CH',\n    'TW',\n    'TR',\n    'UY',\n    'US',\n    'GB',\n    'AD',\n    'LI',\n    'MC',\n    'ID',\n    'JP',\n    'TH',\n    'VN',\n    'RO',\n    'IL',\n    'ZA',\n    'SA',\n    'AE',\n    'BH',\n    'QA',\n    'OM',\n    'KW',\n    'EG',\n    'MA',\n    'DZ',\n    'TN',\n    'LB',\n    'JO',\n    'PS',\n    'IN',\n    'KZ',\n    'MD',\n    'UA',\n    'AL',\n    'BA',\n    'HR',\n    'ME',\n    'MK',\n    'RS',\n    'SI',\n    'KR',\n    'BD',\n    'PK',\n    'LK',\n    'GH',\n    'KE',\n    'NG',\n    'TZ',\n    'UG',\n    'AG',\n    'AM',\n    'BS',\n    'BB',\n    'BZ',\n    'BT',\n    'BW',\n    'BF',\n    'CV',\n    'CW',\n    'DM',\n    'FJ',\n    'GM',\n    'GE',\n    'GD',\n    'GW',\n    'GY',\n    'HT',\n    'JM',\n    'KI',\n    'LS',\n    'LR',\n    'MW',\n    'MV',\n    'ML',\n    'MH',\n    'FM',\n    'NA',\n    'NR',\n    'NE',\n    'PW',\n    'PG',\n    'WS',\n    'SM',\n    'ST',\n    'SN',\n    'SC',\n    'SL',\n    'SB',\n    'KN',\n    'LC',\n    'VC',\n    'SR',\n    'TL',\n    'TO',\n    'TT',\n    'TV',\n    'VU',\n    'AZ',\n    'BN',\n    'BI',\n    'KH',\n    'CM',\n    'TD',\n    'KM',\n    'GQ',\n    'SZ',\n    'GA',\n    'GN',\n    'KG',\n    'LA',\n    'MO',\n    'MR',\n    'MN',\n    'NP',\n    'RW',\n    'TG',\n    'UZ',\n    'ZW',\n    'BJ',\n    'MG',\n    'MU',\n    'MZ',\n    'AO',\n    'CI',\n    'DJ',\n    'ZM',\n    'CD',\n    'CG',\n    'IQ',\n    'LY',\n    'TJ',\n    'VE',\n    'ET',\n    'XK'],\n   'disc_number': 1,\n   'duration_ms': 168500,\n   'episode': False,\n   'explicit': False,\n   'external_ids': {'isrc': 'USUM72317485'},\n   'external_urls': {'spotify': 'https://open.spotify.com/track/4mHM5d2fK3n8xgymjf92w2'},\n   'href': 'https://api.spotify.com/v1/tracks/4mHM5d2fK3n8xgymjf92w2',\n   'id': '4mHM5d2fK3n8xgymjf92w2',\n   'is_local': False,\n   'name': 'ordinary things (feat. Nonna)',\n   'popularity': 83,\n   'preview_url': None,\n   'track': True,\n   'track_number': 13,\n   'type': 'track',\n   'uri': 'spotify:track:4mHM5d2fK3n8xgymjf92w2'},\n  'video_thumbnail': {'url': None}}]"
     ]
    }
   ],
   "source": [
    "##basic transformation for that number and ## store it\n",
    "playlist_URI=playlist.split(\"/\")[-1].split(\"?\")[0]\n",
    "data = sp.playlist_tracks(playlist_URI)\n",
    "data[\"items\"]"
   ]
  },
  {
   "cell_type": "code",
   "execution_count": 0,
   "metadata": {
    "application/vnd.databricks.v1+cell": {
     "cellMetadata": {
      "byteLimit": 2048000,
      "rowLimit": 10000
     },
     "inputWidgets": {},
     "nuid": "f10d6ed1-a987-4081-b97e-628c582e9791",
     "showTitle": false,
     "title": ""
    }
   },
   "outputs": [
    {
     "output_type": "stream",
     "name": "stdout",
     "output_type": "stream",
     "text": [
      "Out[7]: '5EYKrEDnKhhcNxGedaRQeK'"
     ]
    }
   ],
   "source": [
    "##extraction\n",
    "data['items'][0]['track']['album']['id']"
   ]
  },
  {
   "cell_type": "code",
   "execution_count": 0,
   "metadata": {
    "application/vnd.databricks.v1+cell": {
     "cellMetadata": {
      "byteLimit": 2048000,
      "rowLimit": 10000
     },
     "inputWidgets": {},
     "nuid": "572ee012-7cbf-4afc-9411-2b48d4f8d169",
     "showTitle": false,
     "title": ""
    }
   },
   "outputs": [
    {
     "output_type": "stream",
     "name": "stdout",
     "output_type": "stream",
     "text": [
      "Out[8]: 'eternal sunshine'"
     ]
    }
   ],
   "source": [
    "data['items'][0]['track']['album']['name']"
   ]
  },
  {
   "cell_type": "code",
   "execution_count": 0,
   "metadata": {
    "application/vnd.databricks.v1+cell": {
     "cellMetadata": {
      "byteLimit": 2048000,
      "rowLimit": 10000
     },
     "inputWidgets": {},
     "nuid": "5528a89f-be1a-41b8-9871-bf5efed9ba1b",
     "showTitle": false,
     "title": ""
    }
   },
   "outputs": [
    {
     "output_type": "stream",
     "name": "stdout",
     "output_type": "stream",
     "text": [
      "Out[9]: '2024-03-08'"
     ]
    }
   ],
   "source": [
    "data['items'][0]['track']['album']['release_date']"
   ]
  },
  {
   "cell_type": "code",
   "execution_count": 0,
   "metadata": {
    "application/vnd.databricks.v1+cell": {
     "cellMetadata": {
      "byteLimit": 2048000,
      "rowLimit": 10000
     },
     "inputWidgets": {},
     "nuid": "573a5e19-4cbd-47b0-9435-aaeaa11903d7",
     "showTitle": false,
     "title": ""
    }
   },
   "outputs": [
    {
     "output_type": "stream",
     "name": "stdout",
     "output_type": "stream",
     "text": [
      "Out[11]: 13"
     ]
    }
   ],
   "source": [
    "data['items'][0]['track']['album']['total_tracks']"
   ]
  },
  {
   "cell_type": "code",
   "execution_count": 0,
   "metadata": {
    "application/vnd.databricks.v1+cell": {
     "cellMetadata": {
      "byteLimit": 2048000,
      "rowLimit": 10000
     },
     "inputWidgets": {},
     "nuid": "ef5720b6-ef04-47ce-ba85-115dcaea7274",
     "showTitle": false,
     "title": ""
    }
   },
   "outputs": [
    {
     "output_type": "stream",
     "name": "stdout",
     "output_type": "stream",
     "text": [
      "Out[12]: 'https://open.spotify.com/album/5EYKrEDnKhhcNxGedaRQeK'"
     ]
    }
   ],
   "source": [
    "data['items'][0]['track']['album']['external_urls']['spotify']"
   ]
  },
  {
   "cell_type": "code",
   "execution_count": 0,
   "metadata": {
    "application/vnd.databricks.v1+cell": {
     "cellMetadata": {
      "byteLimit": 2048000,
      "rowLimit": 10000
     },
     "inputWidgets": {},
     "nuid": "8e750f97-67ec-4d19-9307-5fa11f6013e7",
     "showTitle": false,
     "title": ""
    }
   },
   "outputs": [],
   "source": [
    "album_list=[]\n",
    "for row in data['items']:\n",
    "  album_id = row['track']['album']['id']\n",
    "  album_name = row['track']['album']['name']\n",
    "  album_release_date = row['track']['album']['release_date']\n",
    "  album_total_tracks = row['track']['album']['total_tracks']\n",
    "  album_url = row['track']['album']['external_urls']['spotify']\n",
    "  album_elements={'album_id':album_id,'album_name':album_name,\n",
    "                  'album_release_date':album_release_date,\n",
    "                  'album_total_tracks':album_total_tracks,'album_url':album_url}\n",
    "  album_list.append(album_elements)\n",
    "\n"
   ]
  },
  {
   "cell_type": "code",
   "execution_count": 0,
   "metadata": {
    "application/vnd.databricks.v1+cell": {
     "cellMetadata": {
      "byteLimit": 2048000,
      "rowLimit": 10000
     },
     "inputWidgets": {},
     "nuid": "77da99d7-3a4d-4abc-ae42-649af62cdb50",
     "showTitle": false,
     "title": ""
    }
   },
   "outputs": [
    {
     "output_type": "stream",
     "name": "stdout",
     "output_type": "stream",
     "text": [
      "Out[14]: [{'album_id': '5EYKrEDnKhhcNxGedaRQeK',\n  'album_name': 'eternal sunshine',\n  'album_release_date': '2024-03-08',\n  'album_total_tracks': 13,\n  'album_url': 'https://open.spotify.com/album/5EYKrEDnKhhcNxGedaRQeK'},\n {'album_id': '29aSKB1qPEbN0Qf9OPSQpw',\n  'album_name': 'Beautiful Things',\n  'album_release_date': '2024-01-18',\n  'album_total_tracks': 1,\n  'album_url': 'https://open.spotify.com/album/29aSKB1qPEbN0Qf9OPSQpw'},\n {'album_id': '4JDXBZdRPId4devseaAOKH',\n  'album_name': 'DECIDE',\n  'album_release_date': '2022-09-16',\n  'album_total_tracks': 13,\n  'album_url': 'https://open.spotify.com/album/4JDXBZdRPId4devseaAOKH'},\n {'album_id': '30zwjSQEodaUXCn11nmiVF',\n  'album_name': 'VULTURES 1',\n  'album_release_date': '2024-02-09',\n  'album_total_tracks': 16,\n  'album_url': 'https://open.spotify.com/album/30zwjSQEodaUXCn11nmiVF'},\n {'album_id': '3UOV8XvCwMKaATRNXrYCjN',\n  'album_name': 'greedy',\n  'album_release_date': '2023-09-15',\n  'album_total_tracks': 1,\n  'album_url': 'https://open.spotify.com/album/3UOV8XvCwMKaATRNXrYCjN'},\n {'album_id': '5EYKrEDnKhhcNxGedaRQeK',\n  'album_name': 'eternal sunshine',\n  'album_release_date': '2024-03-08',\n  'album_total_tracks': 13,\n  'album_url': 'https://open.spotify.com/album/5EYKrEDnKhhcNxGedaRQeK'},\n {'album_id': '1NAmidJlEaVgA3MpcPFYGq',\n  'album_name': 'Lover',\n  'album_release_date': '2019-08-23',\n  'album_total_tracks': 18,\n  'album_url': 'https://open.spotify.com/album/1NAmidJlEaVgA3MpcPFYGq'},\n {'album_id': '7nacKlk586eLRBSIsrk9DB',\n  'album_name': \"I've Tried Everything But Therapy (Part 1)\",\n  'album_release_date': '2023-09-15',\n  'album_total_tracks': 10,\n  'album_url': 'https://open.spotify.com/album/7nacKlk586eLRBSIsrk9DB'},\n {'album_id': '2NXwHjhgaAdkDy6GPSxMAd',\n  'album_name': \"TEXAS HOLD 'EM\",\n  'album_release_date': '2024-02-10',\n  'album_total_tracks': 3,\n  'album_url': 'https://open.spotify.com/album/2NXwHjhgaAdkDy6GPSxMAd'},\n {'album_id': '18sR8zHx4zsVJUI4bHWuPC',\n  'album_name': 'The Highlights (Deluxe)',\n  'album_release_date': '2024-02-09',\n  'album_total_tracks': 36,\n  'album_url': 'https://open.spotify.com/album/18sR8zHx4zsVJUI4bHWuPC'},\n {'album_id': '5EYKrEDnKhhcNxGedaRQeK',\n  'album_name': 'eternal sunshine',\n  'album_release_date': '2024-03-08',\n  'album_total_tracks': 13,\n  'album_url': 'https://open.spotify.com/album/5EYKrEDnKhhcNxGedaRQeK'},\n {'album_id': '5tSQtQGkrCJx3hoQxmLgfM',\n  'album_name': 'Gata Only',\n  'album_release_date': '2024-02-02',\n  'album_total_tracks': 1,\n  'album_url': 'https://open.spotify.com/album/5tSQtQGkrCJx3hoQxmLgfM'},\n {'album_id': '5EYKrEDnKhhcNxGedaRQeK',\n  'album_name': 'eternal sunshine',\n  'album_release_date': '2024-03-08',\n  'album_total_tracks': 13,\n  'album_url': 'https://open.spotify.com/album/5EYKrEDnKhhcNxGedaRQeK'},\n {'album_id': '2Cn1d2KgbkAqbZCJ1RzdkA',\n  'album_name': 'The Land Is Inhospitable and So Are We',\n  'album_release_date': '2023-09-15',\n  'album_total_tracks': 11,\n  'album_url': 'https://open.spotify.com/album/2Cn1d2KgbkAqbZCJ1RzdkA'},\n {'album_id': '5EYKrEDnKhhcNxGedaRQeK',\n  'album_name': 'eternal sunshine',\n  'album_release_date': '2024-03-08',\n  'album_total_tracks': 13,\n  'album_url': 'https://open.spotify.com/album/5EYKrEDnKhhcNxGedaRQeK'},\n {'album_id': '2IoSjweCu07y9mv5H1Cj3v',\n  'album_name': 'La Diabla',\n  'album_release_date': '2023-11-30',\n  'album_total_tracks': 1,\n  'album_url': 'https://open.spotify.com/album/2IoSjweCu07y9mv5H1Cj3v'},\n {'album_id': '50ZenUP4O2Q5eCy2NRNvuz',\n  'album_name': 'Stick Season',\n  'album_release_date': '2022-10-14',\n  'album_total_tracks': 14,\n  'album_url': 'https://open.spotify.com/album/50ZenUP4O2Q5eCy2NRNvuz'},\n {'album_id': '5EYKrEDnKhhcNxGedaRQeK',\n  'album_name': 'eternal sunshine',\n  'album_release_date': '2024-03-08',\n  'album_total_tracks': 13,\n  'album_url': 'https://open.spotify.com/album/5EYKrEDnKhhcNxGedaRQeK'},\n {'album_id': '0lgs2Sa82lyX89nBUWyUy6',\n  'album_name': 'FERXXOCALIPSIS',\n  'album_release_date': '2023-12-01',\n  'album_total_tracks': 10,\n  'album_url': 'https://open.spotify.com/album/0lgs2Sa82lyX89nBUWyUy6'},\n {'album_id': '5EYKrEDnKhhcNxGedaRQeK',\n  'album_name': 'eternal sunshine',\n  'album_release_date': '2024-03-08',\n  'album_total_tracks': 13,\n  'album_url': 'https://open.spotify.com/album/5EYKrEDnKhhcNxGedaRQeK'},\n {'album_id': '2RRYaYHY7fIIdvFlvgb5vq',\n  'album_name': 'american dream',\n  'album_release_date': '2024-01-12',\n  'album_total_tracks': 15,\n  'album_url': 'https://open.spotify.com/album/2RRYaYHY7fIIdvFlvgb5vq'},\n {'album_id': '1fmBMCSSkSlvxyoy1vut2k',\n  'album_name': 'Saturn',\n  'album_release_date': '2024-02-22',\n  'album_total_tracks': 5,\n  'album_url': 'https://open.spotify.com/album/1fmBMCSSkSlvxyoy1vut2k'},\n {'album_id': '18NOKLkZETa4sWwLMIm0UZ',\n  'album_name': 'UTOPIA',\n  'album_release_date': '2023-07-28',\n  'album_total_tracks': 19,\n  'album_url': 'https://open.spotify.com/album/18NOKLkZETa4sWwLMIm0UZ'},\n {'album_id': '5EYKrEDnKhhcNxGedaRQeK',\n  'album_name': 'eternal sunshine',\n  'album_release_date': '2024-03-08',\n  'album_total_tracks': 13,\n  'album_url': 'https://open.spotify.com/album/5EYKrEDnKhhcNxGedaRQeK'},\n {'album_id': '5EYKrEDnKhhcNxGedaRQeK',\n  'album_name': 'eternal sunshine',\n  'album_release_date': '2024-03-08',\n  'album_total_tracks': 13,\n  'album_url': 'https://open.spotify.com/album/5EYKrEDnKhhcNxGedaRQeK'},\n {'album_id': '6VCO0fDBGbRW8mCEvV95af',\n  'album_name': 'Lovin On Me',\n  'album_release_date': '2023-11-10',\n  'album_total_tracks': 1,\n  'album_url': 'https://open.spotify.com/album/6VCO0fDBGbRW8mCEvV95af'},\n {'album_id': '3PEzTAuPW5IjLJ58FzwQeL',\n  'album_name': 'Unwritten',\n  'album_release_date': '2004-08-30',\n  'album_total_tracks': 14,\n  'album_url': 'https://open.spotify.com/album/3PEzTAuPW5IjLJ58FzwQeL'},\n {'album_id': '5EYKrEDnKhhcNxGedaRQeK',\n  'album_name': 'eternal sunshine',\n  'album_release_date': '2024-03-08',\n  'album_total_tracks': 13,\n  'album_url': 'https://open.spotify.com/album/5EYKrEDnKhhcNxGedaRQeK'},\n {'album_id': '78bpIziExqiI9qztvNFlQu',\n  'album_name': 'AM',\n  'album_release_date': '2013-09-09',\n  'album_total_tracks': 12,\n  'album_url': 'https://open.spotify.com/album/78bpIziExqiI9qztvNFlQu'},\n {'album_id': '3BicSFhksEP3QHanmBM1Wd',\n  'album_name': 'Praise Jah In The Moonlight',\n  'album_release_date': '2023-12-27',\n  'album_total_tracks': 1,\n  'album_url': 'https://open.spotify.com/album/3BicSFhksEP3QHanmBM1Wd'},\n {'album_id': '5pTaRVLwZOFObIbRBubmeb',\n  'album_name': 'Houdini',\n  'album_release_date': '2023-11-09',\n  'album_total_tracks': 1,\n  'album_url': 'https://open.spotify.com/album/5pTaRVLwZOFObIbRBubmeb'},\n {'album_id': '1ZVJTCW5rxpHKNgsNL91J2',\n  'album_name': 'LVEU: VIVE LA TUYA...NO LA MIA',\n  'album_release_date': '2023-09-18',\n  'album_total_tracks': 23,\n  'album_url': 'https://open.spotify.com/album/1ZVJTCW5rxpHKNgsNL91J2'},\n {'album_id': '5EYKrEDnKhhcNxGedaRQeK',\n  'album_name': 'eternal sunshine',\n  'album_release_date': '2024-03-08',\n  'album_total_tracks': 13,\n  'album_url': 'https://open.spotify.com/album/5EYKrEDnKhhcNxGedaRQeK'},\n {'album_id': '30KJEN3ICjhYsZ1NgunRCr',\n  'album_name': 'La Víctima',\n  'album_release_date': '2023-08-17',\n  'album_total_tracks': 1,\n  'album_url': 'https://open.spotify.com/album/30KJEN3ICjhYsZ1NgunRCr'},\n {'album_id': '22sXXkKgjEuawIFL1e1tRw',\n  'album_name': 'Water',\n  'album_release_date': '2023-07-28',\n  'album_total_tracks': 1,\n  'album_url': 'https://open.spotify.com/album/22sXXkKgjEuawIFL1e1tRw'},\n {'album_id': '3sqC2sXZc0b9r7WM9z3784',\n  'album_name': 'Training Season',\n  'album_release_date': '2024-02-15',\n  'album_total_tracks': 4,\n  'album_url': 'https://open.spotify.com/album/3sqC2sXZc0b9r7WM9z3784'},\n {'album_id': '4FftCsAcXXD1nFO9RFUNFO',\n  'album_name': 'nadie sabe lo que va a pasar mañana',\n  'album_release_date': '2023-10-13',\n  'album_total_tracks': 22,\n  'album_url': 'https://open.spotify.com/album/4FftCsAcXXD1nFO9RFUNFO'},\n {'album_id': '3AafSrFIbJPH6BJHiJm1Cd',\n  'album_name': 'What Was I Made For? [From The Motion Picture \"Barbie\"]',\n  'album_release_date': '2023-07-13',\n  'album_total_tracks': 1,\n  'album_url': 'https://open.spotify.com/album/3AafSrFIbJPH6BJHiJm1Cd'},\n {'album_id': '18ogtNq9F7DmMkNYO6Xb4k',\n  'album_name': 'Strangers',\n  'album_release_date': '2023-09-01',\n  'album_total_tracks': 1,\n  'album_url': 'https://open.spotify.com/album/18ogtNq9F7DmMkNYO6Xb4k'},\n {'album_id': '3yoNZlqerJnsnMN5EDwwBS',\n  'album_name': 'Strange Trails',\n  'album_release_date': '2015-04-07',\n  'album_total_tracks': 14,\n  'album_url': 'https://open.spotify.com/album/3yoNZlqerJnsnMN5EDwwBS'},\n {'album_id': '5pSk3c3wVwnb2arb6ohCPU',\n  'album_name': 'GOLDEN',\n  'album_release_date': '2023-11-03',\n  'album_total_tracks': 11,\n  'album_url': 'https://open.spotify.com/album/5pSk3c3wVwnb2arb6ohCPU'},\n {'album_id': '60s0PMYFJhe34io9HuyUXf',\n  'album_name': 'Whatever She Wants',\n  'album_release_date': '2024-02-13',\n  'album_total_tracks': 1,\n  'album_url': 'https://open.spotify.com/album/60s0PMYFJhe34io9HuyUXf'},\n {'album_id': '5DvJgsMLbaR1HmAI6VhfcQ',\n  'album_name': 'Endless Summer Vacation',\n  'album_release_date': '2023-08-18',\n  'album_total_tracks': 14,\n  'album_url': 'https://open.spotify.com/album/5DvJgsMLbaR1HmAI6VhfcQ'},\n {'album_id': '0FqAaUEyKCyUNFE1uQPZ7i',\n  'album_name': 'MAÑANA SERÁ BONITO (BICHOTA SEASON)',\n  'album_release_date': '2023-08-10',\n  'album_total_tracks': 9,\n  'album_url': 'https://open.spotify.com/album/0FqAaUEyKCyUNFE1uQPZ7i'},\n {'album_id': '18sR8zHx4zsVJUI4bHWuPC',\n  'album_name': 'The Highlights (Deluxe)',\n  'album_release_date': '2024-02-09',\n  'album_total_tracks': 36,\n  'album_url': 'https://open.spotify.com/album/18sR8zHx4zsVJUI4bHWuPC'},\n {'album_id': '6PbnGueEO6LGodPfvNldYf',\n  'album_name': 'Zach Bryan',\n  'album_release_date': '2023-08-25',\n  'album_total_tracks': 16,\n  'album_url': 'https://open.spotify.com/album/6PbnGueEO6LGodPfvNldYf'},\n {'album_id': '2ODvWsOgouMbaA5xf0RkJe',\n  'album_name': 'Starboy',\n  'album_release_date': '2016-11-25',\n  'album_total_tracks': 18,\n  'album_url': 'https://open.spotify.com/album/2ODvWsOgouMbaA5xf0RkJe'},\n {'album_id': '5EYKrEDnKhhcNxGedaRQeK',\n  'album_name': 'eternal sunshine',\n  'album_release_date': '2024-03-08',\n  'album_total_tracks': 13,\n  'album_url': 'https://open.spotify.com/album/5EYKrEDnKhhcNxGedaRQeK'},\n {'album_id': '1xJHno7SmdVtZAtXbdbDZp',\n  'album_name': 'GUTS',\n  'album_release_date': '2023-09-08',\n  'album_total_tracks': 12,\n  'album_url': 'https://open.spotify.com/album/1xJHno7SmdVtZAtXbdbDZp'},\n {'album_id': '5EYKrEDnKhhcNxGedaRQeK',\n  'album_name': 'eternal sunshine',\n  'album_release_date': '2024-03-08',\n  'album_total_tracks': 13,\n  'album_url': 'https://open.spotify.com/album/5EYKrEDnKhhcNxGedaRQeK'}]"
     ]
    }
   ],
   "source": [
    "album_list"
   ]
  },
  {
   "cell_type": "code",
   "execution_count": 0,
   "metadata": {
    "application/vnd.databricks.v1+cell": {
     "cellMetadata": {
      "byteLimit": 2048000,
      "rowLimit": 10000
     },
     "inputWidgets": {},
     "nuid": "8d2c56eb-b2f5-4e81-9980-adfec5bed222",
     "showTitle": false,
     "title": ""
    }
   },
   "outputs": [
    {
     "output_type": "stream",
     "name": "stdout",
     "output_type": "stream",
     "text": [
      "Out[15]: [{'external_urls': {'spotify': 'https://open.spotify.com/artist/66CXWjxzNUsdJxJ2JdwvnR'},\n  'href': 'https://api.spotify.com/v1/artists/66CXWjxzNUsdJxJ2JdwvnR',\n  'id': '66CXWjxzNUsdJxJ2JdwvnR',\n  'name': 'Ariana Grande',\n  'type': 'artist',\n  'uri': 'spotify:artist:66CXWjxzNUsdJxJ2JdwvnR'}]"
     ]
    }
   ],
   "source": [
    "data['items'][0]['track']['artists']"
   ]
  },
  {
   "cell_type": "code",
   "execution_count": 0,
   "metadata": {
    "application/vnd.databricks.v1+cell": {
     "cellMetadata": {
      "byteLimit": 2048000,
      "rowLimit": 10000
     },
     "inputWidgets": {},
     "nuid": "a4000027-33c0-4587-8e94-d8a78434a7d4",
     "showTitle": false,
     "title": ""
    }
   },
   "outputs": [],
   "source": [
    "artist_list=[]\n",
    "for row in data['items']:\n",
    "  for key, value in row.items():\n",
    "    if key == \"track\":\n",
    "      for artist in value['artists']:\n",
    "        artist_dict = {'artist_id':artist['id'],'artist_name':artist['name'],'external_url': artist['href']}\n",
    "        artist_list.append(artist_dict)"
   ]
  },
  {
   "cell_type": "code",
   "execution_count": 0,
   "metadata": {
    "application/vnd.databricks.v1+cell": {
     "cellMetadata": {
      "byteLimit": 2048000,
      "rowLimit": 10000
     },
     "inputWidgets": {},
     "nuid": "9a69d361-16cd-437b-bf9c-140e9baa823f",
     "showTitle": false,
     "title": ""
    }
   },
   "outputs": [
    {
     "output_type": "stream",
     "name": "stdout",
     "output_type": "stream",
     "text": [
      "Out[17]: [{'artist_id': '66CXWjxzNUsdJxJ2JdwvnR',\n  'artist_name': 'Ariana Grande',\n  'external_url': 'https://api.spotify.com/v1/artists/66CXWjxzNUsdJxJ2JdwvnR'},\n {'artist_id': '22wbnEMDvgVIAGdFeek6ET',\n  'artist_name': 'Benson Boone',\n  'external_url': 'https://api.spotify.com/v1/artists/22wbnEMDvgVIAGdFeek6ET'},\n {'artist_id': '5p9HO3XC5P3BLxJs5Mtrhm',\n  'artist_name': 'Djo',\n  'external_url': 'https://api.spotify.com/v1/artists/5p9HO3XC5P3BLxJs5Mtrhm'},\n {'artist_id': '4xPQFgDA5M2xa0ZGo5iIsv',\n  'artist_name': '¥$',\n  'external_url': 'https://api.spotify.com/v1/artists/4xPQFgDA5M2xa0ZGo5iIsv'},\n {'artist_id': '5K4W6rqBFWDnAN6FQUkS6x',\n  'artist_name': 'Kanye West',\n  'external_url': 'https://api.spotify.com/v1/artists/5K4W6rqBFWDnAN6FQUkS6x'},\n {'artist_id': '7c0XG5cIJTrrAgEC3ULPiq',\n  'artist_name': 'Ty Dolla $ign',\n  'external_url': 'https://api.spotify.com/v1/artists/7c0XG5cIJTrrAgEC3ULPiq'},\n {'artist_id': '1pPmIToKXyGdsCF6LmqLmI',\n  'artist_name': 'Rich The Kid',\n  'external_url': 'https://api.spotify.com/v1/artists/1pPmIToKXyGdsCF6LmqLmI'},\n {'artist_id': '699OTQXzgjhIYAHMy9RyPD',\n  'artist_name': 'Playboi Carti',\n  'external_url': 'https://api.spotify.com/v1/artists/699OTQXzgjhIYAHMy9RyPD'},\n {'artist_id': '45dkTj5sMRSjrmBSBeiHym',\n  'artist_name': 'Tate McRae',\n  'external_url': 'https://api.spotify.com/v1/artists/45dkTj5sMRSjrmBSBeiHym'},\n {'artist_id': '66CXWjxzNUsdJxJ2JdwvnR',\n  'artist_name': 'Ariana Grande',\n  'external_url': 'https://api.spotify.com/v1/artists/66CXWjxzNUsdJxJ2JdwvnR'},\n {'artist_id': '06HL4z0CvFAxyc27GXpf02',\n  'artist_name': 'Taylor Swift',\n  'external_url': 'https://api.spotify.com/v1/artists/06HL4z0CvFAxyc27GXpf02'},\n {'artist_id': '33qOK5uJ8AR2xuQQAhHump',\n  'artist_name': 'Teddy Swims',\n  'external_url': 'https://api.spotify.com/v1/artists/33qOK5uJ8AR2xuQQAhHump'},\n {'artist_id': '6vWDO969PvNqNYHIOW5v0m',\n  'artist_name': 'Beyoncé',\n  'external_url': 'https://api.spotify.com/v1/artists/6vWDO969PvNqNYHIOW5v0m'},\n {'artist_id': '1Xyo4u8uXC1ZmMpatF05PJ',\n  'artist_name': 'The Weeknd',\n  'external_url': 'https://api.spotify.com/v1/artists/1Xyo4u8uXC1ZmMpatF05PJ'},\n {'artist_id': '250b0Wlc5Vk0CoUsaCY84M',\n  'artist_name': 'JENNIE',\n  'external_url': 'https://api.spotify.com/v1/artists/250b0Wlc5Vk0CoUsaCY84M'},\n {'artist_id': '1pBLC0qVRTB5zVMuteQ9jJ',\n  'artist_name': 'Lily-Rose Depp',\n  'external_url': 'https://api.spotify.com/v1/artists/1pBLC0qVRTB5zVMuteQ9jJ'},\n {'artist_id': '66CXWjxzNUsdJxJ2JdwvnR',\n  'artist_name': 'Ariana Grande',\n  'external_url': 'https://api.spotify.com/v1/artists/66CXWjxzNUsdJxJ2JdwvnR'},\n {'artist_id': '7CvTknweLr9feJtRGrpDBy',\n  'artist_name': 'FloyyMenor',\n  'external_url': 'https://api.spotify.com/v1/artists/7CvTknweLr9feJtRGrpDBy'},\n {'artist_id': '1Yj5Xey7kTwvZla8sqdsdE',\n  'artist_name': 'Cris Mj',\n  'external_url': 'https://api.spotify.com/v1/artists/1Yj5Xey7kTwvZla8sqdsdE'},\n {'artist_id': '66CXWjxzNUsdJxJ2JdwvnR',\n  'artist_name': 'Ariana Grande',\n  'external_url': 'https://api.spotify.com/v1/artists/66CXWjxzNUsdJxJ2JdwvnR'},\n {'artist_id': '2uYWxilOVlUdk4oV9DvwqK',\n  'artist_name': 'Mitski',\n  'external_url': 'https://api.spotify.com/v1/artists/2uYWxilOVlUdk4oV9DvwqK'},\n {'artist_id': '66CXWjxzNUsdJxJ2JdwvnR',\n  'artist_name': 'Ariana Grande',\n  'external_url': 'https://api.spotify.com/v1/artists/66CXWjxzNUsdJxJ2JdwvnR'},\n {'artist_id': '3Me35AWHCGqW4sZ7bWWJt1',\n  'artist_name': 'Xavi',\n  'external_url': 'https://api.spotify.com/v1/artists/3Me35AWHCGqW4sZ7bWWJt1'},\n {'artist_id': '2RQXRUsr4IW1f3mKyKsy4B',\n  'artist_name': 'Noah Kahan',\n  'external_url': 'https://api.spotify.com/v1/artists/2RQXRUsr4IW1f3mKyKsy4B'},\n {'artist_id': '66CXWjxzNUsdJxJ2JdwvnR',\n  'artist_name': 'Ariana Grande',\n  'external_url': 'https://api.spotify.com/v1/artists/66CXWjxzNUsdJxJ2JdwvnR'},\n {'artist_id': '2LRoIwlKmHjgvigdNGBHNo',\n  'artist_name': 'Feid',\n  'external_url': 'https://api.spotify.com/v1/artists/2LRoIwlKmHjgvigdNGBHNo'},\n {'artist_id': '7jAs1uPnpfNmT6e5qtEPxq',\n  'artist_name': 'ATL Jacob',\n  'external_url': 'https://api.spotify.com/v1/artists/7jAs1uPnpfNmT6e5qtEPxq'},\n {'artist_id': '66CXWjxzNUsdJxJ2JdwvnR',\n  'artist_name': 'Ariana Grande',\n  'external_url': 'https://api.spotify.com/v1/artists/66CXWjxzNUsdJxJ2JdwvnR'},\n {'artist_id': '1URnnhqYAYcrqrcwql10ft',\n  'artist_name': '21 Savage',\n  'external_url': 'https://api.spotify.com/v1/artists/1URnnhqYAYcrqrcwql10ft'},\n {'artist_id': '7tYKF4w9nC0nq9CsPZTHyP',\n  'artist_name': 'SZA',\n  'external_url': 'https://api.spotify.com/v1/artists/7tYKF4w9nC0nq9CsPZTHyP'},\n {'artist_id': '0Y5tJX1MQlPlqiwlOH1tJY',\n  'artist_name': 'Travis Scott',\n  'external_url': 'https://api.spotify.com/v1/artists/0Y5tJX1MQlPlqiwlOH1tJY'},\n {'artist_id': '699OTQXzgjhIYAHMy9RyPD',\n  'artist_name': 'Playboi Carti',\n  'external_url': 'https://api.spotify.com/v1/artists/699OTQXzgjhIYAHMy9RyPD'},\n {'artist_id': '66CXWjxzNUsdJxJ2JdwvnR',\n  'artist_name': 'Ariana Grande',\n  'external_url': 'https://api.spotify.com/v1/artists/66CXWjxzNUsdJxJ2JdwvnR'},\n {'artist_id': '66CXWjxzNUsdJxJ2JdwvnR',\n  'artist_name': 'Ariana Grande',\n  'external_url': 'https://api.spotify.com/v1/artists/66CXWjxzNUsdJxJ2JdwvnR'},\n {'artist_id': '2LIk90788K0zvyj2JJVwkJ',\n  'artist_name': 'Jack Harlow',\n  'external_url': 'https://api.spotify.com/v1/artists/2LIk90788K0zvyj2JJVwkJ'},\n {'artist_id': '7o95ZoZt5ZYn31e9z1Hc0a',\n  'artist_name': 'Natasha Bedingfield',\n  'external_url': 'https://api.spotify.com/v1/artists/7o95ZoZt5ZYn31e9z1Hc0a'},\n {'artist_id': '66CXWjxzNUsdJxJ2JdwvnR',\n  'artist_name': 'Ariana Grande',\n  'external_url': 'https://api.spotify.com/v1/artists/66CXWjxzNUsdJxJ2JdwvnR'},\n {'artist_id': '7Ln80lUS6He07XvHI8qqHH',\n  'artist_name': 'Arctic Monkeys',\n  'external_url': 'https://api.spotify.com/v1/artists/7Ln80lUS6He07XvHI8qqHH'},\n {'artist_id': '0n4Fao9kbjgM76RmVlfSwr',\n  'artist_name': 'YG Marley',\n  'external_url': 'https://api.spotify.com/v1/artists/0n4Fao9kbjgM76RmVlfSwr'},\n {'artist_id': '6M2wZ9GZgrQXHCFfjv46we',\n  'artist_name': 'Dua Lipa',\n  'external_url': 'https://api.spotify.com/v1/artists/6M2wZ9GZgrQXHCFfjv46we'},\n {'artist_id': '7iK8PXO48WeuP03g8YR51W',\n  'artist_name': 'Myke Towers',\n  'external_url': 'https://api.spotify.com/v1/artists/7iK8PXO48WeuP03g8YR51W'},\n {'artist_id': '66CXWjxzNUsdJxJ2JdwvnR',\n  'artist_name': 'Ariana Grande',\n  'external_url': 'https://api.spotify.com/v1/artists/66CXWjxzNUsdJxJ2JdwvnR'},\n {'artist_id': '3Me35AWHCGqW4sZ7bWWJt1',\n  'artist_name': 'Xavi',\n  'external_url': 'https://api.spotify.com/v1/artists/3Me35AWHCGqW4sZ7bWWJt1'},\n {'artist_id': '3SozjO3Lat463tQICI9LcE',\n  'artist_name': 'Tyla',\n  'external_url': 'https://api.spotify.com/v1/artists/3SozjO3Lat463tQICI9LcE'},\n {'artist_id': '6M2wZ9GZgrQXHCFfjv46we',\n  'artist_name': 'Dua Lipa',\n  'external_url': 'https://api.spotify.com/v1/artists/6M2wZ9GZgrQXHCFfjv46we'},\n {'artist_id': '4q3ewBCX7sLwd24euuV69X',\n  'artist_name': 'Bad Bunny',\n  'external_url': 'https://api.spotify.com/v1/artists/4q3ewBCX7sLwd24euuV69X'},\n {'artist_id': '2LRoIwlKmHjgvigdNGBHNo',\n  'artist_name': 'Feid',\n  'external_url': 'https://api.spotify.com/v1/artists/2LRoIwlKmHjgvigdNGBHNo'},\n {'artist_id': '6qqNVTkY8uBg9cP3Jd7DAH',\n  'artist_name': 'Billie Eilish',\n  'external_url': 'https://api.spotify.com/v1/artists/6qqNVTkY8uBg9cP3Jd7DAH'},\n {'artist_id': '7uMDnSZyUYNBPLhPMNuaM2',\n  'artist_name': 'Kenya Grace',\n  'external_url': 'https://api.spotify.com/v1/artists/7uMDnSZyUYNBPLhPMNuaM2'},\n {'artist_id': '6ltzsmQQbmdoHHbLZ4ZN25',\n  'artist_name': 'Lord Huron',\n  'external_url': 'https://api.spotify.com/v1/artists/6ltzsmQQbmdoHHbLZ4ZN25'},\n {'artist_id': '6HaGTQPmzraVmaVxvz6EUc',\n  'artist_name': 'Jung Kook',\n  'external_url': 'https://api.spotify.com/v1/artists/6HaGTQPmzraVmaVxvz6EUc'},\n {'artist_id': '3MdXrJWsbVzdn6fe5JYkSQ',\n  'artist_name': 'Latto',\n  'external_url': 'https://api.spotify.com/v1/artists/3MdXrJWsbVzdn6fe5JYkSQ'},\n {'artist_id': '2EMAnMvWE2eb56ToJVfCWs',\n  'artist_name': 'Bryson Tiller',\n  'external_url': 'https://api.spotify.com/v1/artists/2EMAnMvWE2eb56ToJVfCWs'},\n {'artist_id': '5YGY8feqx7naU7z4HrwZM6',\n  'artist_name': 'Miley Cyrus',\n  'external_url': 'https://api.spotify.com/v1/artists/5YGY8feqx7naU7z4HrwZM6'},\n {'artist_id': '790FomKkXshlbRYZFtlgla',\n  'artist_name': 'KAROL G',\n  'external_url': 'https://api.spotify.com/v1/artists/790FomKkXshlbRYZFtlgla'},\n {'artist_id': '12GqGscKJx3aE4t07u7eVZ',\n  'artist_name': 'Peso Pluma',\n  'external_url': 'https://api.spotify.com/v1/artists/12GqGscKJx3aE4t07u7eVZ'},\n {'artist_id': '1Xyo4u8uXC1ZmMpatF05PJ',\n  'artist_name': 'The Weeknd',\n  'external_url': 'https://api.spotify.com/v1/artists/1Xyo4u8uXC1ZmMpatF05PJ'},\n {'artist_id': '699OTQXzgjhIYAHMy9RyPD',\n  'artist_name': 'Playboi Carti',\n  'external_url': 'https://api.spotify.com/v1/artists/699OTQXzgjhIYAHMy9RyPD'},\n {'artist_id': '6tbjWDEIzxoDsBA1FuhfPW',\n  'artist_name': 'Madonna',\n  'external_url': 'https://api.spotify.com/v1/artists/6tbjWDEIzxoDsBA1FuhfPW'},\n {'artist_id': '40ZNYROS4zLfyyBSs2PGe2',\n  'artist_name': 'Zach Bryan',\n  'external_url': 'https://api.spotify.com/v1/artists/40ZNYROS4zLfyyBSs2PGe2'},\n {'artist_id': '70kkdajctXSbqSMJbQO424',\n  'artist_name': 'Kacey Musgraves',\n  'external_url': 'https://api.spotify.com/v1/artists/70kkdajctXSbqSMJbQO424'},\n {'artist_id': '1Xyo4u8uXC1ZmMpatF05PJ',\n  'artist_name': 'The Weeknd',\n  'external_url': 'https://api.spotify.com/v1/artists/1Xyo4u8uXC1ZmMpatF05PJ'},\n {'artist_id': '4tZwfgrHOc3mvqYlEYSvVi',\n  'artist_name': 'Daft Punk',\n  'external_url': 'https://api.spotify.com/v1/artists/4tZwfgrHOc3mvqYlEYSvVi'},\n {'artist_id': '66CXWjxzNUsdJxJ2JdwvnR',\n  'artist_name': 'Ariana Grande',\n  'external_url': 'https://api.spotify.com/v1/artists/66CXWjxzNUsdJxJ2JdwvnR'},\n {'artist_id': '1McMsnEElThX1knmY4oliG',\n  'artist_name': 'Olivia Rodrigo',\n  'external_url': 'https://api.spotify.com/v1/artists/1McMsnEElThX1knmY4oliG'},\n {'artist_id': '66CXWjxzNUsdJxJ2JdwvnR',\n  'artist_name': 'Ariana Grande',\n  'external_url': 'https://api.spotify.com/v1/artists/66CXWjxzNUsdJxJ2JdwvnR'},\n {'artist_id': '3ZlizIQAjUYfvDpcK4CYK3',\n  'artist_name': 'Nonna',\n  'external_url': 'https://api.spotify.com/v1/artists/3ZlizIQAjUYfvDpcK4CYK3'}]"
     ]
    }
   ],
   "source": [
    "artist_list"
   ]
  },
  {
   "cell_type": "code",
   "execution_count": 0,
   "metadata": {
    "application/vnd.databricks.v1+cell": {
     "cellMetadata": {
      "byteLimit": 2048000,
      "rowLimit": 10000
     },
     "inputWidgets": {},
     "nuid": "2677caad-af2d-4aff-bf5f-4e0997ab57e4",
     "showTitle": false,
     "title": ""
    }
   },
   "outputs": [],
   "source": [
    "song_list = []\n",
    "for row in data['items']:\n",
    "  song_id = row['track']['id']\n",
    "  song_name=row ['track']['name']\n",
    "  song_duration=row['track']['duration_ms']\n",
    "  song_url=row['track']['external_urls']['spotify']\n",
    "  song_popularity = row['track']['popularity']\n",
    "  song_added=row['added_at']\n",
    "  album_id=row['track']['album']['id']\n",
    "  artist_id=row['track']['album']['artists'][0]['id']\n",
    "  song_elements = {'song_id' : song_id, 'song_name' : song_name,\n",
    "                   'duration_ms' : song_duration, 'url': song_url,\n",
    "                   'popularity' : song_popularity, 'song_added' : song_added,\n",
    "                   'album_id': album_id, 'artist_id' :artist_id}\n",
    "  song_list.append(song_elements)"
   ]
  },
  {
   "cell_type": "code",
   "execution_count": 0,
   "metadata": {
    "application/vnd.databricks.v1+cell": {
     "cellMetadata": {
      "byteLimit": 2048000,
      "rowLimit": 10000
     },
     "inputWidgets": {},
     "nuid": "ba51bd76-9a7b-4e0f-a63e-f40be1108027",
     "showTitle": false,
     "title": ""
    }
   },
   "outputs": [
    {
     "output_type": "display_data",
     "data": {
      "text/html": [
       "<div>\n",
       "<style scoped>\n",
       "    .dataframe tbody tr th:only-of-type {\n",
       "        vertical-align: middle;\n",
       "    }\n",
       "\n",
       "    .dataframe tbody tr th {\n",
       "        vertical-align: top;\n",
       "    }\n",
       "\n",
       "    .dataframe thead th {\n",
       "        text-align: right;\n",
       "    }\n",
       "</style>\n",
       "<table border=\"1\" class=\"dataframe\">\n",
       "  <thead>\n",
       "    <tr style=\"text-align: right;\">\n",
       "      <th></th>\n",
       "      <th>song_id</th>\n",
       "      <th>song_name</th>\n",
       "      <th>duration_ms</th>\n",
       "      <th>url</th>\n",
       "      <th>popularity</th>\n",
       "      <th>song_added</th>\n",
       "      <th>album_id</th>\n",
       "      <th>artist_id</th>\n",
       "    </tr>\n",
       "  </thead>\n",
       "  <tbody>\n",
       "    <tr>\n",
       "      <th>0</th>\n",
       "      <td>51ZQ1vr10ffzbwIjDCwqm4</td>\n",
       "      <td>we can't be friends (wait for your love)</td>\n",
       "      <td>228639</td>\n",
       "      <td>https://open.spotify.com/track/51ZQ1vr10ffzbwI...</td>\n",
       "      <td>92</td>\n",
       "      <td>2024-03-15T09:53:10Z</td>\n",
       "      <td>5EYKrEDnKhhcNxGedaRQeK</td>\n",
       "      <td>66CXWjxzNUsdJxJ2JdwvnR</td>\n",
       "    </tr>\n",
       "    <tr>\n",
       "      <th>1</th>\n",
       "      <td>6tNQ70jh4OwmPGpYy6R2o9</td>\n",
       "      <td>Beautiful Things</td>\n",
       "      <td>180304</td>\n",
       "      <td>https://open.spotify.com/track/6tNQ70jh4OwmPGp...</td>\n",
       "      <td>100</td>\n",
       "      <td>2024-03-15T09:53:10Z</td>\n",
       "      <td>29aSKB1qPEbN0Qf9OPSQpw</td>\n",
       "      <td>22wbnEMDvgVIAGdFeek6ET</td>\n",
       "    </tr>\n",
       "    <tr>\n",
       "      <th>2</th>\n",
       "      <td>3qhlB30KknSejmIvZZLjOD</td>\n",
       "      <td>End of Beginning</td>\n",
       "      <td>159245</td>\n",
       "      <td>https://open.spotify.com/track/3qhlB30KknSejmI...</td>\n",
       "      <td>97</td>\n",
       "      <td>2024-03-15T09:53:10Z</td>\n",
       "      <td>4JDXBZdRPId4devseaAOKH</td>\n",
       "      <td>5p9HO3XC5P3BLxJs5Mtrhm</td>\n",
       "    </tr>\n",
       "    <tr>\n",
       "      <th>3</th>\n",
       "      <td>3w0w2T288dec0mgeZZqoNN</td>\n",
       "      <td>CARNIVAL</td>\n",
       "      <td>264324</td>\n",
       "      <td>https://open.spotify.com/track/3w0w2T288dec0mg...</td>\n",
       "      <td>97</td>\n",
       "      <td>2024-03-15T09:53:10Z</td>\n",
       "      <td>30zwjSQEodaUXCn11nmiVF</td>\n",
       "      <td>4xPQFgDA5M2xa0ZGo5iIsv</td>\n",
       "    </tr>\n",
       "    <tr>\n",
       "      <th>4</th>\n",
       "      <td>3rUGC1vUpkDG9CZFHMur1t</td>\n",
       "      <td>greedy</td>\n",
       "      <td>131872</td>\n",
       "      <td>https://open.spotify.com/track/3rUGC1vUpkDG9CZ...</td>\n",
       "      <td>97</td>\n",
       "      <td>2024-03-15T09:53:10Z</td>\n",
       "      <td>3UOV8XvCwMKaATRNXrYCjN</td>\n",
       "      <td>45dkTj5sMRSjrmBSBeiHym</td>\n",
       "    </tr>\n",
       "    <tr>\n",
       "      <th>5</th>\n",
       "      <td>5D34wRmbFS29AjtTOP2QJe</td>\n",
       "      <td>yes, and?</td>\n",
       "      <td>214994</td>\n",
       "      <td>https://open.spotify.com/track/5D34wRmbFS29Ajt...</td>\n",
       "      <td>85</td>\n",
       "      <td>2024-03-15T09:53:10Z</td>\n",
       "      <td>5EYKrEDnKhhcNxGedaRQeK</td>\n",
       "      <td>66CXWjxzNUsdJxJ2JdwvnR</td>\n",
       "    </tr>\n",
       "    <tr>\n",
       "      <th>6</th>\n",
       "      <td>1BxfuPKGuaTgP7aM0Bbdwr</td>\n",
       "      <td>Cruel Summer</td>\n",
       "      <td>178426</td>\n",
       "      <td>https://open.spotify.com/track/1BxfuPKGuaTgP7a...</td>\n",
       "      <td>97</td>\n",
       "      <td>2024-03-15T09:53:10Z</td>\n",
       "      <td>1NAmidJlEaVgA3MpcPFYGq</td>\n",
       "      <td>06HL4z0CvFAxyc27GXpf02</td>\n",
       "    </tr>\n",
       "    <tr>\n",
       "      <th>7</th>\n",
       "      <td>17phhZDn6oGtzMe56NuWvj</td>\n",
       "      <td>Lose Control</td>\n",
       "      <td>210688</td>\n",
       "      <td>https://open.spotify.com/track/17phhZDn6oGtzMe...</td>\n",
       "      <td>93</td>\n",
       "      <td>2024-03-15T09:53:10Z</td>\n",
       "      <td>7nacKlk586eLRBSIsrk9DB</td>\n",
       "      <td>33qOK5uJ8AR2xuQQAhHump</td>\n",
       "    </tr>\n",
       "    <tr>\n",
       "      <th>8</th>\n",
       "      <td>7AYmToZ5y67fBjq4RLFbuq</td>\n",
       "      <td>TEXAS HOLD 'EM</td>\n",
       "      <td>235636</td>\n",
       "      <td>https://open.spotify.com/track/7AYmToZ5y67fBjq...</td>\n",
       "      <td>87</td>\n",
       "      <td>2024-03-15T09:53:10Z</td>\n",
       "      <td>2NXwHjhgaAdkDy6GPSxMAd</td>\n",
       "      <td>6vWDO969PvNqNYHIOW5v0m</td>\n",
       "    </tr>\n",
       "    <tr>\n",
       "      <th>9</th>\n",
       "      <td>1VNWdmXSbaNrnWod10WIL0</td>\n",
       "      <td>One Of The Girls (with JENNIE, Lily Rose Depp)</td>\n",
       "      <td>244684</td>\n",
       "      <td>https://open.spotify.com/track/1VNWdmXSbaNrnWo...</td>\n",
       "      <td>86</td>\n",
       "      <td>2024-03-15T09:53:10Z</td>\n",
       "      <td>18sR8zHx4zsVJUI4bHWuPC</td>\n",
       "      <td>1Xyo4u8uXC1ZmMpatF05PJ</td>\n",
       "    </tr>\n",
       "    <tr>\n",
       "      <th>10</th>\n",
       "      <td>0Lmbke3KNVFXtoH2mMSHCw</td>\n",
       "      <td>the boy is mine</td>\n",
       "      <td>173639</td>\n",
       "      <td>https://open.spotify.com/track/0Lmbke3KNVFXtoH...</td>\n",
       "      <td>88</td>\n",
       "      <td>2024-03-15T09:53:10Z</td>\n",
       "      <td>5EYKrEDnKhhcNxGedaRQeK</td>\n",
       "      <td>66CXWjxzNUsdJxJ2JdwvnR</td>\n",
       "    </tr>\n",
       "    <tr>\n",
       "      <th>11</th>\n",
       "      <td>6XjDF6nds4DE2BBbagZol6</td>\n",
       "      <td>Gata Only</td>\n",
       "      <td>222000</td>\n",
       "      <td>https://open.spotify.com/track/6XjDF6nds4DE2BB...</td>\n",
       "      <td>93</td>\n",
       "      <td>2024-03-15T09:53:10Z</td>\n",
       "      <td>5tSQtQGkrCJx3hoQxmLgfM</td>\n",
       "      <td>7CvTknweLr9feJtRGrpDBy</td>\n",
       "    </tr>\n",
       "    <tr>\n",
       "      <th>12</th>\n",
       "      <td>1Rweq7vNjK4kZBbGrmxQsl</td>\n",
       "      <td>bye</td>\n",
       "      <td>164927</td>\n",
       "      <td>https://open.spotify.com/track/1Rweq7vNjK4kZBb...</td>\n",
       "      <td>88</td>\n",
       "      <td>2024-03-15T09:53:10Z</td>\n",
       "      <td>5EYKrEDnKhhcNxGedaRQeK</td>\n",
       "      <td>66CXWjxzNUsdJxJ2JdwvnR</td>\n",
       "    </tr>\n",
       "    <tr>\n",
       "      <th>13</th>\n",
       "      <td>3vkCueOmm7xQDoJ17W1Pm3</td>\n",
       "      <td>My Love Mine All Mine</td>\n",
       "      <td>137773</td>\n",
       "      <td>https://open.spotify.com/track/3vkCueOmm7xQDoJ...</td>\n",
       "      <td>96</td>\n",
       "      <td>2024-03-15T09:53:10Z</td>\n",
       "      <td>2Cn1d2KgbkAqbZCJ1RzdkA</td>\n",
       "      <td>2uYWxilOVlUdk4oV9DvwqK</td>\n",
       "    </tr>\n",
       "    <tr>\n",
       "      <th>14</th>\n",
       "      <td>3RwWW7KeVhHGayYJgUL5eZ</td>\n",
       "      <td>eternal sunshine</td>\n",
       "      <td>210200</td>\n",
       "      <td>https://open.spotify.com/track/3RwWW7KeVhHGayY...</td>\n",
       "      <td>87</td>\n",
       "      <td>2024-03-15T09:53:10Z</td>\n",
       "      <td>5EYKrEDnKhhcNxGedaRQeK</td>\n",
       "      <td>66CXWjxzNUsdJxJ2JdwvnR</td>\n",
       "    </tr>\n",
       "    <tr>\n",
       "      <th>15</th>\n",
       "      <td>0R6NfOiLzLj4O5VbYSJAjf</td>\n",
       "      <td>La Diabla</td>\n",
       "      <td>172264</td>\n",
       "      <td>https://open.spotify.com/track/0R6NfOiLzLj4O5V...</td>\n",
       "      <td>96</td>\n",
       "      <td>2024-03-15T09:53:10Z</td>\n",
       "      <td>2IoSjweCu07y9mv5H1Cj3v</td>\n",
       "      <td>3Me35AWHCGqW4sZ7bWWJt1</td>\n",
       "    </tr>\n",
       "    <tr>\n",
       "      <th>16</th>\n",
       "      <td>0mflMxspEfB0VbI1kyLiAv</td>\n",
       "      <td>Stick Season</td>\n",
       "      <td>182346</td>\n",
       "      <td>https://open.spotify.com/track/0mflMxspEfB0VbI...</td>\n",
       "      <td>95</td>\n",
       "      <td>2024-03-15T09:53:10Z</td>\n",
       "      <td>50ZenUP4O2Q5eCy2NRNvuz</td>\n",
       "      <td>2RQXRUsr4IW1f3mKyKsy4B</td>\n",
       "    </tr>\n",
       "    <tr>\n",
       "      <th>17</th>\n",
       "      <td>142PiXzA84lmEw2RstFHFa</td>\n",
       "      <td>supernatural</td>\n",
       "      <td>163381</td>\n",
       "      <td>https://open.spotify.com/track/142PiXzA84lmEw2...</td>\n",
       "      <td>87</td>\n",
       "      <td>2024-03-15T09:53:10Z</td>\n",
       "      <td>5EYKrEDnKhhcNxGedaRQeK</td>\n",
       "      <td>66CXWjxzNUsdJxJ2JdwvnR</td>\n",
       "    </tr>\n",
       "    <tr>\n",
       "      <th>18</th>\n",
       "      <td>7bywjHOc0wSjGGbj04XbVi</td>\n",
       "      <td>LUNA</td>\n",
       "      <td>196800</td>\n",
       "      <td>https://open.spotify.com/track/7bywjHOc0wSjGGb...</td>\n",
       "      <td>95</td>\n",
       "      <td>2024-03-15T09:53:10Z</td>\n",
       "      <td>0lgs2Sa82lyX89nBUWyUy6</td>\n",
       "      <td>2LRoIwlKmHjgvigdNGBHNo</td>\n",
       "    </tr>\n",
       "    <tr>\n",
       "      <th>19</th>\n",
       "      <td>0o3ua5ufFK7nfRzbDUNoGA</td>\n",
       "      <td>don't wanna break up again</td>\n",
       "      <td>174006</td>\n",
       "      <td>https://open.spotify.com/track/0o3ua5ufFK7nfRz...</td>\n",
       "      <td>86</td>\n",
       "      <td>2024-03-15T09:53:10Z</td>\n",
       "      <td>5EYKrEDnKhhcNxGedaRQeK</td>\n",
       "      <td>66CXWjxzNUsdJxJ2JdwvnR</td>\n",
       "    </tr>\n",
       "    <tr>\n",
       "      <th>20</th>\n",
       "      <td>52eIcoLUM25zbQupAZYoFh</td>\n",
       "      <td>redrum</td>\n",
       "      <td>270697</td>\n",
       "      <td>https://open.spotify.com/track/52eIcoLUM25zbQu...</td>\n",
       "      <td>95</td>\n",
       "      <td>2024-03-15T09:53:10Z</td>\n",
       "      <td>2RRYaYHY7fIIdvFlvgb5vq</td>\n",
       "      <td>1URnnhqYAYcrqrcwql10ft</td>\n",
       "    </tr>\n",
       "    <tr>\n",
       "      <th>21</th>\n",
       "      <td>1bjeWoagtHmUKputLVyDxQ</td>\n",
       "      <td>Saturn</td>\n",
       "      <td>186191</td>\n",
       "      <td>https://open.spotify.com/track/1bjeWoagtHmUKpu...</td>\n",
       "      <td>92</td>\n",
       "      <td>2024-03-15T09:53:10Z</td>\n",
       "      <td>1fmBMCSSkSlvxyoy1vut2k</td>\n",
       "      <td>7tYKF4w9nC0nq9CsPZTHyP</td>\n",
       "    </tr>\n",
       "    <tr>\n",
       "      <th>22</th>\n",
       "      <td>42VsgItocQwOQC3XWZ8JNA</td>\n",
       "      <td>FE!N (feat. Playboi Carti)</td>\n",
       "      <td>191700</td>\n",
       "      <td>https://open.spotify.com/track/42VsgItocQwOQC3...</td>\n",
       "      <td>93</td>\n",
       "      <td>2024-03-15T09:53:10Z</td>\n",
       "      <td>18NOKLkZETa4sWwLMIm0UZ</td>\n",
       "      <td>0Y5tJX1MQlPlqiwlOH1tJY</td>\n",
       "    </tr>\n",
       "    <tr>\n",
       "      <th>23</th>\n",
       "      <td>14kyXBpg91RVq8bNRDS1q2</td>\n",
       "      <td>true story</td>\n",
       "      <td>163278</td>\n",
       "      <td>https://open.spotify.com/track/14kyXBpg91RVq8b...</td>\n",
       "      <td>86</td>\n",
       "      <td>2024-03-15T09:53:10Z</td>\n",
       "      <td>5EYKrEDnKhhcNxGedaRQeK</td>\n",
       "      <td>66CXWjxzNUsdJxJ2JdwvnR</td>\n",
       "    </tr>\n",
       "    <tr>\n",
       "      <th>24</th>\n",
       "      <td>2o1pb13quMReXZqE7jWsgq</td>\n",
       "      <td>intro (end of the world)</td>\n",
       "      <td>92400</td>\n",
       "      <td>https://open.spotify.com/track/2o1pb13quMReXZq...</td>\n",
       "      <td>86</td>\n",
       "      <td>2024-03-15T09:53:10Z</td>\n",
       "      <td>5EYKrEDnKhhcNxGedaRQeK</td>\n",
       "      <td>66CXWjxzNUsdJxJ2JdwvnR</td>\n",
       "    </tr>\n",
       "    <tr>\n",
       "      <th>25</th>\n",
       "      <td>4xhsWYTOGcal8zt0J161CU</td>\n",
       "      <td>Lovin On Me</td>\n",
       "      <td>138411</td>\n",
       "      <td>https://open.spotify.com/track/4xhsWYTOGcal8zt...</td>\n",
       "      <td>95</td>\n",
       "      <td>2024-03-15T09:53:10Z</td>\n",
       "      <td>6VCO0fDBGbRW8mCEvV95af</td>\n",
       "      <td>2LIk90788K0zvyj2JJVwkJ</td>\n",
       "    </tr>\n",
       "    <tr>\n",
       "      <th>26</th>\n",
       "      <td>3U5JVgI2x4rDyHGObzJfNf</td>\n",
       "      <td>Unwritten</td>\n",
       "      <td>259333</td>\n",
       "      <td>https://open.spotify.com/track/3U5JVgI2x4rDyHG...</td>\n",
       "      <td>93</td>\n",
       "      <td>2024-03-15T09:53:10Z</td>\n",
       "      <td>3PEzTAuPW5IjLJ58FzwQeL</td>\n",
       "      <td>7o95ZoZt5ZYn31e9z1Hc0a</td>\n",
       "    </tr>\n",
       "    <tr>\n",
       "      <th>27</th>\n",
       "      <td>5cQX9BexkPIEESTZijJhXg</td>\n",
       "      <td>i wish i hated you</td>\n",
       "      <td>153633</td>\n",
       "      <td>https://open.spotify.com/track/5cQX9BexkPIEEST...</td>\n",
       "      <td>85</td>\n",
       "      <td>2024-03-15T09:53:10Z</td>\n",
       "      <td>5EYKrEDnKhhcNxGedaRQeK</td>\n",
       "      <td>66CXWjxzNUsdJxJ2JdwvnR</td>\n",
       "    </tr>\n",
       "    <tr>\n",
       "      <th>28</th>\n",
       "      <td>5XeFesFbtLpXzIVDNQP22n</td>\n",
       "      <td>I Wanna Be Yours</td>\n",
       "      <td>183956</td>\n",
       "      <td>https://open.spotify.com/track/5XeFesFbtLpXzIV...</td>\n",
       "      <td>93</td>\n",
       "      <td>2024-03-15T09:53:10Z</td>\n",
       "      <td>78bpIziExqiI9qztvNFlQu</td>\n",
       "      <td>7Ln80lUS6He07XvHI8qqHH</td>\n",
       "    </tr>\n",
       "    <tr>\n",
       "      <th>29</th>\n",
       "      <td>3h5TiWTqGxjSjFrbruPFH9</td>\n",
       "      <td>Praise Jah In The Moonlight</td>\n",
       "      <td>263040</td>\n",
       "      <td>https://open.spotify.com/track/3h5TiWTqGxjSjFr...</td>\n",
       "      <td>93</td>\n",
       "      <td>2024-03-15T09:53:10Z</td>\n",
       "      <td>3BicSFhksEP3QHanmBM1Wd</td>\n",
       "      <td>0n4Fao9kbjgM76RmVlfSwr</td>\n",
       "    </tr>\n",
       "    <tr>\n",
       "      <th>30</th>\n",
       "      <td>4OMJGnvZfDvsePyCwRGO7X</td>\n",
       "      <td>Houdini</td>\n",
       "      <td>185917</td>\n",
       "      <td>https://open.spotify.com/track/4OMJGnvZfDvsePy...</td>\n",
       "      <td>93</td>\n",
       "      <td>2024-03-15T09:53:10Z</td>\n",
       "      <td>5pTaRVLwZOFObIbRBubmeb</td>\n",
       "      <td>6M2wZ9GZgrQXHCFfjv46we</td>\n",
       "    </tr>\n",
       "    <tr>\n",
       "      <th>31</th>\n",
       "      <td>7iUtQNMRB8ZkKC4AmEuCJC</td>\n",
       "      <td>LA FALDA</td>\n",
       "      <td>174229</td>\n",
       "      <td>https://open.spotify.com/track/7iUtQNMRB8ZkKC4...</td>\n",
       "      <td>92</td>\n",
       "      <td>2024-03-15T09:53:10Z</td>\n",
       "      <td>1ZVJTCW5rxpHKNgsNL91J2</td>\n",
       "      <td>7iK8PXO48WeuP03g8YR51W</td>\n",
       "    </tr>\n",
       "    <tr>\n",
       "      <th>32</th>\n",
       "      <td>6XXKB32Om6WuXg3uEWwTob</td>\n",
       "      <td>imperfect for you</td>\n",
       "      <td>182566</td>\n",
       "      <td>https://open.spotify.com/track/6XXKB32Om6WuXg3...</td>\n",
       "      <td>85</td>\n",
       "      <td>2024-03-15T09:53:10Z</td>\n",
       "      <td>5EYKrEDnKhhcNxGedaRQeK</td>\n",
       "      <td>66CXWjxzNUsdJxJ2JdwvnR</td>\n",
       "    </tr>\n",
       "    <tr>\n",
       "      <th>33</th>\n",
       "      <td>5XVdHRf4CAJ2Jm0uMIy5qY</td>\n",
       "      <td>La Víctima</td>\n",
       "      <td>156345</td>\n",
       "      <td>https://open.spotify.com/track/5XVdHRf4CAJ2Jm0...</td>\n",
       "      <td>93</td>\n",
       "      <td>2024-03-15T09:53:10Z</td>\n",
       "      <td>30KJEN3ICjhYsZ1NgunRCr</td>\n",
       "      <td>3Me35AWHCGqW4sZ7bWWJt1</td>\n",
       "    </tr>\n",
       "    <tr>\n",
       "      <th>34</th>\n",
       "      <td>5aIVCx5tnk0ntmdiinnYvw</td>\n",
       "      <td>Water</td>\n",
       "      <td>200255</td>\n",
       "      <td>https://open.spotify.com/track/5aIVCx5tnk0ntmd...</td>\n",
       "      <td>92</td>\n",
       "      <td>2024-03-15T09:53:10Z</td>\n",
       "      <td>22sXXkKgjEuawIFL1e1tRw</td>\n",
       "      <td>3SozjO3Lat463tQICI9LcE</td>\n",
       "    </tr>\n",
       "    <tr>\n",
       "      <th>35</th>\n",
       "      <td>6Qb7YsAqH4wWFUMbGsCpap</td>\n",
       "      <td>Training Season</td>\n",
       "      <td>209487</td>\n",
       "      <td>https://open.spotify.com/track/6Qb7YsAqH4wWFUM...</td>\n",
       "      <td>91</td>\n",
       "      <td>2024-03-15T09:53:10Z</td>\n",
       "      <td>3sqC2sXZc0b9r7WM9z3784</td>\n",
       "      <td>6M2wZ9GZgrQXHCFfjv46we</td>\n",
       "    </tr>\n",
       "    <tr>\n",
       "      <th>36</th>\n",
       "      <td>7iQXYTyuG13aoeHxGG28Nh</td>\n",
       "      <td>PERRO NEGRO</td>\n",
       "      <td>162767</td>\n",
       "      <td>https://open.spotify.com/track/7iQXYTyuG13aoeH...</td>\n",
       "      <td>93</td>\n",
       "      <td>2024-03-15T09:53:10Z</td>\n",
       "      <td>4FftCsAcXXD1nFO9RFUNFO</td>\n",
       "      <td>4q3ewBCX7sLwd24euuV69X</td>\n",
       "    </tr>\n",
       "    <tr>\n",
       "      <th>37</th>\n",
       "      <td>6wf7Yu7cxBSPrRlWeSeK0Q</td>\n",
       "      <td>What Was I Made For? [From The Motion Picture ...</td>\n",
       "      <td>222369</td>\n",
       "      <td>https://open.spotify.com/track/6wf7Yu7cxBSPrRl...</td>\n",
       "      <td>92</td>\n",
       "      <td>2024-03-15T09:53:10Z</td>\n",
       "      <td>3AafSrFIbJPH6BJHiJm1Cd</td>\n",
       "      <td>6qqNVTkY8uBg9cP3Jd7DAH</td>\n",
       "    </tr>\n",
       "    <tr>\n",
       "      <th>38</th>\n",
       "      <td>5mjYQaktjmjcMKcUIcqz4s</td>\n",
       "      <td>Strangers</td>\n",
       "      <td>172964</td>\n",
       "      <td>https://open.spotify.com/track/5mjYQaktjmjcMKc...</td>\n",
       "      <td>93</td>\n",
       "      <td>2024-03-15T09:53:10Z</td>\n",
       "      <td>18ogtNq9F7DmMkNYO6Xb4k</td>\n",
       "      <td>7uMDnSZyUYNBPLhPMNuaM2</td>\n",
       "    </tr>\n",
       "    <tr>\n",
       "      <th>39</th>\n",
       "      <td>0QZ5yyl6B6utIWkxeBDxQN</td>\n",
       "      <td>The Night We Met</td>\n",
       "      <td>208211</td>\n",
       "      <td>https://open.spotify.com/track/0QZ5yyl6B6utIWk...</td>\n",
       "      <td>81</td>\n",
       "      <td>2024-03-15T09:53:10Z</td>\n",
       "      <td>3yoNZlqerJnsnMN5EDwwBS</td>\n",
       "      <td>6ltzsmQQbmdoHHbLZ4ZN25</td>\n",
       "    </tr>\n",
       "    <tr>\n",
       "      <th>40</th>\n",
       "      <td>2HRgqmZQC0MC7GeNuDIXHN</td>\n",
       "      <td>Seven (feat. Latto) (Explicit Ver.)</td>\n",
       "      <td>183550</td>\n",
       "      <td>https://open.spotify.com/track/2HRgqmZQC0MC7Ge...</td>\n",
       "      <td>87</td>\n",
       "      <td>2024-03-15T09:53:10Z</td>\n",
       "      <td>5pSk3c3wVwnb2arb6ohCPU</td>\n",
       "      <td>6HaGTQPmzraVmaVxvz6EUc</td>\n",
       "    </tr>\n",
       "    <tr>\n",
       "      <th>41</th>\n",
       "      <td>57wp7VFnV8X0pSVnYArGeJ</td>\n",
       "      <td>Whatever She Wants</td>\n",
       "      <td>161342</td>\n",
       "      <td>https://open.spotify.com/track/57wp7VFnV8X0pSV...</td>\n",
       "      <td>89</td>\n",
       "      <td>2024-03-15T09:53:10Z</td>\n",
       "      <td>60s0PMYFJhe34io9HuyUXf</td>\n",
       "      <td>2EMAnMvWE2eb56ToJVfCWs</td>\n",
       "    </tr>\n",
       "    <tr>\n",
       "      <th>42</th>\n",
       "      <td>7DSAEUvxU8FajXtRloy8M0</td>\n",
       "      <td>Flowers</td>\n",
       "      <td>200600</td>\n",
       "      <td>https://open.spotify.com/track/7DSAEUvxU8FajXt...</td>\n",
       "      <td>93</td>\n",
       "      <td>2024-03-15T09:53:10Z</td>\n",
       "      <td>5DvJgsMLbaR1HmAI6VhfcQ</td>\n",
       "      <td>5YGY8feqx7naU7z4HrwZM6</td>\n",
       "    </tr>\n",
       "    <tr>\n",
       "      <th>43</th>\n",
       "      <td>5RqSsdzTNPX1uzkmlHCFvK</td>\n",
       "      <td>QLONA</td>\n",
       "      <td>172797</td>\n",
       "      <td>https://open.spotify.com/track/5RqSsdzTNPX1uzk...</td>\n",
       "      <td>90</td>\n",
       "      <td>2024-03-15T09:53:10Z</td>\n",
       "      <td>0FqAaUEyKCyUNFE1uQPZ7i</td>\n",
       "      <td>790FomKkXshlbRYZFtlgla</td>\n",
       "    </tr>\n",
       "    <tr>\n",
       "      <th>44</th>\n",
       "      <td>7GUhiAHLoVy1V8ucQuZ3CB</td>\n",
       "      <td>Popular (with Playboi Carti &amp; Madonna)</td>\n",
       "      <td>215466</td>\n",
       "      <td>https://open.spotify.com/track/7GUhiAHLoVy1V8u...</td>\n",
       "      <td>85</td>\n",
       "      <td>2024-03-15T09:53:10Z</td>\n",
       "      <td>18sR8zHx4zsVJUI4bHWuPC</td>\n",
       "      <td>1Xyo4u8uXC1ZmMpatF05PJ</td>\n",
       "    </tr>\n",
       "    <tr>\n",
       "      <th>45</th>\n",
       "      <td>4KULAymBBJcPRpk1yO4dOG</td>\n",
       "      <td>I Remember Everything (feat. Kacey Musgraves)</td>\n",
       "      <td>227195</td>\n",
       "      <td>https://open.spotify.com/track/4KULAymBBJcPRpk...</td>\n",
       "      <td>92</td>\n",
       "      <td>2024-03-15T09:53:10Z</td>\n",
       "      <td>6PbnGueEO6LGodPfvNldYf</td>\n",
       "      <td>40ZNYROS4zLfyyBSs2PGe2</td>\n",
       "    </tr>\n",
       "    <tr>\n",
       "      <th>46</th>\n",
       "      <td>7MXVkk9YMctZqd1Srtv4MB</td>\n",
       "      <td>Starboy</td>\n",
       "      <td>230453</td>\n",
       "      <td>https://open.spotify.com/track/7MXVkk9YMctZqd1...</td>\n",
       "      <td>92</td>\n",
       "      <td>2024-03-15T09:53:10Z</td>\n",
       "      <td>2ODvWsOgouMbaA5xf0RkJe</td>\n",
       "      <td>1Xyo4u8uXC1ZmMpatF05PJ</td>\n",
       "    </tr>\n",
       "    <tr>\n",
       "      <th>47</th>\n",
       "      <td>13jRSCLoWbCoU1XEdJRbgn</td>\n",
       "      <td>Saturn Returns Interlude</td>\n",
       "      <td>42166</td>\n",
       "      <td>https://open.spotify.com/track/13jRSCLoWbCoU1X...</td>\n",
       "      <td>83</td>\n",
       "      <td>2024-03-15T09:53:10Z</td>\n",
       "      <td>5EYKrEDnKhhcNxGedaRQeK</td>\n",
       "      <td>66CXWjxzNUsdJxJ2JdwvnR</td>\n",
       "    </tr>\n",
       "    <tr>\n",
       "      <th>48</th>\n",
       "      <td>1kuGVB7EU95pJObxwvfwKS</td>\n",
       "      <td>vampire</td>\n",
       "      <td>219724</td>\n",
       "      <td>https://open.spotify.com/track/1kuGVB7EU95pJOb...</td>\n",
       "      <td>92</td>\n",
       "      <td>2024-03-15T09:53:10Z</td>\n",
       "      <td>1xJHno7SmdVtZAtXbdbDZp</td>\n",
       "      <td>1McMsnEElThX1knmY4oliG</td>\n",
       "    </tr>\n",
       "    <tr>\n",
       "      <th>49</th>\n",
       "      <td>4mHM5d2fK3n8xgymjf92w2</td>\n",
       "      <td>ordinary things (feat. Nonna)</td>\n",
       "      <td>168500</td>\n",
       "      <td>https://open.spotify.com/track/4mHM5d2fK3n8xgy...</td>\n",
       "      <td>83</td>\n",
       "      <td>2024-03-15T09:53:10Z</td>\n",
       "      <td>5EYKrEDnKhhcNxGedaRQeK</td>\n",
       "      <td>66CXWjxzNUsdJxJ2JdwvnR</td>\n",
       "    </tr>\n",
       "  </tbody>\n",
       "</table>\n",
       "</div>"
      ]
     },
     "metadata": {
      "application/vnd.databricks.v1+output": {
       "addedWidgets": {},
       "arguments": {},
       "data": "<div>\n<style scoped>\n    .dataframe tbody tr th:only-of-type {\n        vertical-align: middle;\n    }\n\n    .dataframe tbody tr th {\n        vertical-align: top;\n    }\n\n    .dataframe thead th {\n        text-align: right;\n    }\n</style>\n<table border=\"1\" class=\"dataframe\">\n  <thead>\n    <tr style=\"text-align: right;\">\n      <th></th>\n      <th>song_id</th>\n      <th>song_name</th>\n      <th>duration_ms</th>\n      <th>url</th>\n      <th>popularity</th>\n      <th>song_added</th>\n      <th>album_id</th>\n      <th>artist_id</th>\n    </tr>\n  </thead>\n  <tbody>\n    <tr>\n      <th>0</th>\n      <td>51ZQ1vr10ffzbwIjDCwqm4</td>\n      <td>we can't be friends (wait for your love)</td>\n      <td>228639</td>\n      <td>https://open.spotify.com/track/51ZQ1vr10ffzbwI...</td>\n      <td>92</td>\n      <td>2024-03-15T09:53:10Z</td>\n      <td>5EYKrEDnKhhcNxGedaRQeK</td>\n      <td>66CXWjxzNUsdJxJ2JdwvnR</td>\n    </tr>\n    <tr>\n      <th>1</th>\n      <td>6tNQ70jh4OwmPGpYy6R2o9</td>\n      <td>Beautiful Things</td>\n      <td>180304</td>\n      <td>https://open.spotify.com/track/6tNQ70jh4OwmPGp...</td>\n      <td>100</td>\n      <td>2024-03-15T09:53:10Z</td>\n      <td>29aSKB1qPEbN0Qf9OPSQpw</td>\n      <td>22wbnEMDvgVIAGdFeek6ET</td>\n    </tr>\n    <tr>\n      <th>2</th>\n      <td>3qhlB30KknSejmIvZZLjOD</td>\n      <td>End of Beginning</td>\n      <td>159245</td>\n      <td>https://open.spotify.com/track/3qhlB30KknSejmI...</td>\n      <td>97</td>\n      <td>2024-03-15T09:53:10Z</td>\n      <td>4JDXBZdRPId4devseaAOKH</td>\n      <td>5p9HO3XC5P3BLxJs5Mtrhm</td>\n    </tr>\n    <tr>\n      <th>3</th>\n      <td>3w0w2T288dec0mgeZZqoNN</td>\n      <td>CARNIVAL</td>\n      <td>264324</td>\n      <td>https://open.spotify.com/track/3w0w2T288dec0mg...</td>\n      <td>97</td>\n      <td>2024-03-15T09:53:10Z</td>\n      <td>30zwjSQEodaUXCn11nmiVF</td>\n      <td>4xPQFgDA5M2xa0ZGo5iIsv</td>\n    </tr>\n    <tr>\n      <th>4</th>\n      <td>3rUGC1vUpkDG9CZFHMur1t</td>\n      <td>greedy</td>\n      <td>131872</td>\n      <td>https://open.spotify.com/track/3rUGC1vUpkDG9CZ...</td>\n      <td>97</td>\n      <td>2024-03-15T09:53:10Z</td>\n      <td>3UOV8XvCwMKaATRNXrYCjN</td>\n      <td>45dkTj5sMRSjrmBSBeiHym</td>\n    </tr>\n    <tr>\n      <th>5</th>\n      <td>5D34wRmbFS29AjtTOP2QJe</td>\n      <td>yes, and?</td>\n      <td>214994</td>\n      <td>https://open.spotify.com/track/5D34wRmbFS29Ajt...</td>\n      <td>85</td>\n      <td>2024-03-15T09:53:10Z</td>\n      <td>5EYKrEDnKhhcNxGedaRQeK</td>\n      <td>66CXWjxzNUsdJxJ2JdwvnR</td>\n    </tr>\n    <tr>\n      <th>6</th>\n      <td>1BxfuPKGuaTgP7aM0Bbdwr</td>\n      <td>Cruel Summer</td>\n      <td>178426</td>\n      <td>https://open.spotify.com/track/1BxfuPKGuaTgP7a...</td>\n      <td>97</td>\n      <td>2024-03-15T09:53:10Z</td>\n      <td>1NAmidJlEaVgA3MpcPFYGq</td>\n      <td>06HL4z0CvFAxyc27GXpf02</td>\n    </tr>\n    <tr>\n      <th>7</th>\n      <td>17phhZDn6oGtzMe56NuWvj</td>\n      <td>Lose Control</td>\n      <td>210688</td>\n      <td>https://open.spotify.com/track/17phhZDn6oGtzMe...</td>\n      <td>93</td>\n      <td>2024-03-15T09:53:10Z</td>\n      <td>7nacKlk586eLRBSIsrk9DB</td>\n      <td>33qOK5uJ8AR2xuQQAhHump</td>\n    </tr>\n    <tr>\n      <th>8</th>\n      <td>7AYmToZ5y67fBjq4RLFbuq</td>\n      <td>TEXAS HOLD 'EM</td>\n      <td>235636</td>\n      <td>https://open.spotify.com/track/7AYmToZ5y67fBjq...</td>\n      <td>87</td>\n      <td>2024-03-15T09:53:10Z</td>\n      <td>2NXwHjhgaAdkDy6GPSxMAd</td>\n      <td>6vWDO969PvNqNYHIOW5v0m</td>\n    </tr>\n    <tr>\n      <th>9</th>\n      <td>1VNWdmXSbaNrnWod10WIL0</td>\n      <td>One Of The Girls (with JENNIE, Lily Rose Depp)</td>\n      <td>244684</td>\n      <td>https://open.spotify.com/track/1VNWdmXSbaNrnWo...</td>\n      <td>86</td>\n      <td>2024-03-15T09:53:10Z</td>\n      <td>18sR8zHx4zsVJUI4bHWuPC</td>\n      <td>1Xyo4u8uXC1ZmMpatF05PJ</td>\n    </tr>\n    <tr>\n      <th>10</th>\n      <td>0Lmbke3KNVFXtoH2mMSHCw</td>\n      <td>the boy is mine</td>\n      <td>173639</td>\n      <td>https://open.spotify.com/track/0Lmbke3KNVFXtoH...</td>\n      <td>88</td>\n      <td>2024-03-15T09:53:10Z</td>\n      <td>5EYKrEDnKhhcNxGedaRQeK</td>\n      <td>66CXWjxzNUsdJxJ2JdwvnR</td>\n    </tr>\n    <tr>\n      <th>11</th>\n      <td>6XjDF6nds4DE2BBbagZol6</td>\n      <td>Gata Only</td>\n      <td>222000</td>\n      <td>https://open.spotify.com/track/6XjDF6nds4DE2BB...</td>\n      <td>93</td>\n      <td>2024-03-15T09:53:10Z</td>\n      <td>5tSQtQGkrCJx3hoQxmLgfM</td>\n      <td>7CvTknweLr9feJtRGrpDBy</td>\n    </tr>\n    <tr>\n      <th>12</th>\n      <td>1Rweq7vNjK4kZBbGrmxQsl</td>\n      <td>bye</td>\n      <td>164927</td>\n      <td>https://open.spotify.com/track/1Rweq7vNjK4kZBb...</td>\n      <td>88</td>\n      <td>2024-03-15T09:53:10Z</td>\n      <td>5EYKrEDnKhhcNxGedaRQeK</td>\n      <td>66CXWjxzNUsdJxJ2JdwvnR</td>\n    </tr>\n    <tr>\n      <th>13</th>\n      <td>3vkCueOmm7xQDoJ17W1Pm3</td>\n      <td>My Love Mine All Mine</td>\n      <td>137773</td>\n      <td>https://open.spotify.com/track/3vkCueOmm7xQDoJ...</td>\n      <td>96</td>\n      <td>2024-03-15T09:53:10Z</td>\n      <td>2Cn1d2KgbkAqbZCJ1RzdkA</td>\n      <td>2uYWxilOVlUdk4oV9DvwqK</td>\n    </tr>\n    <tr>\n      <th>14</th>\n      <td>3RwWW7KeVhHGayYJgUL5eZ</td>\n      <td>eternal sunshine</td>\n      <td>210200</td>\n      <td>https://open.spotify.com/track/3RwWW7KeVhHGayY...</td>\n      <td>87</td>\n      <td>2024-03-15T09:53:10Z</td>\n      <td>5EYKrEDnKhhcNxGedaRQeK</td>\n      <td>66CXWjxzNUsdJxJ2JdwvnR</td>\n    </tr>\n    <tr>\n      <th>15</th>\n      <td>0R6NfOiLzLj4O5VbYSJAjf</td>\n      <td>La Diabla</td>\n      <td>172264</td>\n      <td>https://open.spotify.com/track/0R6NfOiLzLj4O5V...</td>\n      <td>96</td>\n      <td>2024-03-15T09:53:10Z</td>\n      <td>2IoSjweCu07y9mv5H1Cj3v</td>\n      <td>3Me35AWHCGqW4sZ7bWWJt1</td>\n    </tr>\n    <tr>\n      <th>16</th>\n      <td>0mflMxspEfB0VbI1kyLiAv</td>\n      <td>Stick Season</td>\n      <td>182346</td>\n      <td>https://open.spotify.com/track/0mflMxspEfB0VbI...</td>\n      <td>95</td>\n      <td>2024-03-15T09:53:10Z</td>\n      <td>50ZenUP4O2Q5eCy2NRNvuz</td>\n      <td>2RQXRUsr4IW1f3mKyKsy4B</td>\n    </tr>\n    <tr>\n      <th>17</th>\n      <td>142PiXzA84lmEw2RstFHFa</td>\n      <td>supernatural</td>\n      <td>163381</td>\n      <td>https://open.spotify.com/track/142PiXzA84lmEw2...</td>\n      <td>87</td>\n      <td>2024-03-15T09:53:10Z</td>\n      <td>5EYKrEDnKhhcNxGedaRQeK</td>\n      <td>66CXWjxzNUsdJxJ2JdwvnR</td>\n    </tr>\n    <tr>\n      <th>18</th>\n      <td>7bywjHOc0wSjGGbj04XbVi</td>\n      <td>LUNA</td>\n      <td>196800</td>\n      <td>https://open.spotify.com/track/7bywjHOc0wSjGGb...</td>\n      <td>95</td>\n      <td>2024-03-15T09:53:10Z</td>\n      <td>0lgs2Sa82lyX89nBUWyUy6</td>\n      <td>2LRoIwlKmHjgvigdNGBHNo</td>\n    </tr>\n    <tr>\n      <th>19</th>\n      <td>0o3ua5ufFK7nfRzbDUNoGA</td>\n      <td>don't wanna break up again</td>\n      <td>174006</td>\n      <td>https://open.spotify.com/track/0o3ua5ufFK7nfRz...</td>\n      <td>86</td>\n      <td>2024-03-15T09:53:10Z</td>\n      <td>5EYKrEDnKhhcNxGedaRQeK</td>\n      <td>66CXWjxzNUsdJxJ2JdwvnR</td>\n    </tr>\n    <tr>\n      <th>20</th>\n      <td>52eIcoLUM25zbQupAZYoFh</td>\n      <td>redrum</td>\n      <td>270697</td>\n      <td>https://open.spotify.com/track/52eIcoLUM25zbQu...</td>\n      <td>95</td>\n      <td>2024-03-15T09:53:10Z</td>\n      <td>2RRYaYHY7fIIdvFlvgb5vq</td>\n      <td>1URnnhqYAYcrqrcwql10ft</td>\n    </tr>\n    <tr>\n      <th>21</th>\n      <td>1bjeWoagtHmUKputLVyDxQ</td>\n      <td>Saturn</td>\n      <td>186191</td>\n      <td>https://open.spotify.com/track/1bjeWoagtHmUKpu...</td>\n      <td>92</td>\n      <td>2024-03-15T09:53:10Z</td>\n      <td>1fmBMCSSkSlvxyoy1vut2k</td>\n      <td>7tYKF4w9nC0nq9CsPZTHyP</td>\n    </tr>\n    <tr>\n      <th>22</th>\n      <td>42VsgItocQwOQC3XWZ8JNA</td>\n      <td>FE!N (feat. Playboi Carti)</td>\n      <td>191700</td>\n      <td>https://open.spotify.com/track/42VsgItocQwOQC3...</td>\n      <td>93</td>\n      <td>2024-03-15T09:53:10Z</td>\n      <td>18NOKLkZETa4sWwLMIm0UZ</td>\n      <td>0Y5tJX1MQlPlqiwlOH1tJY</td>\n    </tr>\n    <tr>\n      <th>23</th>\n      <td>14kyXBpg91RVq8bNRDS1q2</td>\n      <td>true story</td>\n      <td>163278</td>\n      <td>https://open.spotify.com/track/14kyXBpg91RVq8b...</td>\n      <td>86</td>\n      <td>2024-03-15T09:53:10Z</td>\n      <td>5EYKrEDnKhhcNxGedaRQeK</td>\n      <td>66CXWjxzNUsdJxJ2JdwvnR</td>\n    </tr>\n    <tr>\n      <th>24</th>\n      <td>2o1pb13quMReXZqE7jWsgq</td>\n      <td>intro (end of the world)</td>\n      <td>92400</td>\n      <td>https://open.spotify.com/track/2o1pb13quMReXZq...</td>\n      <td>86</td>\n      <td>2024-03-15T09:53:10Z</td>\n      <td>5EYKrEDnKhhcNxGedaRQeK</td>\n      <td>66CXWjxzNUsdJxJ2JdwvnR</td>\n    </tr>\n    <tr>\n      <th>25</th>\n      <td>4xhsWYTOGcal8zt0J161CU</td>\n      <td>Lovin On Me</td>\n      <td>138411</td>\n      <td>https://open.spotify.com/track/4xhsWYTOGcal8zt...</td>\n      <td>95</td>\n      <td>2024-03-15T09:53:10Z</td>\n      <td>6VCO0fDBGbRW8mCEvV95af</td>\n      <td>2LIk90788K0zvyj2JJVwkJ</td>\n    </tr>\n    <tr>\n      <th>26</th>\n      <td>3U5JVgI2x4rDyHGObzJfNf</td>\n      <td>Unwritten</td>\n      <td>259333</td>\n      <td>https://open.spotify.com/track/3U5JVgI2x4rDyHG...</td>\n      <td>93</td>\n      <td>2024-03-15T09:53:10Z</td>\n      <td>3PEzTAuPW5IjLJ58FzwQeL</td>\n      <td>7o95ZoZt5ZYn31e9z1Hc0a</td>\n    </tr>\n    <tr>\n      <th>27</th>\n      <td>5cQX9BexkPIEESTZijJhXg</td>\n      <td>i wish i hated you</td>\n      <td>153633</td>\n      <td>https://open.spotify.com/track/5cQX9BexkPIEEST...</td>\n      <td>85</td>\n      <td>2024-03-15T09:53:10Z</td>\n      <td>5EYKrEDnKhhcNxGedaRQeK</td>\n      <td>66CXWjxzNUsdJxJ2JdwvnR</td>\n    </tr>\n    <tr>\n      <th>28</th>\n      <td>5XeFesFbtLpXzIVDNQP22n</td>\n      <td>I Wanna Be Yours</td>\n      <td>183956</td>\n      <td>https://open.spotify.com/track/5XeFesFbtLpXzIV...</td>\n      <td>93</td>\n      <td>2024-03-15T09:53:10Z</td>\n      <td>78bpIziExqiI9qztvNFlQu</td>\n      <td>7Ln80lUS6He07XvHI8qqHH</td>\n    </tr>\n    <tr>\n      <th>29</th>\n      <td>3h5TiWTqGxjSjFrbruPFH9</td>\n      <td>Praise Jah In The Moonlight</td>\n      <td>263040</td>\n      <td>https://open.spotify.com/track/3h5TiWTqGxjSjFr...</td>\n      <td>93</td>\n      <td>2024-03-15T09:53:10Z</td>\n      <td>3BicSFhksEP3QHanmBM1Wd</td>\n      <td>0n4Fao9kbjgM76RmVlfSwr</td>\n    </tr>\n    <tr>\n      <th>30</th>\n      <td>4OMJGnvZfDvsePyCwRGO7X</td>\n      <td>Houdini</td>\n      <td>185917</td>\n      <td>https://open.spotify.com/track/4OMJGnvZfDvsePy...</td>\n      <td>93</td>\n      <td>2024-03-15T09:53:10Z</td>\n      <td>5pTaRVLwZOFObIbRBubmeb</td>\n      <td>6M2wZ9GZgrQXHCFfjv46we</td>\n    </tr>\n    <tr>\n      <th>31</th>\n      <td>7iUtQNMRB8ZkKC4AmEuCJC</td>\n      <td>LA FALDA</td>\n      <td>174229</td>\n      <td>https://open.spotify.com/track/7iUtQNMRB8ZkKC4...</td>\n      <td>92</td>\n      <td>2024-03-15T09:53:10Z</td>\n      <td>1ZVJTCW5rxpHKNgsNL91J2</td>\n      <td>7iK8PXO48WeuP03g8YR51W</td>\n    </tr>\n    <tr>\n      <th>32</th>\n      <td>6XXKB32Om6WuXg3uEWwTob</td>\n      <td>imperfect for you</td>\n      <td>182566</td>\n      <td>https://open.spotify.com/track/6XXKB32Om6WuXg3...</td>\n      <td>85</td>\n      <td>2024-03-15T09:53:10Z</td>\n      <td>5EYKrEDnKhhcNxGedaRQeK</td>\n      <td>66CXWjxzNUsdJxJ2JdwvnR</td>\n    </tr>\n    <tr>\n      <th>33</th>\n      <td>5XVdHRf4CAJ2Jm0uMIy5qY</td>\n      <td>La Víctima</td>\n      <td>156345</td>\n      <td>https://open.spotify.com/track/5XVdHRf4CAJ2Jm0...</td>\n      <td>93</td>\n      <td>2024-03-15T09:53:10Z</td>\n      <td>30KJEN3ICjhYsZ1NgunRCr</td>\n      <td>3Me35AWHCGqW4sZ7bWWJt1</td>\n    </tr>\n    <tr>\n      <th>34</th>\n      <td>5aIVCx5tnk0ntmdiinnYvw</td>\n      <td>Water</td>\n      <td>200255</td>\n      <td>https://open.spotify.com/track/5aIVCx5tnk0ntmd...</td>\n      <td>92</td>\n      <td>2024-03-15T09:53:10Z</td>\n      <td>22sXXkKgjEuawIFL1e1tRw</td>\n      <td>3SozjO3Lat463tQICI9LcE</td>\n    </tr>\n    <tr>\n      <th>35</th>\n      <td>6Qb7YsAqH4wWFUMbGsCpap</td>\n      <td>Training Season</td>\n      <td>209487</td>\n      <td>https://open.spotify.com/track/6Qb7YsAqH4wWFUM...</td>\n      <td>91</td>\n      <td>2024-03-15T09:53:10Z</td>\n      <td>3sqC2sXZc0b9r7WM9z3784</td>\n      <td>6M2wZ9GZgrQXHCFfjv46we</td>\n    </tr>\n    <tr>\n      <th>36</th>\n      <td>7iQXYTyuG13aoeHxGG28Nh</td>\n      <td>PERRO NEGRO</td>\n      <td>162767</td>\n      <td>https://open.spotify.com/track/7iQXYTyuG13aoeH...</td>\n      <td>93</td>\n      <td>2024-03-15T09:53:10Z</td>\n      <td>4FftCsAcXXD1nFO9RFUNFO</td>\n      <td>4q3ewBCX7sLwd24euuV69X</td>\n    </tr>\n    <tr>\n      <th>37</th>\n      <td>6wf7Yu7cxBSPrRlWeSeK0Q</td>\n      <td>What Was I Made For? [From The Motion Picture ...</td>\n      <td>222369</td>\n      <td>https://open.spotify.com/track/6wf7Yu7cxBSPrRl...</td>\n      <td>92</td>\n      <td>2024-03-15T09:53:10Z</td>\n      <td>3AafSrFIbJPH6BJHiJm1Cd</td>\n      <td>6qqNVTkY8uBg9cP3Jd7DAH</td>\n    </tr>\n    <tr>\n      <th>38</th>\n      <td>5mjYQaktjmjcMKcUIcqz4s</td>\n      <td>Strangers</td>\n      <td>172964</td>\n      <td>https://open.spotify.com/track/5mjYQaktjmjcMKc...</td>\n      <td>93</td>\n      <td>2024-03-15T09:53:10Z</td>\n      <td>18ogtNq9F7DmMkNYO6Xb4k</td>\n      <td>7uMDnSZyUYNBPLhPMNuaM2</td>\n    </tr>\n    <tr>\n      <th>39</th>\n      <td>0QZ5yyl6B6utIWkxeBDxQN</td>\n      <td>The Night We Met</td>\n      <td>208211</td>\n      <td>https://open.spotify.com/track/0QZ5yyl6B6utIWk...</td>\n      <td>81</td>\n      <td>2024-03-15T09:53:10Z</td>\n      <td>3yoNZlqerJnsnMN5EDwwBS</td>\n      <td>6ltzsmQQbmdoHHbLZ4ZN25</td>\n    </tr>\n    <tr>\n      <th>40</th>\n      <td>2HRgqmZQC0MC7GeNuDIXHN</td>\n      <td>Seven (feat. Latto) (Explicit Ver.)</td>\n      <td>183550</td>\n      <td>https://open.spotify.com/track/2HRgqmZQC0MC7Ge...</td>\n      <td>87</td>\n      <td>2024-03-15T09:53:10Z</td>\n      <td>5pSk3c3wVwnb2arb6ohCPU</td>\n      <td>6HaGTQPmzraVmaVxvz6EUc</td>\n    </tr>\n    <tr>\n      <th>41</th>\n      <td>57wp7VFnV8X0pSVnYArGeJ</td>\n      <td>Whatever She Wants</td>\n      <td>161342</td>\n      <td>https://open.spotify.com/track/57wp7VFnV8X0pSV...</td>\n      <td>89</td>\n      <td>2024-03-15T09:53:10Z</td>\n      <td>60s0PMYFJhe34io9HuyUXf</td>\n      <td>2EMAnMvWE2eb56ToJVfCWs</td>\n    </tr>\n    <tr>\n      <th>42</th>\n      <td>7DSAEUvxU8FajXtRloy8M0</td>\n      <td>Flowers</td>\n      <td>200600</td>\n      <td>https://open.spotify.com/track/7DSAEUvxU8FajXt...</td>\n      <td>93</td>\n      <td>2024-03-15T09:53:10Z</td>\n      <td>5DvJgsMLbaR1HmAI6VhfcQ</td>\n      <td>5YGY8feqx7naU7z4HrwZM6</td>\n    </tr>\n    <tr>\n      <th>43</th>\n      <td>5RqSsdzTNPX1uzkmlHCFvK</td>\n      <td>QLONA</td>\n      <td>172797</td>\n      <td>https://open.spotify.com/track/5RqSsdzTNPX1uzk...</td>\n      <td>90</td>\n      <td>2024-03-15T09:53:10Z</td>\n      <td>0FqAaUEyKCyUNFE1uQPZ7i</td>\n      <td>790FomKkXshlbRYZFtlgla</td>\n    </tr>\n    <tr>\n      <th>44</th>\n      <td>7GUhiAHLoVy1V8ucQuZ3CB</td>\n      <td>Popular (with Playboi Carti &amp; Madonna)</td>\n      <td>215466</td>\n      <td>https://open.spotify.com/track/7GUhiAHLoVy1V8u...</td>\n      <td>85</td>\n      <td>2024-03-15T09:53:10Z</td>\n      <td>18sR8zHx4zsVJUI4bHWuPC</td>\n      <td>1Xyo4u8uXC1ZmMpatF05PJ</td>\n    </tr>\n    <tr>\n      <th>45</th>\n      <td>4KULAymBBJcPRpk1yO4dOG</td>\n      <td>I Remember Everything (feat. Kacey Musgraves)</td>\n      <td>227195</td>\n      <td>https://open.spotify.com/track/4KULAymBBJcPRpk...</td>\n      <td>92</td>\n      <td>2024-03-15T09:53:10Z</td>\n      <td>6PbnGueEO6LGodPfvNldYf</td>\n      <td>40ZNYROS4zLfyyBSs2PGe2</td>\n    </tr>\n    <tr>\n      <th>46</th>\n      <td>7MXVkk9YMctZqd1Srtv4MB</td>\n      <td>Starboy</td>\n      <td>230453</td>\n      <td>https://open.spotify.com/track/7MXVkk9YMctZqd1...</td>\n      <td>92</td>\n      <td>2024-03-15T09:53:10Z</td>\n      <td>2ODvWsOgouMbaA5xf0RkJe</td>\n      <td>1Xyo4u8uXC1ZmMpatF05PJ</td>\n    </tr>\n    <tr>\n      <th>47</th>\n      <td>13jRSCLoWbCoU1XEdJRbgn</td>\n      <td>Saturn Returns Interlude</td>\n      <td>42166</td>\n      <td>https://open.spotify.com/track/13jRSCLoWbCoU1X...</td>\n      <td>83</td>\n      <td>2024-03-15T09:53:10Z</td>\n      <td>5EYKrEDnKhhcNxGedaRQeK</td>\n      <td>66CXWjxzNUsdJxJ2JdwvnR</td>\n    </tr>\n    <tr>\n      <th>48</th>\n      <td>1kuGVB7EU95pJObxwvfwKS</td>\n      <td>vampire</td>\n      <td>219724</td>\n      <td>https://open.spotify.com/track/1kuGVB7EU95pJOb...</td>\n      <td>92</td>\n      <td>2024-03-15T09:53:10Z</td>\n      <td>1xJHno7SmdVtZAtXbdbDZp</td>\n      <td>1McMsnEElThX1knmY4oliG</td>\n    </tr>\n    <tr>\n      <th>49</th>\n      <td>4mHM5d2fK3n8xgymjf92w2</td>\n      <td>ordinary things (feat. Nonna)</td>\n      <td>168500</td>\n      <td>https://open.spotify.com/track/4mHM5d2fK3n8xgy...</td>\n      <td>83</td>\n      <td>2024-03-15T09:53:10Z</td>\n      <td>5EYKrEDnKhhcNxGedaRQeK</td>\n      <td>66CXWjxzNUsdJxJ2JdwvnR</td>\n    </tr>\n  </tbody>\n</table>\n</div>",
       "datasetInfos": [],
       "metadata": {},
       "removedWidgets": [],
       "textData": null,
       "type": "htmlSandbox"
      }
     },
     "output_type": "display_data"
    }
   ],
   "source": [
    "album_df = pd.DataFrame.from_dict(album_list)\n",
    "artist_df = pd.DataFrame.from_dict(artist_list)\n",
    "song_df = pd.DataFrame.from_dict(song_list)\n",
    "song_df"
   ]
  },
  {
   "cell_type": "code",
   "execution_count": 0,
   "metadata": {
    "application/vnd.databricks.v1+cell": {
     "cellMetadata": {
      "byteLimit": 2048000,
      "rowLimit": 10000
     },
     "inputWidgets": {},
     "nuid": "45536498-8f92-4c76-84c8-7ca452b0d3d0",
     "showTitle": false,
     "title": ""
    }
   },
   "outputs": [],
   "source": [
    "song_df.to_csv(\"top songs\",index = False)"
   ]
  },
  {
   "cell_type": "code",
   "execution_count": 0,
   "metadata": {
    "application/vnd.databricks.v1+cell": {
     "cellMetadata": {
      "byteLimit": 2048000,
      "rowLimit": 10000
     },
     "inputWidgets": {},
     "nuid": "cfeb95cb-e19b-4ec2-ab51-3341382d3a9a",
     "showTitle": false,
     "title": ""
    }
   },
   "outputs": [
    {
     "output_type": "stream",
     "name": "stdout",
     "output_type": "stream",
     "text": [
      "Out[21]: [FileInfo(path='file:/databricks/driver/conf/', name='conf/', size=4096, modificationTime=1710926178381),\n FileInfo(path='file:/databricks/driver/preload_class.lst', name='preload_class.lst', size=1306936, modificationTime=1710926179741),\n FileInfo(path='file:/databricks/driver/azure/', name='azure/', size=4096, modificationTime=1710926179629),\n FileInfo(path='file:/databricks/driver/hadoop_accessed_config.lst', name='hadoop_accessed_config.lst', size=2755, modificationTime=1710926179661),\n FileInfo(path='file:/databricks/driver/ganglia/', name='ganglia/', size=4096, modificationTime=1710928802956),\n FileInfo(path='file:/databricks/driver/logs/', name='logs/', size=4096, modificationTime=1710929365060),\n FileInfo(path='file:/databricks/driver/eventlogs/', name='eventlogs/', size=4096, modificationTime=1710926432309),\n FileInfo(path='file:/databricks/driver/.cache', name='.cache', size=205, modificationTime=1710928862436),\n FileInfo(path='file:/databricks/driver/all_posts_info.csv', name='all_posts_info.csv', size=2181, modificationTime=1710926948189),\n FileInfo(path='file:/databricks/driver/metastore_db/', name='metastore_db/', size=4096, modificationTime=1710926774881),\n FileInfo(path='file:/databricks/driver/top songs', name='top songs', size=8660, modificationTime=1710929543548)]"
     ]
    }
   ],
   "source": [
    "dbutils.fs.ls('file:/databricks/driver')"
   ]
  },
  {
   "cell_type": "code",
   "execution_count": 0,
   "metadata": {
    "application/vnd.databricks.v1+cell": {
     "cellMetadata": {
      "byteLimit": 2048000,
      "rowLimit": 10000
     },
     "inputWidgets": {},
     "nuid": "203810af-4a66-406f-94a1-a23122aef948",
     "showTitle": false,
     "title": ""
    }
   },
   "outputs": [
    {
     "output_type": "stream",
     "name": "stdout",
     "output_type": "stream",
     "text": [
      "Out[22]: True"
     ]
    }
   ],
   "source": [
    "dbutils.fs.mv('file:/databricks/driver/top songs', '/top songs.csv', recurse=True)"
   ]
  },
  {
   "cell_type": "code",
   "execution_count": 0,
   "metadata": {
    "application/vnd.databricks.v1+cell": {
     "cellMetadata": {
      "byteLimit": 2048000,
      "rowLimit": 10000
     },
     "inputWidgets": {},
     "nuid": "81bada05-000e-438e-ad47-d781ab4fde84",
     "showTitle": false,
     "title": ""
    }
   },
   "outputs": [
    {
     "output_type": "stream",
     "name": "stdout",
     "output_type": "stream",
     "text": [
      "Python interpreter will be restarted.\nRequirement already satisfied: snowflake in /local_disk0/.ephemeral_nfs/envs/pythonEnv-98591cc9-b880-42aa-88a3-7ea0ccd9a8bd/lib/python3.9/site-packages (0.6.0)\nRequirement already satisfied: snowflake-core==0.6.0 in /local_disk0/.ephemeral_nfs/envs/pythonEnv-98591cc9-b880-42aa-88a3-7ea0ccd9a8bd/lib/python3.9/site-packages (from snowflake) (0.6.0)\nRequirement already satisfied: snowflake-legacy in /local_disk0/.ephemeral_nfs/envs/pythonEnv-98591cc9-b880-42aa-88a3-7ea0ccd9a8bd/lib/python3.9/site-packages (from snowflake) (0.5.0)\nRequirement already satisfied: python-dateutil>=2.8.2 in /databricks/python3/lib/python3.9/site-packages (from snowflake-core==0.6.0->snowflake) (2.8.2)\nRequirement already satisfied: pydantic>=1.10.7 in /local_disk0/.ephemeral_nfs/envs/pythonEnv-98591cc9-b880-42aa-88a3-7ea0ccd9a8bd/lib/python3.9/site-packages (from snowflake-core==0.6.0->snowflake) (2.6.4)\nRequirement already satisfied: urllib3 in /databricks/python3/lib/python3.9/site-packages (from snowflake-core==0.6.0->snowflake) (1.26.9)\nRequirement already satisfied: snowflake-snowpark-python<2.0.0,>=1.5.0 in /local_disk0/.ephemeral_nfs/envs/pythonEnv-98591cc9-b880-42aa-88a3-7ea0ccd9a8bd/lib/python3.9/site-packages (from snowflake-core==0.6.0->snowflake) (1.13.0)\nRequirement already satisfied: atpublic>=4 in /local_disk0/.ephemeral_nfs/envs/pythonEnv-98591cc9-b880-42aa-88a3-7ea0ccd9a8bd/lib/python3.9/site-packages (from snowflake-core==0.6.0->snowflake) (4.0)\nRequirement already satisfied: annotated-types>=0.4.0 in /local_disk0/.ephemeral_nfs/envs/pythonEnv-98591cc9-b880-42aa-88a3-7ea0ccd9a8bd/lib/python3.9/site-packages (from pydantic>=1.10.7->snowflake-core==0.6.0->snowflake) (0.6.0)\nRequirement already satisfied: typing-extensions>=4.6.1 in /local_disk0/.ephemeral_nfs/envs/pythonEnv-98591cc9-b880-42aa-88a3-7ea0ccd9a8bd/lib/python3.9/site-packages (from pydantic>=1.10.7->snowflake-core==0.6.0->snowflake) (4.10.0)\nRequirement already satisfied: pydantic-core==2.16.3 in /local_disk0/.ephemeral_nfs/envs/pythonEnv-98591cc9-b880-42aa-88a3-7ea0ccd9a8bd/lib/python3.9/site-packages (from pydantic>=1.10.7->snowflake-core==0.6.0->snowflake) (2.16.3)\nRequirement already satisfied: six>=1.5 in /databricks/python3/lib/python3.9/site-packages (from python-dateutil>=2.8.2->snowflake-core==0.6.0->snowflake) (1.16.0)\nRequirement already satisfied: wheel in /databricks/python3/lib/python3.9/site-packages (from snowflake-snowpark-python<2.0.0,>=1.5.0->snowflake-core==0.6.0->snowflake) (0.37.0)\nRequirement already satisfied: setuptools>=40.6.0 in /databricks/python3/lib/python3.9/site-packages (from snowflake-snowpark-python<2.0.0,>=1.5.0->snowflake-core==0.6.0->snowflake) (61.2.0)\nRequirement already satisfied: cloudpickle!=2.1.0,!=2.2.0,<=2.2.1,>=1.6.0 in /local_disk0/.ephemeral_nfs/envs/pythonEnv-98591cc9-b880-42aa-88a3-7ea0ccd9a8bd/lib/python3.9/site-packages (from snowflake-snowpark-python<2.0.0,>=1.5.0->snowflake-core==0.6.0->snowflake) (2.2.1)\nRequirement already satisfied: snowflake-connector-python<4.0.0,>=3.6.0 in /local_disk0/.ephemeral_nfs/envs/pythonEnv-98591cc9-b880-42aa-88a3-7ea0ccd9a8bd/lib/python3.9/site-packages (from snowflake-snowpark-python<2.0.0,>=1.5.0->snowflake-core==0.6.0->snowflake) (3.7.1)\nRequirement already satisfied: pyyaml in /local_disk0/.ephemeral_nfs/envs/pythonEnv-98591cc9-b880-42aa-88a3-7ea0ccd9a8bd/lib/python3.9/site-packages (from snowflake-snowpark-python<2.0.0,>=1.5.0->snowflake-core==0.6.0->snowflake) (6.0.1)\nRequirement already satisfied: asn1crypto<2.0.0,>0.24.0 in /local_disk0/.ephemeral_nfs/envs/pythonEnv-98591cc9-b880-42aa-88a3-7ea0ccd9a8bd/lib/python3.9/site-packages (from snowflake-connector-python<4.0.0,>=3.6.0->snowflake-snowpark-python<2.0.0,>=1.5.0->snowflake-core==0.6.0->snowflake) (1.5.1)\nRequirement already satisfied: pyjwt<3.0.0 in /local_disk0/.ephemeral_nfs/envs/pythonEnv-98591cc9-b880-42aa-88a3-7ea0ccd9a8bd/lib/python3.9/site-packages (from snowflake-connector-python<4.0.0,>=3.6.0->snowflake-snowpark-python<2.0.0,>=1.5.0->snowflake-core==0.6.0->snowflake) (2.8.0)\nRequirement already satisfied: platformdirs<4.0.0,>=2.6.0 in /usr/local/lib/python3.9/dist-packages (from snowflake-connector-python<4.0.0,>=3.6.0->snowflake-snowpark-python<2.0.0,>=1.5.0->snowflake-core==0.6.0->snowflake) (2.6.2)\nRequirement already satisfied: pyOpenSSL<25.0.0,>=16.2.0 in /local_disk0/.ephemeral_nfs/envs/pythonEnv-98591cc9-b880-42aa-88a3-7ea0ccd9a8bd/lib/python3.9/site-packages (from snowflake-connector-python<4.0.0,>=3.6.0->snowflake-snowpark-python<2.0.0,>=1.5.0->snowflake-core==0.6.0->snowflake) (24.1.0)\nRequirement already satisfied: filelock<4,>=3.5 in /usr/local/lib/python3.9/dist-packages (from snowflake-connector-python<4.0.0,>=3.6.0->snowflake-snowpark-python<2.0.0,>=1.5.0->snowflake-core==0.6.0->snowflake) (3.9.0)\nRequirement already satisfied: tomlkit in /local_disk0/.ephemeral_nfs/envs/pythonEnv-98591cc9-b880-42aa-88a3-7ea0ccd9a8bd/lib/python3.9/site-packages (from snowflake-connector-python<4.0.0,>=3.6.0->snowflake-snowpark-python<2.0.0,>=1.5.0->snowflake-core==0.6.0->snowflake) (0.12.4)\nRequirement already satisfied: cryptography<43.0.0,>=3.1.0 in /local_disk0/.ephemeral_nfs/envs/pythonEnv-98591cc9-b880-42aa-88a3-7ea0ccd9a8bd/lib/python3.9/site-packages (from snowflake-connector-python<4.0.0,>=3.6.0->snowflake-snowpark-python<2.0.0,>=1.5.0->snowflake-core==0.6.0->snowflake) (42.0.5)\nRequirement already satisfied: charset-normalizer<4,>=2 in /databricks/python3/lib/python3.9/site-packages (from snowflake-connector-python<4.0.0,>=3.6.0->snowflake-snowpark-python<2.0.0,>=1.5.0->snowflake-core==0.6.0->snowflake) (2.0.4)\nRequirement already satisfied: pytz in /databricks/python3/lib/python3.9/site-packages (from snowflake-connector-python<4.0.0,>=3.6.0->snowflake-snowpark-python<2.0.0,>=1.5.0->snowflake-core==0.6.0->snowflake) (2021.3)\nRequirement already satisfied: certifi>=2017.4.17 in /databricks/python3/lib/python3.9/site-packages (from snowflake-connector-python<4.0.0,>=3.6.0->snowflake-snowpark-python<2.0.0,>=1.5.0->snowflake-core==0.6.0->snowflake) (2021.10.8)\nRequirement already satisfied: idna<4,>=2.5 in /databricks/python3/lib/python3.9/site-packages (from snowflake-connector-python<4.0.0,>=3.6.0->snowflake-snowpark-python<2.0.0,>=1.5.0->snowflake-core==0.6.0->snowflake) (3.3)\nRequirement already satisfied: packaging in /databricks/python3/lib/python3.9/site-packages (from snowflake-connector-python<4.0.0,>=3.6.0->snowflake-snowpark-python<2.0.0,>=1.5.0->snowflake-core==0.6.0->snowflake) (21.3)\nRequirement already satisfied: cffi<2.0.0,>=1.9 in /databricks/python3/lib/python3.9/site-packages (from snowflake-connector-python<4.0.0,>=3.6.0->snowflake-snowpark-python<2.0.0,>=1.5.0->snowflake-core==0.6.0->snowflake) (1.15.0)\nRequirement already satisfied: sortedcontainers>=2.4.0 in /local_disk0/.ephemeral_nfs/envs/pythonEnv-98591cc9-b880-42aa-88a3-7ea0ccd9a8bd/lib/python3.9/site-packages (from snowflake-connector-python<4.0.0,>=3.6.0->snowflake-snowpark-python<2.0.0,>=1.5.0->snowflake-core==0.6.0->snowflake) (2.4.0)\nRequirement already satisfied: requests<3.0.0 in /databricks/python3/lib/python3.9/site-packages (from snowflake-connector-python<4.0.0,>=3.6.0->snowflake-snowpark-python<2.0.0,>=1.5.0->snowflake-core==0.6.0->snowflake) (2.27.1)\nRequirement already satisfied: pycparser in /databricks/python3/lib/python3.9/site-packages (from cffi<2.0.0,>=1.9->snowflake-connector-python<4.0.0,>=3.6.0->snowflake-snowpark-python<2.0.0,>=1.5.0->snowflake-core==0.6.0->snowflake) (2.21)\nRequirement already satisfied: pyparsing!=3.0.5,>=2.0.2 in /databricks/python3/lib/python3.9/site-packages (from packaging->snowflake-connector-python<4.0.0,>=3.6.0->snowflake-snowpark-python<2.0.0,>=1.5.0->snowflake-core==0.6.0->snowflake) (3.0.4)\nPython interpreter will be restarted.\nPython interpreter will be restarted.\nRequirement already satisfied: snowflake-connector-python in /local_disk0/.ephemeral_nfs/envs/pythonEnv-98591cc9-b880-42aa-88a3-7ea0ccd9a8bd/lib/python3.9/site-packages (3.7.1)\nRequirement already satisfied: asn1crypto<2.0.0,>0.24.0 in /local_disk0/.ephemeral_nfs/envs/pythonEnv-98591cc9-b880-42aa-88a3-7ea0ccd9a8bd/lib/python3.9/site-packages (from snowflake-connector-python) (1.5.1)\nRequirement already satisfied: pyjwt<3.0.0 in /local_disk0/.ephemeral_nfs/envs/pythonEnv-98591cc9-b880-42aa-88a3-7ea0ccd9a8bd/lib/python3.9/site-packages (from snowflake-connector-python) (2.8.0)\nRequirement already satisfied: platformdirs<4.0.0,>=2.6.0 in /usr/local/lib/python3.9/dist-packages (from snowflake-connector-python) (2.6.2)\nRequirement already satisfied: pyOpenSSL<25.0.0,>=16.2.0 in /local_disk0/.ephemeral_nfs/envs/pythonEnv-98591cc9-b880-42aa-88a3-7ea0ccd9a8bd/lib/python3.9/site-packages (from snowflake-connector-python) (24.1.0)\nRequirement already satisfied: filelock<4,>=3.5 in /usr/local/lib/python3.9/dist-packages (from snowflake-connector-python) (3.9.0)\nRequirement already satisfied: tomlkit in /local_disk0/.ephemeral_nfs/envs/pythonEnv-98591cc9-b880-42aa-88a3-7ea0ccd9a8bd/lib/python3.9/site-packages (from snowflake-connector-python) (0.12.4)\nRequirement already satisfied: cryptography<43.0.0,>=3.1.0 in /local_disk0/.ephemeral_nfs/envs/pythonEnv-98591cc9-b880-42aa-88a3-7ea0ccd9a8bd/lib/python3.9/site-packages (from snowflake-connector-python) (42.0.5)\nRequirement already satisfied: charset-normalizer<4,>=2 in /databricks/python3/lib/python3.9/site-packages (from snowflake-connector-python) (2.0.4)\nRequirement already satisfied: pytz in /databricks/python3/lib/python3.9/site-packages (from snowflake-connector-python) (2021.3)\nRequirement already satisfied: certifi>=2017.4.17 in /databricks/python3/lib/python3.9/site-packages (from snowflake-connector-python) (2021.10.8)\nRequirement already satisfied: urllib3<2.0.0,>=1.21.1 in /databricks/python3/lib/python3.9/site-packages (from snowflake-connector-python) (1.26.9)\nRequirement already satisfied: idna<4,>=2.5 in /databricks/python3/lib/python3.9/site-packages (from snowflake-connector-python) (3.3)\nRequirement already satisfied: packaging in /databricks/python3/lib/python3.9/site-packages (from snowflake-connector-python) (21.3)\nRequirement already satisfied: typing-extensions<5,>=4.3 in /local_disk0/.ephemeral_nfs/envs/pythonEnv-98591cc9-b880-42aa-88a3-7ea0ccd9a8bd/lib/python3.9/site-packages (from snowflake-connector-python) (4.10.0)\nRequirement already satisfied: cffi<2.0.0,>=1.9 in /databricks/python3/lib/python3.9/site-packages (from snowflake-connector-python) (1.15.0)\nRequirement already satisfied: sortedcontainers>=2.4.0 in /local_disk0/.ephemeral_nfs/envs/pythonEnv-98591cc9-b880-42aa-88a3-7ea0ccd9a8bd/lib/python3.9/site-packages (from snowflake-connector-python) (2.4.0)\nRequirement already satisfied: requests<3.0.0 in /databricks/python3/lib/python3.9/site-packages (from snowflake-connector-python) (2.27.1)\nRequirement already satisfied: pycparser in /databricks/python3/lib/python3.9/site-packages (from cffi<2.0.0,>=1.9->snowflake-connector-python) (2.21)\nRequirement already satisfied: pyparsing!=3.0.5,>=2.0.2 in /databricks/python3/lib/python3.9/site-packages (from packaging->snowflake-connector-python) (3.0.4)\nPython interpreter will be restarted.\n"
     ]
    }
   ],
   "source": [
    "%pip install snowflake\n",
    "%pip install snowflake-connector-python\n",
    "\n",
    "import pandas as pd\n",
    "from pyspark.sql import SparkSession\n",
    "import snowflake.connector\n",
    "\n",
    "# Snowflake connection parameters\n",
    "account = 'My Account'\n",
    "user = 'My User Name'\n",
    "password = 'My Password'\n",
    "warehouse = 'My Warehouse Name'\n",
    "database = 'My Database Name'\n",
    "schema = 'My Schema Name'\n",
    "table_name = 'My Table Name'  # Table name without '.csv' suffix\n",
    "\n",
    "# Snowflake URL\n",
    "snowflake_url = ''\n",
    "\n",
    "# Load CSV into a Spark DataFrame\n",
    "# file_path = \"/games_table1.csv/part-00000-tid-7662509018983859286-e9725b8e-b65d-492e-a84f-bce0f1026892-129-1-c000.csv\"\n",
    "file_path = \"/top songs.csv\"\n",
    "spark = SparkSession.builder.appName(\"SnowflakeIntegration\").getOrCreate()\n",
    "df = spark.read.csv(file_path, header=True, inferSchema=True)\n",
    "\n",
    "# Snowflake connection\n",
    "conn = snowflake.connector.connect(\n",
    "    user=user,\n",
    "    password=password,\n",
    "    account=account,\n",
    "    warehouse=warehouse,\n",
    "    database=database,\n",
    "    schema=schema,\n",
    "    sfURL=snowflake_url  # Include Snowflake URL\n",
    ")\n",
    "\n",
    "# Create cursor\n",
    "cur = conn.cursor()\n",
    "\n",
    "# Replace spaces and dots in table name\n",
    "table_name_sanitized = table_name.replace(' ', '_').replace('.', '_')\n",
    "\n",
    "# Create table in Snowflake with dynamically generated column definitions\n",
    "column_definitions = ', '.join([f'\"{col}\" STRING' for col in df.columns])\n",
    "cur.execute(f'CREATE OR REPLACE TABLE \"{schema}\".\"{table_name_sanitized}\" ({column_definitions})')\n",
    "\n",
    "# Write DataFrame to Snowflake table\n",
    "df.write.format(\"snowflake\") \\\n",
    "    .option(\"sfURL\", snowflake_url) \\\n",
    "    .option(\"sfUser\", user) \\\n",
    "    .option(\"sfPassword\", password) \\\n",
    "    .option(\"sfDatabase\", database) \\\n",
    "    .option(\"sfSchema\", schema) \\\n",
    "    .option(\"sfWarehouse\", warehouse) \\\n",
    "    .option(\"dbtable\", table_name_sanitized) \\\n",
    "    .mode(\"overwrite\") \\\n",
    "    .save()\n",
    "\n",
    "# Commit the transaction\n",
    "conn.commit()\n",
    "\n",
    "# Close cursor and connection\n",
    "cur.close()\n",
    "conn.close()\n"
   ]
  }
 ],
 "metadata": {
  "application/vnd.databricks.v1+notebook": {
   "dashboards": [],
   "language": "python",
   "notebookMetadata": {
    "mostRecentlyExecutedCommandWithImplicitDF": {
     "commandId": 3270499852061026,
     "dataframes": [
      "_sqldf"
     ]
    },
    "pythonIndentUnit": 4
   },
   "notebookName": "4.API Spotify",
   "widgets": {}
  }
 },
 "nbformat": 4,
 "nbformat_minor": 0
}
